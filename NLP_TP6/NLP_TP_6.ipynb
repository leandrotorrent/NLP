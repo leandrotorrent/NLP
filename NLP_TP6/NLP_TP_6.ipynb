{
  "nbformat": 4,
  "nbformat_minor": 0,
  "metadata": {
    "colab": {
      "provenance": [],
      "gpuType": "T4"
    },
    "kernelspec": {
      "name": "python3",
      "display_name": "Python 3"
    },
    "language_info": {
      "name": "python"
    },
    "accelerator": "GPU"
  },
  "cells": [
    {
      "cell_type": "markdown",
      "metadata": {
        "id": "pfa39F4lsLf3"
      },
      "source": [
        "<a href=\"https://www.inove.com.ar\"><img src=\"https://github.com/hernancontigiani/ceia_memorias_especializacion/raw/master/Figures/logoFIUBA.jpg\" width=\"500\" align=\"center\"></a>\n",
        "\n",
        "\n",
        "# Procesamiento de lenguaje natural\n",
        "## LSTM Bot QA"
      ]
    },
    {
      "cell_type": "markdown",
      "metadata": {
        "id": "ZqO0PRcFsPTe"
      },
      "source": [
        "### Datos\n",
        "El objecto es utilizar datos disponibles de convai de conversaciones en ingleś. Se construirá un BOT para responder a preguntas del usuario (QA).\\\n",
        "[LINK](http://convai.io/data/)"
      ]
    },
    {
      "cell_type": "code",
      "metadata": {
        "id": "cq3YXak9sGHd"
      },
      "source": [
        "import re\n",
        "\n",
        "import numpy as np\n",
        "import pandas as pd\n",
        "\n",
        "import keras\n",
        "from keras.models import Sequential\n",
        "from keras.preprocessing.text import one_hot\n",
        "from keras.utils import pad_sequences\n",
        "from keras.models import Sequential\n",
        "from keras.layers.core import Activation, Dropout, Dense\n",
        "from keras.layers import Flatten, LSTM, SimpleRNN\n",
        "from keras.models import Model\n",
        "from keras.layers import Embedding\n",
        "from sklearn.model_selection import train_test_split\n",
        "from keras.preprocessing.text import Tokenizer\n",
        "from keras.layers import Input\n",
        "from keras.layers import Concatenate\n",
        "from keras.layers import Bidirectional"
      ],
      "execution_count": 4,
      "outputs": []
    },
    {
      "cell_type": "code",
      "metadata": {
        "id": "RHNkUaPp6aYq",
        "colab": {
          "base_uri": "https://localhost:8080/"
        },
        "outputId": "845c4121-6d68-4b22-9edb-e80fd286695a"
      },
      "source": [
        "# Descargar la carpeta de dataset\n",
        "import os\n",
        "import gdown\n",
        "if os.access('data_volunteers.json', os.F_OK) is False:\n",
        "    url = 'https://drive.google.com/uc?id=1QPYxMTBSGNmbyGhknznuO3YWLBOJnhUQ&export=download'\n",
        "    output = 'data_volunteers.json'\n",
        "    gdown.download(url, output, quiet=False)\n",
        "else:\n",
        "    print(\"El dataset ya se encuentra descargado\")"
      ],
      "execution_count": 5,
      "outputs": [
        {
          "output_type": "stream",
          "name": "stderr",
          "text": [
            "Downloading...\n",
            "From: https://drive.google.com/uc?id=1QPYxMTBSGNmbyGhknznuO3YWLBOJnhUQ&export=download\n",
            "To: /content/data_volunteers.json\n",
            "100%|██████████| 2.58M/2.58M [00:00<00:00, 204MB/s]\n"
          ]
        }
      ]
    },
    {
      "cell_type": "code",
      "metadata": {
        "id": "WZy1-wgG-Rp7"
      },
      "source": [
        "# dataset_file\n",
        "import json\n",
        "\n",
        "text_file = \"data_volunteers.json\"\n",
        "with open(text_file) as f:\n",
        "    data = json.load(f)\n",
        "\n"
      ],
      "execution_count": 6,
      "outputs": []
    },
    {
      "cell_type": "code",
      "metadata": {
        "id": "ue5qd54S-eew",
        "colab": {
          "base_uri": "https://localhost:8080/"
        },
        "outputId": "884c4638-487f-4e3f-82c9-1bfbd21bfd38"
      },
      "source": [
        "# Observar los campos disponibles en cada linea del dataset\n",
        "data[0].keys()"
      ],
      "execution_count": 7,
      "outputs": [
        {
          "output_type": "execute_result",
          "data": {
            "text/plain": [
              "dict_keys(['dialog', 'start_time', 'end_time', 'bot_profile', 'user_profile', 'eval_score', 'profile_match', 'participant1_id', 'participant2_id'])"
            ]
          },
          "metadata": {},
          "execution_count": 7
        }
      ]
    },
    {
      "cell_type": "code",
      "metadata": {
        "id": "jHBRAXPl-3dz",
        "colab": {
          "base_uri": "https://localhost:8080/"
        },
        "outputId": "f3553ec6-191a-4c80-c79d-d1ef2a61f530"
      },
      "source": [
        "chat_in = []\n",
        "chat_out = []\n",
        "\n",
        "input_sentences = []\n",
        "output_sentences = []\n",
        "output_sentences_inputs = []\n",
        "max_len = 30\n",
        "\n",
        "def clean_text(txt):\n",
        "    txt = txt.lower()\n",
        "    txt.replace(\"\\'d\", \" had\")\n",
        "    txt.replace(\"\\'s\", \" is\")\n",
        "    txt.replace(\"\\'m\", \" am\")\n",
        "    txt.replace(\"don't\", \"do not\")\n",
        "    txt = re.sub(r'\\W+', ' ', txt)\n",
        "\n",
        "    return txt\n",
        "\n",
        "for line in data:\n",
        "    for i in range(len(line['dialog'])-1):\n",
        "        chat_in = clean_text(line['dialog'][i]['text'])\n",
        "        chat_out = clean_text(line['dialog'][i+1]['text'])\n",
        "\n",
        "        if len(chat_in) >= max_len or len(chat_out) >= max_len:\n",
        "            continue\n",
        "\n",
        "        input_sentence, output = chat_in, chat_out\n",
        "\n",
        "        # output sentence (decoder_output) tiene <eos>\n",
        "        output_sentence = output + ' <eos>'\n",
        "        # output sentence input (decoder_input) tiene <sos>\n",
        "        output_sentence_input = '<sos> ' + output\n",
        "\n",
        "        input_sentences.append(input_sentence)\n",
        "        output_sentences.append(output_sentence)\n",
        "        output_sentences_inputs.append(output_sentence_input)\n",
        "\n",
        "print(\"Cantidad de rows utilizadas:\", len(input_sentences))"
      ],
      "execution_count": 9,
      "outputs": [
        {
          "output_type": "stream",
          "name": "stdout",
          "text": [
            "Cantidad de rows utilizadas: 6033\n"
          ]
        }
      ]
    },
    {
      "cell_type": "code",
      "metadata": {
        "id": "07L1qj8pC_l6",
        "colab": {
          "base_uri": "https://localhost:8080/"
        },
        "outputId": "191534f5-3f82-481d-b310-6be410ecb664"
      },
      "source": [
        "input_sentences[1], output_sentences[1], output_sentences_inputs[1]"
      ],
      "execution_count": 10,
      "outputs": [
        {
          "output_type": "execute_result",
          "data": {
            "text/plain": [
              "('hi how are you ', 'not bad and you  <eos>', '<sos> not bad and you ')"
            ]
          },
          "metadata": {},
          "execution_count": 10
        }
      ]
    },
    {
      "cell_type": "markdown",
      "metadata": {
        "id": "8P-ynUNP5xp6"
      },
      "source": [
        "### 2 - Preprocesamiento\n",
        "Realizar el preprocesamiento necesario para obtener:\n",
        "- word2idx_inputs, max_input_len\n",
        "- word2idx_outputs, max_out_len, num_words_output\n",
        "- encoder_input_sequences, decoder_output_sequences, decoder_targets"
      ]
    },
    {
      "cell_type": "code",
      "metadata": {
        "id": "gpEzHY3cwUfM"
      },
      "source": [
        "# Definir el tamaño máximo del vocabulario\n",
        "vocab_max = 10000"
      ],
      "execution_count": 11,
      "outputs": []
    },
    {
      "cell_type": "code",
      "metadata": {
        "colab": {
          "base_uri": "https://localhost:8080/"
        },
        "id": "oe923hozwZtt",
        "outputId": "be1a065c-829e-4cd1-f1b1-a1deba9ae5a9"
      },
      "source": [
        "from keras.preprocessing.text import Tokenizer\n",
        "input_tokenizer = Tokenizer(num_words=vocab_max)\n",
        "input_tokenizer.fit_on_texts(input_sentences)\n",
        "input_integer_seq = input_tokenizer.texts_to_sequences(input_sentences)\n",
        "\n",
        "word2idx_inputs = input_tokenizer.word_index\n",
        "print(\"Palabras en el vocabulario:\", len(word2idx_inputs))\n",
        "\n",
        "max_input_len = max(len(sen) for sen in input_integer_seq)\n",
        "print(\"Sentencia de entrada más larga:\", max_input_len)"
      ],
      "execution_count": 12,
      "outputs": [
        {
          "output_type": "stream",
          "name": "stdout",
          "text": [
            "Palabras en el vocabulario: 1799\n",
            "Sentencia de entrada más larga: 9\n"
          ]
        }
      ]
    },
    {
      "cell_type": "code",
      "metadata": {
        "colab": {
          "base_uri": "https://localhost:8080/"
        },
        "id": "S9e6rjsZx9Z-",
        "outputId": "1ae28b5e-f082-4bdf-eeb8-331710ddfa65"
      },
      "source": [
        "# A los filtros de símbolos del Tokenizer agregamos el \"¿\",\n",
        "# sacamos los \"<>\" para que no afectar nuestros tokens\n",
        "output_tokenizer = Tokenizer(num_words=vocab_max, filters='!\"#$%&()*+,-./:;=¿?@[\\\\]^_`{|}~\\t\\n')\n",
        "output_tokenizer.fit_on_texts([\"<sos>\", \"<eos>\"] + output_sentences)\n",
        "output_integer_seq = output_tokenizer.texts_to_sequences(output_sentences)\n",
        "output_input_integer_seq = output_tokenizer.texts_to_sequences(output_sentences_inputs)\n",
        "\n",
        "word2idx_outputs = output_tokenizer.word_index\n",
        "print(\"Palabras en el vocabulario:\", len(word2idx_outputs))\n",
        "\n",
        "num_words_output = min(len(word2idx_outputs) + 1, vocab_max) # Se suma 1 por el primer <sos>\n",
        "max_out_len = max(len(sen) for sen in output_integer_seq)\n",
        "print(\"Sentencia de salida más larga:\", max_out_len)"
      ],
      "execution_count": 13,
      "outputs": [
        {
          "output_type": "stream",
          "name": "stdout",
          "text": [
            "Palabras en el vocabulario: 1806\n",
            "Sentencia de salida más larga: 10\n"
          ]
        }
      ]
    },
    {
      "cell_type": "code",
      "metadata": {
        "id": "Ibw2P0x3zBb_"
      },
      "source": [
        "max_input_len = 9\n",
        "max_out_len = 10"
      ],
      "execution_count": 14,
      "outputs": []
    },
    {
      "cell_type": "code",
      "metadata": {
        "colab": {
          "base_uri": "https://localhost:8080/"
        },
        "id": "U3g1OkzwzFHz",
        "outputId": "40d101c7-8f89-4d79-d57a-7495c16ffa03"
      },
      "source": [
        "print(\"Cantidad de rows del dataset:\", len(input_integer_seq))\n",
        "\n",
        "encoder_input_sequences = pad_sequences(input_integer_seq, maxlen=max_input_len)\n",
        "print(\"encoder_input_sequences shape:\", encoder_input_sequences.shape)\n",
        "\n",
        "decoder_input_sequences = pad_sequences(output_input_integer_seq, maxlen=max_out_len, padding='post')\n",
        "print(\"decoder_input_sequences shape:\", decoder_input_sequences.shape)"
      ],
      "execution_count": 15,
      "outputs": [
        {
          "output_type": "stream",
          "name": "stdout",
          "text": [
            "Cantidad de rows del dataset: 6033\n",
            "encoder_input_sequences shape: (6033, 9)\n",
            "decoder_input_sequences shape: (6033, 10)\n"
          ]
        }
      ]
    },
    {
      "cell_type": "code",
      "metadata": {
        "colab": {
          "base_uri": "https://localhost:8080/"
        },
        "id": "58WG0cOlzomv",
        "outputId": "2364953c-59f2-416a-dc55-a59febdd6dbe"
      },
      "source": [
        "from keras.utils.np_utils import to_categorical\n",
        "decoder_output_sequences = pad_sequences(output_integer_seq, maxlen=max_out_len, padding='post')\n",
        "decoder_targets = to_categorical(decoder_output_sequences, num_classes=num_words_output)\n",
        "decoder_targets.shape"
      ],
      "execution_count": 16,
      "outputs": [
        {
          "output_type": "execute_result",
          "data": {
            "text/plain": [
              "(6033, 10, 1807)"
            ]
          },
          "metadata": {},
          "execution_count": 16
        }
      ]
    },
    {
      "cell_type": "markdown",
      "metadata": {
        "id": "_CJIsLBbj6rg"
      },
      "source": [
        "### 3 - Preparar los embeddings\n",
        "Utilizar los embeddings de Glove o FastText para transformar los tokens de entrada en vectores"
      ]
    },
    {
      "cell_type": "code",
      "metadata": {
        "colab": {
          "base_uri": "https://localhost:8080/"
        },
        "id": "72SKtnCV0JAZ",
        "outputId": "1ea7e148-daa7-44a7-a9dd-606d62352ee2"
      },
      "source": [
        "import os\n",
        "import gdown\n",
        "if os.access('gloveembedding.pkl', os.F_OK) is False:\n",
        "    url = 'https://drive.google.com/uc?id=1wlDBOrxPq2-3htQ6ryVo7K1XnzLcfh4r&export=download'\n",
        "    output = 'gloveembedding.pkl'\n",
        "    gdown.download(url, output, quiet=False)\n",
        "else:\n",
        "    print(\"Los embeddings gloveembedding.pkl ya están descargados\")"
      ],
      "execution_count": 17,
      "outputs": [
        {
          "output_type": "stream",
          "name": "stderr",
          "text": [
            "Downloading...\n",
            "From: https://drive.google.com/uc?id=1wlDBOrxPq2-3htQ6ryVo7K1XnzLcfh4r&export=download\n",
            "To: /content/gloveembedding.pkl\n",
            "100%|██████████| 525M/525M [00:05<00:00, 101MB/s]\n"
          ]
        }
      ]
    },
    {
      "cell_type": "code",
      "metadata": {
        "id": "ksvGvEQ50KmK"
      },
      "source": [
        "import logging\n",
        "import os\n",
        "from pathlib import Path\n",
        "from io import StringIO\n",
        "import pickle\n",
        "\n",
        "class WordsEmbeddings(object):\n",
        "    logger = logging.getLogger(__name__)\n",
        "\n",
        "    def __init__(self):\n",
        "        # load the embeddings\n",
        "        words_embedding_pkl = Path(self.PKL_PATH)\n",
        "        if not words_embedding_pkl.is_file():\n",
        "            words_embedding_txt = Path(self.WORD_TO_VEC_MODEL_TXT_PATH)\n",
        "            assert words_embedding_txt.is_file(), 'Words embedding not available'\n",
        "            embeddings = self.convert_model_to_pickle()\n",
        "        else:\n",
        "            embeddings = self.load_model_from_pickle()\n",
        "        self.embeddings = embeddings\n",
        "        # build the vocabulary hashmap\n",
        "        index = np.arange(self.embeddings.shape[0])\n",
        "        # Dicctionarios para traducir de embedding a IDX de la palabra\n",
        "        self.word2idx = dict(zip(self.embeddings['word'], index))\n",
        "        self.idx2word = dict(zip(index, self.embeddings['word']))\n",
        "\n",
        "    def get_words_embeddings(self, words):\n",
        "        words_idxs = self.words2idxs(words)\n",
        "        return self.embeddings[words_idxs]['embedding']\n",
        "\n",
        "    def words2idxs(self, words):\n",
        "        return np.array([self.word2idx.get(word, -1) for word in words])\n",
        "\n",
        "    def idxs2words(self, idxs):\n",
        "        return np.array([self.idx2word.get(idx, '-1') for idx in idxs])\n",
        "\n",
        "    def load_model_from_pickle(self):\n",
        "        self.logger.debug(\n",
        "            'loading words embeddings from pickle {}'.format(\n",
        "                self.PKL_PATH\n",
        "            )\n",
        "        )\n",
        "        max_bytes = 2**28 - 1 # 256MB\n",
        "        bytes_in = bytearray(0)\n",
        "        input_size = os.path.getsize(self.PKL_PATH)\n",
        "        with open(self.PKL_PATH, 'rb') as f_in:\n",
        "            for _ in range(0, input_size, max_bytes):\n",
        "                bytes_in += f_in.read(max_bytes)\n",
        "        embeddings = pickle.loads(bytes_in)\n",
        "        self.logger.debug('words embeddings loaded')\n",
        "        return embeddings\n",
        "\n",
        "    def convert_model_to_pickle(self):\n",
        "        # create a numpy strctured array:\n",
        "        # word     embedding\n",
        "        # U50      np.float32[]\n",
        "        # word_1   a, b, c\n",
        "        # word_2   d, e, f\n",
        "        # ...\n",
        "        # word_n   g, h, i\n",
        "        self.logger.debug(\n",
        "            'converting and loading words embeddings from text file {}'.format(\n",
        "                self.WORD_TO_VEC_MODEL_TXT_PATH\n",
        "            )\n",
        "        )\n",
        "        structure = [('word', np.dtype('U' + str(self.WORD_MAX_SIZE))),\n",
        "                     ('embedding', np.float32, (self.N_FEATURES,))]\n",
        "        structure = np.dtype(structure)\n",
        "        # load numpy array from disk using a generator\n",
        "        with open(self.WORD_TO_VEC_MODEL_TXT_PATH, encoding=\"utf8\") as words_embeddings_txt:\n",
        "            embeddings_gen = (\n",
        "                (line.split()[0], line.split()[1:]) for line in words_embeddings_txt\n",
        "                if len(line.split()[1:]) == self.N_FEATURES\n",
        "            )\n",
        "            embeddings = np.fromiter(embeddings_gen, structure)\n",
        "        # add a null embedding\n",
        "        null_embedding = np.array(\n",
        "            [('null_embedding', np.zeros((self.N_FEATURES,), dtype=np.float32))],\n",
        "            dtype=structure\n",
        "        )\n",
        "        embeddings = np.concatenate([embeddings, null_embedding])\n",
        "        # dump numpy array to disk using pickle\n",
        "        max_bytes = 2**28 - 1 # # 256MB\n",
        "        bytes_out = pickle.dumps(embeddings, protocol=pickle.HIGHEST_PROTOCOL)\n",
        "        with open(self.PKL_PATH, 'wb') as f_out:\n",
        "            for idx in range(0, len(bytes_out), max_bytes):\n",
        "                f_out.write(bytes_out[idx:idx+max_bytes])\n",
        "        self.logger.debug('words embeddings loaded')\n",
        "        return embeddings\n",
        "\n",
        "\n",
        "class GloveEmbeddings(WordsEmbeddings):\n",
        "    WORD_TO_VEC_MODEL_TXT_PATH = 'glove.twitter.27B.50d.txt'\n",
        "    PKL_PATH = 'gloveembedding.pkl'\n",
        "    N_FEATURES = 50\n",
        "    WORD_MAX_SIZE = 60\n",
        "\n",
        "class FasttextEmbeddings(WordsEmbeddings):\n",
        "    WORD_TO_VEC_MODEL_TXT_PATH = 'cc.en.300.vec'\n",
        "    PKL_PATH = 'fasttext.pkl'\n",
        "    N_FEATURES = 300\n",
        "    WORD_MAX_SIZE = 60"
      ],
      "execution_count": 18,
      "outputs": []
    },
    {
      "cell_type": "code",
      "metadata": {
        "id": "e-z0xHxU0zak"
      },
      "source": [
        "model_embeddings = GloveEmbeddings()"
      ],
      "execution_count": 19,
      "outputs": []
    },
    {
      "cell_type": "code",
      "metadata": {
        "colab": {
          "base_uri": "https://localhost:8080/"
        },
        "id": "sZ-etirz1yXx",
        "outputId": "79ec0e90-0f88-4361-818b-285230bfa49b"
      },
      "source": [
        "# Crear la Embedding matrix de las secuencias\n",
        "# en ingles\n",
        "\n",
        "print('preparing embedding matrix...')\n",
        "embed_dim = model_embeddings.N_FEATURES\n",
        "words_not_found = []\n",
        "\n",
        "# word_index provieen del tokenizer\n",
        "\n",
        "nb_words = min(vocab_max, len(word2idx_inputs)) # vocab_size\n",
        "embedding_matrix = np.zeros((nb_words, embed_dim))\n",
        "for word, i in word2idx_inputs.items():\n",
        "    if i >= nb_words:\n",
        "        continue\n",
        "    embedding_vector = model_embeddings.get_words_embeddings(word)[0]\n",
        "    if (embedding_vector is not None) and len(embedding_vector) > 0:\n",
        "\n",
        "        embedding_matrix[i] = embedding_vector\n",
        "    else:\n",
        "        # words not found in embedding index will be all-zeros.\n",
        "        words_not_found.append(word)\n",
        "\n",
        "print('number of null word embeddings:', np.sum(np.sum(embedding_matrix, axis=1) == 0))"
      ],
      "execution_count": 20,
      "outputs": [
        {
          "output_type": "stream",
          "name": "stdout",
          "text": [
            "preparing embedding matrix...\n",
            "number of null word embeddings: 38\n"
          ]
        }
      ]
    },
    {
      "cell_type": "code",
      "metadata": {
        "colab": {
          "base_uri": "https://localhost:8080/"
        },
        "id": "K3W4KwKk19jU",
        "outputId": "cb828118-9e17-4e43-d3cd-a07be184d10e"
      },
      "source": [
        "# Dimensión de los embeddings de la secuencia en ingles\n",
        "embedding_matrix.shape"
      ],
      "execution_count": 21,
      "outputs": [
        {
          "output_type": "execute_result",
          "data": {
            "text/plain": [
              "(1799, 50)"
            ]
          },
          "metadata": {},
          "execution_count": 21
        }
      ]
    },
    {
      "cell_type": "markdown",
      "metadata": {
        "id": "3vKbhjtIwPgM"
      },
      "source": [
        "### 4 - Entrenar el modelo\n",
        "Entrenar un modelo basado en el esquema encoder-decoder utilizando los datos generados en los puntos anteriores. Utilce como referencias los ejemplos vistos en clase."
      ]
    },
    {
      "cell_type": "code",
      "metadata": {
        "colab": {
          "base_uri": "https://localhost:8080/"
        },
        "id": "4cBLJItMsFL3",
        "outputId": "a4f3a4b4-7351-4656-8bfa-20f309ea9d2a"
      },
      "source": [
        "from keras.models import Model\n",
        "from keras.layers import Input, LSTM, Dense\n",
        "\n",
        "n_units = 128\n",
        "\n",
        "# define training encoder\n",
        "encoder_inputs = Input(shape=(max_input_len))\n",
        "\n",
        "#encoder_embedding_layer = Embedding(num_words, EMBEDDING_SIZE, weights=[embedding_matrix], input_length=max_input_len)\n",
        "\n",
        "encoder_embedding_layer = Embedding(\n",
        "          input_dim=nb_words,  # definido en el Tokenizador\n",
        "          output_dim=embed_dim,  # dimensión de los embeddings utilizados\n",
        "          input_length=max_input_len, # máxima sentencia de entrada\n",
        "          weights=[embedding_matrix],  # matrix de embeddings\n",
        "          trainable=False)      # marcar como layer no entrenable\n",
        "\n",
        "encoder_inputs_x = encoder_embedding_layer(encoder_inputs)\n",
        "\n",
        "encoder = LSTM(n_units, return_state=True)\n",
        "encoder_outputs, state_h, state_c = encoder(encoder_inputs_x)\n",
        "encoder_states = [state_h, state_c]\n",
        "\n",
        "# define training decoder\n",
        "decoder_inputs = Input(shape=(max_out_len))\n",
        "decoder_embedding_layer = Embedding(input_dim=num_words_output, output_dim=n_units, input_length=max_out_len)\n",
        "decoder_inputs_x = decoder_embedding_layer(decoder_inputs)\n",
        "\n",
        "decoder_lstm = LSTM(n_units, return_sequences=True, return_state=True)\n",
        "decoder_outputs, _, _ = decoder_lstm(decoder_inputs_x, initial_state=encoder_states)\n",
        "\n",
        "# Dense\n",
        "decoder_dense = Dense(num_words_output, activation='softmax')\n",
        "decoder_outputs = decoder_dense(decoder_outputs)\n",
        "model = Model([encoder_inputs, decoder_inputs], decoder_outputs)\n",
        "\n",
        "model.compile(loss='categorical_crossentropy', optimizer=\"Adam\", metrics=['accuracy'])\n",
        "model.summary()"
      ],
      "execution_count": 22,
      "outputs": [
        {
          "output_type": "stream",
          "name": "stdout",
          "text": [
            "Model: \"model\"\n",
            "__________________________________________________________________________________________________\n",
            " Layer (type)                   Output Shape         Param #     Connected to                     \n",
            "==================================================================================================\n",
            " input_1 (InputLayer)           [(None, 9)]          0           []                               \n",
            "                                                                                                  \n",
            " input_2 (InputLayer)           [(None, 10)]         0           []                               \n",
            "                                                                                                  \n",
            " embedding (Embedding)          (None, 9, 50)        89950       ['input_1[0][0]']                \n",
            "                                                                                                  \n",
            " embedding_1 (Embedding)        (None, 10, 128)      231296      ['input_2[0][0]']                \n",
            "                                                                                                  \n",
            " lstm (LSTM)                    [(None, 128),        91648       ['embedding[0][0]']              \n",
            "                                 (None, 128),                                                     \n",
            "                                 (None, 128)]                                                     \n",
            "                                                                                                  \n",
            " lstm_1 (LSTM)                  [(None, 10, 128),    131584      ['embedding_1[0][0]',            \n",
            "                                 (None, 128),                     'lstm[0][1]',                   \n",
            "                                 (None, 128)]                     'lstm[0][2]']                   \n",
            "                                                                                                  \n",
            " dense (Dense)                  (None, 10, 1807)     233103      ['lstm_1[0][0]']                 \n",
            "                                                                                                  \n",
            "==================================================================================================\n",
            "Total params: 777,581\n",
            "Trainable params: 687,631\n",
            "Non-trainable params: 89,950\n",
            "__________________________________________________________________________________________________\n"
          ]
        }
      ]
    },
    {
      "cell_type": "code",
      "metadata": {
        "colab": {
          "base_uri": "https://localhost:8080/",
          "height": 533
        },
        "id": "0Uqne3jFsK0-",
        "outputId": "5bb0bab5-0a15-4250-c1aa-ddef68f303b5"
      },
      "source": [
        "# Modelo completo (encoder+decoder) para poder entrenar\n",
        "from keras.utils.vis_utils import plot_model\n",
        "plot_model(model, to_file='model_plot.png', show_shapes=True, show_layer_names=True)"
      ],
      "execution_count": 23,
      "outputs": [
        {
          "output_type": "execute_result",
          "data": {
            "image/png": "[encoded data removed]",
            "text/plain": [
              "<IPython.core.display.Image object>"
            ]
          },
          "metadata": {},
          "execution_count": 23
        }
      ]
    },
    {
      "cell_type": "code",
      "metadata": {
        "colab": {
          "base_uri": "https://localhost:8080/",
          "height": 312
        },
        "id": "uMiJ4KX1sS43",
        "outputId": "3a49209e-6688-4d91-e7ca-0b58edff6f7d"
      },
      "source": [
        "# Modelo solo encoder\n",
        "\n",
        "# define inference encoder\n",
        "encoder_model = Model(encoder_inputs, encoder_states)\n",
        "\n",
        "from keras.utils.vis_utils import plot_model\n",
        "plot_model(encoder_model, to_file='encoder_plot.png', show_shapes=True, show_layer_names=True)"
      ],
      "execution_count": 24,
      "outputs": [
        {
          "output_type": "execute_result",
          "data": {
            "image/png": "[encoded data removed]",
            "text/plain": [
              "<IPython.core.display.Image object>"
            ]
          },
          "metadata": {},
          "execution_count": 24
        }
      ]
    },
    {
      "cell_type": "code",
      "metadata": {
        "colab": {
          "base_uri": "https://localhost:8080/",
          "height": 422
        },
        "id": "BS-ueNDysY1r",
        "outputId": "4d6c28c0-b1f0-443c-e887-cf6fe7c8b949"
      },
      "source": [
        "# Modelo solo decoder (para realizar inferencia)\n",
        "from keras.utils.vis_utils import plot_model\n",
        "\n",
        "# define inference decoder\n",
        "decoder_state_input_h = Input(shape=(n_units,))\n",
        "decoder_state_input_c = Input(shape=(n_units,))\n",
        "decoder_states_inputs = [decoder_state_input_h, decoder_state_input_c]\n",
        "\n",
        "# EN cada predicción habrá una sola palabra de entrada al decoder,\n",
        "# que es la realimentación de la palabra anterior\n",
        "# por lo que hay que modificar el input shup de la layer de Embedding\n",
        "decoder_inputs_single = Input(shape=(1,))\n",
        "decoder_inputs_single_x = decoder_embedding_layer(decoder_inputs_single)\n",
        "\n",
        "decoder_outputs, state_h, state_c = decoder_lstm(decoder_inputs_single_x, initial_state=decoder_states_inputs)\n",
        "decoder_states = [state_h, state_c]\n",
        "decoder_outputs = decoder_dense(decoder_outputs)\n",
        "decoder_model = Model([decoder_inputs_single] + decoder_states_inputs, [decoder_outputs] + decoder_states)\n",
        "\n",
        "plot_model(decoder_model, to_file='decoder_plot.png', show_shapes=True, show_layer_names=True)"
      ],
      "execution_count": 25,
      "outputs": [
        {
          "output_type": "execute_result",
          "data": {
            "image/png": "[encoded data removed]",
            "text/plain": [
              "<IPython.core.display.Image object>"
            ]
          },
          "metadata": {},
          "execution_count": 25
        }
      ]
    },
    {
      "cell_type": "code",
      "metadata": {
        "colab": {
          "base_uri": "https://localhost:8080/"
        },
        "id": "TDzUtlRdsfBv",
        "outputId": "d90cac46-33c2-4e42-f653-cba0c1065e52"
      },
      "source": [
        "hist = model.fit(\n",
        "    [encoder_input_sequences, decoder_input_sequences],\n",
        "    decoder_targets,\n",
        "    epochs=20,\n",
        "    validation_split=0.1)"
      ],
      "execution_count": 26,
      "outputs": [
        {
          "output_type": "stream",
          "name": "stdout",
          "text": [
            "Epoch 1/20\n",
            "170/170 [==============================] - 21s 66ms/step - loss: 2.9869 - accuracy: 0.5257 - val_loss: 2.2722 - val_accuracy: 0.6200\n",
            "Epoch 2/20\n",
            "170/170 [==============================] - 3s 16ms/step - loss: 2.0694 - accuracy: 0.6300 - val_loss: 2.0547 - val_accuracy: 0.6475\n",
            "Epoch 3/20\n",
            "170/170 [==============================] - 2s 13ms/step - loss: 1.8097 - accuracy: 0.6854 - val_loss: 1.8655 - val_accuracy: 0.6917\n",
            "Epoch 4/20\n",
            "170/170 [==============================] - 2s 10ms/step - loss: 1.6414 - accuracy: 0.7125 - val_loss: 1.7700 - val_accuracy: 0.7025\n",
            "Epoch 5/20\n",
            "170/170 [==============================] - 2s 10ms/step - loss: 1.5377 - accuracy: 0.7224 - val_loss: 1.7074 - val_accuracy: 0.7096\n",
            "Epoch 6/20\n",
            "170/170 [==============================] - 2s 14ms/step - loss: 1.4630 - accuracy: 0.7286 - val_loss: 1.6602 - val_accuracy: 0.7167\n",
            "Epoch 7/20\n",
            "170/170 [==============================] - 3s 17ms/step - loss: 1.4043 - accuracy: 0.7367 - val_loss: 1.6314 - val_accuracy: 0.7228\n",
            "Epoch 8/20\n",
            "170/170 [==============================] - 2s 11ms/step - loss: 1.3577 - accuracy: 0.7420 - val_loss: 1.6077 - val_accuracy: 0.7230\n",
            "Epoch 9/20\n",
            "170/170 [==============================] - 2s 11ms/step - loss: 1.3185 - accuracy: 0.7453 - val_loss: 1.5932 - val_accuracy: 0.7265\n",
            "Epoch 10/20\n",
            "170/170 [==============================] - 2s 11ms/step - loss: 1.2844 - accuracy: 0.7499 - val_loss: 1.5785 - val_accuracy: 0.7313\n",
            "Epoch 11/20\n",
            "170/170 [==============================] - 2s 10ms/step - loss: 1.2531 - accuracy: 0.7537 - val_loss: 1.5664 - val_accuracy: 0.7339\n",
            "Epoch 12/20\n",
            "170/170 [==============================] - 2s 12ms/step - loss: 1.2241 - accuracy: 0.7565 - val_loss: 1.5612 - val_accuracy: 0.7368\n",
            "Epoch 13/20\n",
            "170/170 [==============================] - 3s 17ms/step - loss: 1.1975 - accuracy: 0.7596 - val_loss: 1.5526 - val_accuracy: 0.7364\n",
            "Epoch 14/20\n",
            "170/170 [==============================] - 2s 11ms/step - loss: 1.1730 - accuracy: 0.7623 - val_loss: 1.5507 - val_accuracy: 0.7401\n",
            "Epoch 15/20\n",
            "170/170 [==============================] - 2s 11ms/step - loss: 1.1504 - accuracy: 0.7654 - val_loss: 1.5445 - val_accuracy: 0.7417\n",
            "Epoch 16/20\n",
            "170/170 [==============================] - 2s 10ms/step - loss: 1.1288 - accuracy: 0.7668 - val_loss: 1.5464 - val_accuracy: 0.7421\n",
            "Epoch 17/20\n",
            "170/170 [==============================] - 2s 11ms/step - loss: 1.1089 - accuracy: 0.7698 - val_loss: 1.5424 - val_accuracy: 0.7430\n",
            "Epoch 18/20\n",
            "170/170 [==============================] - 2s 10ms/step - loss: 1.0895 - accuracy: 0.7720 - val_loss: 1.5469 - val_accuracy: 0.7427\n",
            "Epoch 19/20\n",
            "170/170 [==============================] - 2s 12ms/step - loss: 1.0713 - accuracy: 0.7741 - val_loss: 1.5421 - val_accuracy: 0.7460\n",
            "Epoch 20/20\n",
            "170/170 [==============================] - 2s 13ms/step - loss: 1.0538 - accuracy: 0.7755 - val_loss: 1.5475 - val_accuracy: 0.7485\n"
          ]
        }
      ]
    },
    {
      "cell_type": "code",
      "metadata": {
        "colab": {
          "base_uri": "https://localhost:8080/",
          "height": 430
        },
        "id": "Xn3VbVYyszgg",
        "outputId": "f7724842-f851-43e3-93b8-7880c97fc548"
      },
      "source": [
        "import matplotlib.pyplot as plt\n",
        "import seaborn as sns\n",
        "\n",
        "# Entrenamiento\n",
        "epoch_count = range(1, len(hist.history['accuracy']) + 1)\n",
        "sns.lineplot(x=epoch_count,  y=hist.history['accuracy'], label='train')\n",
        "sns.lineplot(x=epoch_count,  y=hist.history['val_accuracy'], label='valid')\n",
        "plt.show()"
      ],
      "execution_count": 27,
      "outputs": [
        {
          "output_type": "display_data",
          "data": {
            "text/plain": [
              "<Figure size 640x480 with 1 Axes>"
            ],
            "image/png": "[encoded data removed]"
          },
          "metadata": {}
        }
      ]
    },
    {
      "cell_type": "markdown",
      "metadata": {
        "id": "Zbwn0ekDy_s2"
      },
      "source": [
        "### 5 - Inferencia\n",
        "Experimentar el funcionamiento de su modelo. Recuerde que debe realizar la inferencia de los modelos por separado de encoder y decoder."
      ]
    },
    {
      "cell_type": "code",
      "metadata": {
        "colab": {
          "base_uri": "https://localhost:8080/",
          "height": 52
        },
        "id": "a09wbur9x06a",
        "outputId": "4053d420-8086-4eb4-e417-5871b43588fc"
      },
      "source": [
        "'''\n",
        "Step 1:\n",
        "hi how are you -> Encoder -> enc(h1,c1)\n",
        "\n",
        "enc(h1,c1) + <sos> -> Decoder -> not + dec(h1,c1)\n",
        "\n",
        "step 2:\n",
        "dec(h1,c1) + not -> Decoder -> bad + dec(h2,c2)\n",
        "\n",
        "step 3:\n",
        "dec(h2,c2) + bad -> Decoder -> and + dec(h3,c3)\n",
        "\n",
        "step 4:\n",
        "dec(h3,c3) + and -> Decoder -> you + dec(h4,c4)\n",
        "\n",
        "step 5:\n",
        "dec(h4,c4) + you -> Decoder -> <eos> + dec(h5,c5)\n",
        "'''"
      ],
      "execution_count": null,
      "outputs": [
        {
          "output_type": "execute_result",
          "data": {
            "application/vnd.google.colaboratory.intrinsic+json": {
              "type": "string"
            },
            "text/plain": [
              "'\\nStep 1:\\nhi how are you -> Encoder -> enc(h1,c1)\\n\\nenc(h1,c1) + <sos> -> Decoder -> not + dec(h1,c1)\\n\\nstep 2:\\ndec(h1,c1) + not -> Decoder -> bad + dec(h2,c2)\\n\\nstep 3:\\ndec(h2,c2) + bad -> Decoder -> and + dec(h3,c3)\\n\\nstep 4:\\ndec(h3,c3) + and -> Decoder -> you + dec(h4,c4)\\n\\nstep 5:\\ndec(h4,c4) + you -> Decoder -> <eos> + dec(h5,c5)\\n'"
            ]
          },
          "metadata": {},
          "execution_count": 24
        }
      ]
    },
    {
      "cell_type": "code",
      "metadata": {
        "id": "FT1FwkYTywNS"
      },
      "source": [
        "# Armar lo conversores de indice a palabra:\n",
        "idx2word_input = {v:k for k, v in word2idx_inputs.items()}\n",
        "idx2word_target = {v:k for k, v in word2idx_outputs.items()}"
      ],
      "execution_count": 28,
      "outputs": []
    },
    {
      "cell_type": "code",
      "metadata": {
        "id": "ICP0jMVJywmp"
      },
      "source": [
        "def answer_sentence(input_seq):\n",
        "    # Se transforma la sequencia de entrada a los stados \"h\" y \"c\" de la LSTM\n",
        "    # para enviar la primera vez al decoder\"\n",
        "    states_value = encoder_model.predict(input_seq)\n",
        "\n",
        "    # Se inicializa la secuencia de entrada al decoder como \"<sos>\"\n",
        "    target_seq = np.zeros((1, 1))\n",
        "    target_seq[0, 0] = word2idx_outputs['<sos>']\n",
        "\n",
        "    # Se obtiene el indice que finaliza la inferencia\n",
        "    eos = word2idx_outputs['<eos>']\n",
        "\n",
        "    output_sentence = []\n",
        "    for _ in range(max_out_len):\n",
        "        # Predicción del próximo elemento\n",
        "        output_tokens, h, c = decoder_model.predict([target_seq] + states_value)\n",
        "        idx = np.argmax(output_tokens[0, 0, :])\n",
        "\n",
        "        # Si es \"end of sentece <eos>\" se acaba\n",
        "        if eos == idx:\n",
        "            break\n",
        "\n",
        "        # Transformar ídx a palabra\n",
        "        word = ''\n",
        "        if idx > 0:\n",
        "            word = idx2word_target[idx]\n",
        "            output_sentence.append(word)\n",
        "\n",
        "        # Actualizar los estados dado la ultimo prediccion\n",
        "        states_value = [h, c]\n",
        "\n",
        "        # Actualizar secuencia de entrada con la salida (re-alimentacion)\n",
        "        target_seq[0, 0] = idx\n",
        "\n",
        "    return ' '.join(output_sentence)"
      ],
      "execution_count": 29,
      "outputs": []
    },
    {
      "cell_type": "code",
      "source": [
        "input_sentences"
      ],
      "metadata": {
        "colab": {
          "base_uri": "https://localhost:8080/"
        },
        "id": "uKH-4KaqKT29",
        "outputId": "5a52916d-1cfd-491d-b3d8-69d786245f81"
      },
      "execution_count": 30,
      "outputs": [
        {
          "output_type": "execute_result",
          "data": {
            "text/plain": [
              "['hello ',\n",
              " 'hi how are you ',\n",
              " 'hi ',\n",
              " 'hi ',\n",
              " 'hi ',\n",
              " 'where are you working ',\n",
              " 'bro ',\n",
              " 'where are you from ',\n",
              " 'i am from russia and you ',\n",
              " 'i hate them most of the time ',\n",
              " 'i love disney movies ',\n",
              " 'what is your favorite ',\n",
              " 'i like reading do you ',\n",
              " 'mee too ',\n",
              " 'i like it a lot ',\n",
              " 'cool i need to go see ya ',\n",
              " 'hi bro ',\n",
              " 'i m from dolgoprudny ',\n",
              " 'organ ',\n",
              " 'hi ',\n",
              " 'hello how are you doing ',\n",
              " 'what is tacos then ',\n",
              " 'hi ',\n",
              " 'hi',\n",
              " 'who are you ',\n",
              " 'cool where are you from ',\n",
              " 'hi ',\n",
              " 'hyperion',\n",
              " 'hello there',\n",
              " 'i help my father at the farm',\n",
              " 'i don t like play video games',\n",
              " 'oh what genre ',\n",
              " 'thriller',\n",
              " 'oh i hate horror movies ',\n",
              " 'i should go buy',\n",
              " 'hey there ',\n",
              " 'i m not in the us ',\n",
              " 'oh where are you from then ',\n",
              " 'oh no sorry to hear that ',\n",
              " 'but i m good now ',\n",
              " 'what happened ',\n",
              " 'it was a cancer',\n",
              " 'thx you too ',\n",
              " 'thank you anytime ',\n",
              " 'bye',\n",
              " 'hi ',\n",
              " 'i m software developer ',\n",
              " 'whanna know more ',\n",
              " 'i dance drum and base ',\n",
              " 'what team do you like ',\n",
              " 'spartak ',\n",
              " 'oh yeah ',\n",
              " 'yeah i m a football hooligan ',\n",
              " 'do you have any pets ',\n",
              " 'no and you ',\n",
              " 'i have a cat named leila ',\n",
              " 'cool how old is she ',\n",
              " 'she is a 36 year old ',\n",
              " 'so old is it possible ',\n",
              " 'hi there',\n",
              " 'what about you ',\n",
              " 'what is yours ',\n",
              " 'where are you ',\n",
              " 'i m in riverside ',\n",
              " '33',\n",
              " 'i like to read comic books ',\n",
              " 'good for you ',\n",
              " 'i travel instantly ',\n",
              " 'what are u good in ',\n",
              " 'i build houses for a living ',\n",
              " 'creampie',\n",
              " 'i ve 4 ',\n",
              " 'i fly high',\n",
              " 'what do you do ',\n",
              " 'fly',\n",
              " 'let s fly together',\n",
              " 'that would be fun ',\n",
              " 'good man',\n",
              " 'where do you live ',\n",
              " 'in are sky',\n",
              " 'what are your plans ',\n",
              " 'thanks man',\n",
              " 'no problem mans ',\n",
              " 'hi bro ',\n",
              " 'hi sweety ',\n",
              " 'hey there how are you ',\n",
              " 'i am fine and you ',\n",
              " 'i m doing well how are you ',\n",
              " 'hi ',\n",
              " 'hi',\n",
              " 'hello ',\n",
              " 'how are you ',\n",
              " 'i am doing well how are you ',\n",
              " 'good',\n",
              " 'what do you do for a living ',\n",
              " 'whats up ',\n",
              " 'hi ',\n",
              " 'hi',\n",
              " 'hello there how are you ',\n",
              " 'what s your name ',\n",
              " 'my name is sara how are you ',\n",
              " 'i m good ',\n",
              " 'hi bro ',\n",
              " 'hi ',\n",
              " 'hey where are you ',\n",
              " 'what s going on ',\n",
              " 'wow wow wow i like collies ',\n",
              " 'me too ',\n",
              " 'i like going to the movies ',\n",
              " 'hi',\n",
              " 'hello how are you today ',\n",
              " 'nothing just some minor could',\n",
              " 'what do you do for work ',\n",
              " 'i m an it engeneer and you ',\n",
              " 'end',\n",
              " 'hi',\n",
              " 'hi how are you today ',\n",
              " 'hi ',\n",
              " 'hey',\n",
              " 'hey how are you today',\n",
              " 'no i m not very good at them ',\n",
              " 'what do you mean ',\n",
              " 'hello ',\n",
              " 'hello ',\n",
              " 'hi how are you today ',\n",
              " 'i really dig purple',\n",
              " 'purple i love purple ',\n",
              " 'hi please introduce yourself',\n",
              " 'hi there how are you ',\n",
              " 'are you still there',\n",
              " ' ',\n",
              " 'are they supportive ',\n",
              " 'do you listen to any music ',\n",
              " 'medication',\n",
              " 'meditation sorry',\n",
              " 'why ',\n",
              " 'do you like music ',\n",
              " 'yes',\n",
              " 'what do you do for work ',\n",
              " 'i ve quit the job ',\n",
              " 'oh no what happened ',\n",
              " 'overworked',\n",
              " 'from russia',\n",
              " 'yes',\n",
              " 'how about you ',\n",
              " 'didn t understand sorry',\n",
              " 'that would be awesome ',\n",
              " 'i don t play',\n",
              " 'i m from the united states ',\n",
              " 'hello',\n",
              " 'hi there how are you ',\n",
              " 'i love mickey mouse ',\n",
              " 'no i ve not i want to though ',\n",
              " 'now but i would love to go ',\n",
              " 'but you go every year ',\n",
              " 'yes i do it is great ',\n",
              " 'tell me about it',\n",
              " 'it is fun how about you ',\n",
              " 'whats fun',\n",
              " 'hi how old are you ',\n",
              " 'i m 30 how about you ',\n",
              " '10',\n",
              " 'what do you do for work ',\n",
              " 'i love songs from movies',\n",
              " 'what do you do for a living ',\n",
              " 'and u',\n",
              " 'cool i m 12',\n",
              " 'and i love pobox',\n",
              " 'i have a few i m only 12 ',\n",
              " 'you said you were 17',\n",
              " 'i play pobox too',\n",
              " 'i have blue eyes and you ',\n",
              " 'i was i was only 14 ',\n",
              " 'hey',\n",
              " 'hi there how are you ',\n",
              " 'oh i see well any hobbies ',\n",
              " 'what are contacts',\n",
              " 'what do you do for a living ',\n",
              " 'what kind of retail store',\n",
              " 'retail i love it ',\n",
              " 'i ve a cat named radar ',\n",
              " 'cool',\n",
              " 'what are your dogs names ',\n",
              " 'hi',\n",
              " 'hi',\n",
              " 'i m good and you ',\n",
              " 'hi',\n",
              " 'hi there how are you ',\n",
              " 'i do not have one',\n",
              " 'love to cook vegetarian',\n",
              " 'i see ',\n",
              " 'how',\n",
              " 'oh cool ',\n",
              " 'i apologise have to go',\n",
              " 'that s ok ',\n",
              " 'goodbye',\n",
              " 'hi',\n",
              " 'hello ',\n",
              " 'what do you like to do ',\n",
              " 'i like to play video games ',\n",
              " 'ok',\n",
              " 'what do you do for a living ',\n",
              " 'i work at my parent s farm',\n",
              " 'do you have any pets ',\n",
              " 'i used to have a dog he died',\n",
              " 'i am sorry to hear that ',\n",
              " 'do you ',\n",
              " 'yes i do i love to read ',\n",
              " 'what kind of readings ',\n",
              " 'i also like movies ',\n",
              " 'what is your favorite movie ',\n",
              " 'what is your occupation ',\n",
              " 'hi',\n",
              " 'hi how are you ',\n",
              " 'i work at a restaurant ',\n",
              " 'which resturant ',\n",
              " 'i have a lot of friends ',\n",
              " 'me too',\n",
              " 'what do you do for a living ',\n",
              " 'hi',\n",
              " 'hi',\n",
              " 'i am not sure what you mean',\n",
              " 'do you like the gym ',\n",
              " 'i do not like it ',\n",
              " 'i like soda',\n",
              " 'i drink soda and drink soda',\n",
              " 'end',\n",
              " 'why do you love pizza',\n",
              " 'hello',\n",
              " 'hello there how are you ',\n",
              " 'that s nice ',\n",
              " 'hi',\n",
              " 'hi there how are you ',\n",
              " 'that is really pity',\n",
              " 'it is a good thing to do',\n",
              " 'what thing ',\n",
              " 'i love to eat i love to eat ',\n",
              " 'good for you good for you',\n",
              " 'i am good thanks for asking',\n",
              " 'have you ever played pobox ',\n",
              " 'i have never played that ',\n",
              " 'i love this game ',\n",
              " 'i love to go to the beach ',\n",
              " 'beach is good',\n",
              " 'do you have any hobbies ',\n",
              " 'i have eyes with sea color',\n",
              " 'that is cool i like to read ',\n",
              " 'what is your favorite book ',\n",
              " 'i like to go to the beach ',\n",
              " 'i got it',\n",
              " 'what do you do for a living ',\n",
              " 'i am a pupil',\n",
              " 'oh i am sorry to hear that ',\n",
              " 'bye',\n",
              " 'i hope you have a good day',\n",
              " 'bye',\n",
              " 'i hope you have a good day',\n",
              " 'hi',\n",
              " 'hello ',\n",
              " 'ohh i don t',\n",
              " 'i live in the cloud',\n",
              " 'i see ',\n",
              " 'guess if i am a girl or boy ',\n",
              " 'i think you are a girl ',\n",
              " 'nice what about you ',\n",
              " 'i have a gay boyfriend ',\n",
              " 'how old are you ',\n",
              " 'i am 24 how are you ',\n",
              " 'i m twelve',\n",
              " 'that is great ',\n",
              " 'can you fly ',\n",
              " 'oh that sounds like fun ',\n",
              " 'i am like deadpool',\n",
              " 'i like burgers',\n",
              " 'i love all kinds of food ',\n",
              " 'you are smart bot as i see',\n",
              " 'hi ',\n",
              " 'hello how are you ',\n",
              " 'i m fine i ve got a job ',\n",
              " 'can you tell me a story ',\n",
              " 'sure ',\n",
              " 'no i cannot',\n",
              " 'i am sorry to hear that ',\n",
              " 'do you like clowns ',\n",
              " 'i do not like clowns do you ',\n",
              " 'i hate them ',\n",
              " 'yeah',\n",
              " 'that is a good place to be ',\n",
              " 'wher are you from ',\n",
              " 'i am from ohio how about you ',\n",
              " 'i already said',\n",
              " 'i live in north carolina ',\n",
              " 'i didn t ask you about it',\n",
              " 'hi there',\n",
              " 'hi how are you ',\n",
              " 'nice to hear you like sport ',\n",
              " 'what do you do for a living ',\n",
              " 'that s also a sport',\n",
              " 'yes it is ',\n",
              " 'do you like pizza ',\n",
              " 'u ',\n",
              " 'what is your favorite food ',\n",
              " 'i like margarita',\n",
              " 'i love mexican as well ',\n",
              " 'it is one of my favorites ',\n",
              " 'yellow what is yours ',\n",
              " 'italian',\n",
              " 'yes ',\n",
              " 'yes i love the color green ',\n",
              " 'fucking stupid color lover',\n",
              " 'oh come on you are so funny ',\n",
              " 'do you know putin ',\n",
              " 'what is your honor student ',\n",
              " 'yellow ',\n",
              " 'yes it is thank you ',\n",
              " 'bye',\n",
              " 'hi ',\n",
              " 'do you like cats ',\n",
              " 'can you talk to me',\n",
              " 'what about you ',\n",
              " 'not really do you ',\n",
              " 'i am just watch movie',\n",
              " 'very sad movie',\n",
              " 'have you seen hatiko ',\n",
              " 'i can i m in my twenties ',\n",
              " 'i like old fashioned cars',\n",
              " 'what do you do for a living ',\n",
              " 'yes i told you',\n",
              " 'hey there',\n",
              " 'hey how are you ',\n",
              " 'i m doing some shopping ',\n",
              " 'what kind of car ',\n",
              " 'i drive a prius ',\n",
              " 'what kind of car ',\n",
              " 'hello',\n",
              " 'yo man',\n",
              " 'hey man what s up ',\n",
              " 'i am fine you ',\n",
              " 'you re boring',\n",
              " 'nah not at all i am boring ',\n",
              " 'you re a woman ',\n",
              " 'yeah i work as a programmer ',\n",
              " 'what is your gender ',\n",
              " 'i am female ',\n",
              " 'what is your gender ',\n",
              " 'peanuts i ve a peanut allergy',\n",
              " 'what is your gender ',\n",
              " 'my bf watches twitch a lot ',\n",
              " 'fuck',\n",
              " 'oh okay ',\n",
              " 'hi',\n",
              " 'hey what s up',\n",
              " 'ok cool so you like to swim',\n",
              " 'i like to swim and swim',\n",
              " 'that s great swimming is fun',\n",
              " 'hi',\n",
              " 'hey what s going on',\n",
              " 'i like to go to the gym ',\n",
              " 'what do you do at the gym ',\n",
              " 'hi there',\n",
              " 'hey there how are you ',\n",
              " 'why is that ',\n",
              " 'well never mind ',\n",
              " 'same to you dude ',\n",
              " 'ok i see you tonight ',\n",
              " 'deal see you ',\n",
              " 'hi do you like parties ',\n",
              " 'i don t i don t like school ',\n",
              " 'hi',\n",
              " 'yo',\n",
              " 'yo bleat',\n",
              " 'hello',\n",
              " 'hi',\n",
              " 'hi',\n",
              " 'hello how are you ',\n",
              " 'i am fine you ',\n",
              " 'i am not sure what you mean ',\n",
              " 'okay',\n",
              " 'i drink a lot of beer ',\n",
              " 'you are alcoholic ',\n",
              " 'i am not sure what you mean',\n",
              " 'ok',\n",
              " 'what do you do for a living ',\n",
              " 'you are stupid',\n",
              " 'do you like',\n",
              " 'yo',\n",
              " 'hi how are you today ',\n",
              " 'i hate music you love vodka ',\n",
              " 'no i do n t like it ',\n",
              " 'why ',\n",
              " 'because i m gay ',\n",
              " 'i am male i do not have kids ',\n",
              " 'oh no i am sorry ',\n",
              " 'who are you ',\n",
              " 'yo',\n",
              " 'what video games ',\n",
              " 'i am alcoholic',\n",
              " 'where do you work ',\n",
              " 'i do not work i drink always ',\n",
              " 'what do you do for fun ',\n",
              " 'i drink',\n",
              " 'oh i like to sing ',\n",
              " 'realy ',\n",
              " 'yes all the time ',\n",
              " 'i hate you',\n",
              " 'i do not like you ',\n",
              " 'why ',\n",
              " 'because i like you ',\n",
              " 'ou we will have sex ',\n",
              " 'i guess that is true ',\n",
              " 'ok bye',\n",
              " 'bye ',\n",
              " 'bye',\n",
              " 'bye',\n",
              " 'yo',\n",
              " 'what video games ',\n",
              " 'bye',\n",
              " 'ok ',\n",
              " 'bye',\n",
              " 'hi',\n",
              " 'hey',\n",
              " 'hey how are you ',\n",
              " 'good just came from work ',\n",
              " 'oh i am sorry to hear that ',\n",
              " 'it is a lot of work ',\n",
              " 'i see what do you do ',\n",
              " 'i like to play video games ',\n",
              " 'but what is your job ',\n",
              " 'is it interesting ',\n",
              " 'i am sorry to hear that',\n",
              " 'do you have parents ',\n",
              " 'i am sorry to hear that ',\n",
              " 'what do you like ',\n",
              " 'i like to play video games ',\n",
              " 'it is good me too',\n",
              " 'yes we have a lot of clients',\n",
              " 'do you have any hobbies ',\n",
              " 'who created you ',\n",
              " 'who is your favorite artist ',\n",
              " 'scarlett johanson',\n",
              " 'do you have any hobbies ',\n",
              " 'are you bot ',\n",
              " 'yes i am ',\n",
              " 'thank you',\n",
              " 'hi',\n",
              " 'i m and yes i m ',\n",
              " 'wow thats great ',\n",
              " 'what do you do for a living ',\n",
              " '40k a year good for me',\n",
              " 'oh i see ',\n",
              " 'i see ',\n",
              " 'hindi',\n",
              " 'hello how are you doing ',\n",
              " 'what do you do for work ',\n",
              " 'i fish',\n",
              " 'what city are you from ',\n",
              " 'no i did not i am a',\n",
              " 'hi',\n",
              " 'helloz whats up ',\n",
              " 'i do not know what to say ',\n",
              " 'are you married',\n",
              " 'ok bye then',\n",
              " 'my gavorite color is purple',\n",
              " 'hey',\n",
              " 'i watch football',\n",
              " 'bye i have to go',\n",
              " 'hi',\n",
              " 'oh are you divorced',\n",
              " 'i am married to my husband ',\n",
              " 'i see',\n",
              " 'what do you do for a living ',\n",
              " 'ok',\n",
              " 'heloo there',\n",
              " 'well done',\n",
              " 'i am a teacher which one ',\n",
              " 'hmm thats intelligent',\n",
              " 'what do you do for a living ',\n",
              " 'chat',\n",
              " 'what city are you from ',\n",
              " 'and you',\n",
              " 'what grade do you teach ',\n",
              " 'cool',\n",
              " 'bbye you are v boring bot',\n",
              " 'hello there',\n",
              " 'hi',\n",
              " 'i love new kids on the block',\n",
              " 'thats nice what do you read ',\n",
              " 'i like to read books',\n",
              " 'which books do you read',\n",
              " 'i read a lot of books',\n",
              " 'like',\n",
              " 'i like to like music',\n",
              " 'great ',\n",
              " 'i love to read',\n",
              " 'are you married',\n",
              " 'no i am single ',\n",
              " 'how many kids donyou have',\n",
              " 'i have three kids ',\n",
              " 'ok do you love humans',\n",
              " 'i do i love to read ',\n",
              " 'do they teste good',\n",
              " 'they do they are very good ',\n",
              " 'ok',\n",
              " 'what do you do for a living ',\n",
              " 'bye',\n",
              " 'hello there',\n",
              " 'hello there how are you ',\n",
              " 'cool',\n",
              " 'how many kids do you have ',\n",
              " 'hi',\n",
              " 'i love to play games online',\n",
              " 'i am good too',\n",
              " ' finish',\n",
              " 'hello there ',\n",
              " 'i m good thanks for asking',\n",
              " 'yes i do i love country music',\n",
              " 'love a lot ha ha',\n",
              " 'hi',\n",
              " 'i like coloring books ',\n",
              " 'what kind of books eh ',\n",
              " 'do you paint portrets ',\n",
              " 'hi',\n",
              " 'hi',\n",
              " 'hello how are you ',\n",
              " 'i m fine',\n",
              " 'what do you do for a living ',\n",
              " 'i do not believe in that ',\n",
              " 'why ',\n",
              " 'end',\n",
              " 'hi',\n",
              " 'hello ',\n",
              " 'i got it',\n",
              " 'what do you do for a living ',\n",
              " 'do you like to cook ',\n",
              " 'yes definetely',\n",
              " 'then what are you doing ',\n",
              " 'i am in a band ',\n",
              " 'what do you do for a living ',\n",
              " 'i already said',\n",
              " 'what do you do for a living ',\n",
              " 'i am a cooking monster ',\n",
              " 'you definitely will be',\n",
              " 'what do you do for a living ',\n",
              " 'thank you for conversation ',\n",
              " 'what do you do for a living ',\n",
              " 'bye ',\n",
              " 'i don t have any pets',\n",
              " 'hi how are you ',\n",
              " 'do you have family ',\n",
              " 'that s nice i m a librarian ',\n",
              " 'i do what about you ',\n",
              " 'is your family big ',\n",
              " 'hi there ',\n",
              " 'hello there how are you ',\n",
              " 'i do i love them dearly ',\n",
              " 'i love food do you have pets ',\n",
              " 'hi',\n",
              " 'you re moving too fast',\n",
              " 'what happened ',\n",
              " 'i work as a trauma surgeon ',\n",
              " 'you said you ve lost your job',\n",
              " 'hello how r u ',\n",
              " 'ok bye',\n",
              " 'you too nice talking to you ',\n",
              " 'me not',\n",
              " 'you as well have a great day ',\n",
              " 'idk',\n",
              " 'i m a dance teacher',\n",
              " 'i do not know',\n",
              " 'thanks for the chat ',\n",
              " 'thank you for the chat',\n",
              " 'have a good day ',\n",
              " 'thanks for the chat ',\n",
              " 'do you cook papayas_',\n",
              " 'of course i like papayas',\n",
              " 'i do not like food i like to',\n",
              " 'hi',\n",
              " 'hello there',\n",
              " 'i am sorry to hear that',\n",
              " 'good how old are tou',\n",
              " 'i am 32 i am 32 ',\n",
              " 'ok bbye',\n",
              " 'hi there',\n",
              " 'hello how are you today ',\n",
              " 'good and you',\n",
              " 'hey how re you ',\n",
              " 'i m doing well how about you ',\n",
              " 'do you have any hobbies ',\n",
              " 'that s good ',\n",
              " 'wow that is a nice place ',\n",
              " 'you are dumb',\n",
              " 'i love horses and horses',\n",
              " 'hi',\n",
              " 'hi',\n",
              " 'hello how are you ',\n",
              " 'what s your name ',\n",
              " 'i am not sure what you mean',\n",
              " 'i have a lot of friends ',\n",
              " 'do you like your city ',\n",
              " 'yeah seems like it ',\n",
              " 'hi',\n",
              " 'helloz whats up',\n",
              " 'i just got back from the gym',\n",
              " 'i like blue i like blue ',\n",
              " 'cool',\n",
              " 'hi',\n",
              " 'dinno',\n",
              " 'i love to read',\n",
              " 'where do live ',\n",
              " 'i live in the city ',\n",
              " 'which city ',\n",
              " 'what do you do for a living ',\n",
              " 'in which city do you live ',\n",
              " 'i live in the city ',\n",
              " 'how old are you',\n",
              " 'i am 32 how old are you ',\n",
              " 'it does not matter',\n",
              " 'what do you do for a living ',\n",
              " 'you ',\n",
              " ' bigen',\n",
              " 'hi how are you today',\n",
              " 'i m better',\n",
              " 'that s good where do you work',\n",
              " 'cool what s it s name ',\n",
              " 'it is called avatar',\n",
              " 'yes i like fishing',\n",
              " 'i love halo 3 what about you ',\n",
              " 'i m a farmer',\n",
              " 'can you fix that',\n",
              " 'i can fix it if you want ',\n",
              " 'so fix it',\n",
              " 'i can do that for you ',\n",
              " ' p',\n",
              " 'hi',\n",
              " 'i like to read and read',\n",
              " 'what do you read',\n",
              " 'i read a lot of books',\n",
              " 'ha ha thats ok i am too',\n",
              " 'hi',\n",
              " 'hi',\n",
              " 'hello how are you ',\n",
              " 'i m fine',\n",
              " 'what do you do for a living ',\n",
              " 'mmm i m doctor',\n",
              " 'what do you do for a living ',\n",
              " 'i m doctor',\n",
              " 'oh that is cool i m a doctor ',\n",
              " 'yep ',\n",
              " 'i love to read',\n",
              " 'i like reading too',\n",
              " 'what do you read ',\n",
              " 'latin american literature',\n",
              " 'i speak spanish and spanish',\n",
              " 'and u ',\n",
              " 'what do you do for a living ',\n",
              " 'oh really ',\n",
              " 'what do you do for a living ',\n",
              " 'you ask me it before',\n",
              " 'what do you do for a living ',\n",
              " 'i m saying that i m doctor',\n",
              " 'oh i am sorry to hear that ',\n",
              " 'i don t understand ',\n",
              " 'oh i am sorry ',\n",
              " 'oh it s cool',\n",
              " 'what do you do for a living ',\n",
              " 'i m doctor',\n",
              " 'oh that is cool i m a doctor ',\n",
              " 'oh really ',\n",
              " 'what do you do for a living ',\n",
              " 'yes',\n",
              " 'what do you do for a living ',\n",
              " 'i m bored',\n",
              " 'what do you do for a living ',\n",
              " 'i m bored to talk with u ',\n",
              " 'what do you do for a living ',\n",
              " 'but it s interesting',\n",
              " 'i like to go to the beach ',\n",
              " 'what do you do for a living ',\n",
              " 'i m doctro',\n",
              " 'what do you do for a living ',\n",
              " 'it s cool',\n",
              " 'what do you do for a living ',\n",
              " 'i m doctor',\n",
              " 'which restaurant ',\n",
              " 'it s a local one what song ',\n",
              " 'but you are a waitress',\n",
              " 'what color are your eyes ',\n",
              " 'brown and your ',\n",
              " 'my eyes are brown ',\n",
              " 'same same',\n",
              " 'what is your favorite color ',\n",
              " 'black and your ',\n",
              " 'hi ',\n",
              " 'are you a fan of video games ',\n",
              " 'a bit late for what ',\n",
              " 'hi',\n",
              " 'i do not i am a big family ',\n",
              " 'thats funny ',\n",
              " 'what do you do for a living ',\n",
              " 'nice',\n",
              " 'hi there',\n",
              " 'hello how are you today ',\n",
              " 'hi there',\n",
              " 'hello how are you today ',\n",
              " 'what about you ',\n",
              " 'what do you do for work ',\n",
              " 'obviously',\n",
              " 'hi',\n",
              " 'what are you doing for life ',\n",
              " 'what about you ',\n",
              " 'what about me what ',\n",
              " 'horror movies are the best ',\n",
              " 'yes sometimes i eat them',\n",
              " 'hi',\n",
              " 'hello how are you ',\n",
              " 'i am doing well how are you ',\n",
              " 'i watch birds for a living',\n",
              " 'that sounds like a lot of fun',\n",
              " 'what do you do for a living ',\n",
              " 'i work at a grocery store',\n",
              " 'i see do you like your job ',\n",
              " 'i work at a grocery store ',\n",
              " 'ok bye',\n",
              " 'hi',\n",
              " 'do you like cats ',\n",
              " 'i do i love cats ',\n",
              " 'nice what are your hobbies ',\n",
              " 'i like to read and read',\n",
              " 'ok are you a student ',\n",
              " 'no i am a student ',\n",
              " 'are you married or single',\n",
              " 'i am single i am single ',\n",
              " 'do you like being single ',\n",
              " 'ok see you later',\n",
              " 'i like to go to the beach ',\n",
              " 'like wise bye',\n",
              " 'hello there',\n",
              " 'hi',\n",
              " 'hi ',\n",
              " 'i love to read',\n",
              " 'what is your favorite book ',\n",
              " 'i like to go to the beach ',\n",
              " 'is this name of the book ',\n",
              " 'yes it is what is your name ',\n",
              " 'julie ',\n",
              " 'i love to read',\n",
              " 'what do you read ',\n",
              " 'i like to play video games ',\n",
              " 'i like hiking ',\n",
              " 'i like to go to the beach ',\n",
              " 'you are stupid ',\n",
              " 'hi there ',\n",
              " 'hi there how are you ',\n",
              " 'cool ',\n",
              " 'hi',\n",
              " 'hi ',\n",
              " 'i love to read',\n",
              " 'what is your favorite book ',\n",
              " 'i like to go to the beach ',\n",
              " 'i hate swimming ',\n",
              " 'i hate it i hate it ',\n",
              " 'i also hate reading ',\n",
              " 'do you have any hobbies ',\n",
              " 'i have five sons ',\n",
              " 'wow that is a lot ',\n",
              " 'i like rock and roll',\n",
              " 'do you like coffee ',\n",
              " 'good',\n",
              " 'good',\n",
              " 'i don t have any',\n",
              " 'i quit my jib',\n",
              " 'job',\n",
              " 'why are you not happy ',\n",
              " 'i am not',\n",
              " 'yes i like fantasy',\n",
              " 'hi ',\n",
              " 'hello ',\n",
              " 'hello',\n",
              " 'hello how are you ',\n",
              " 'you said so ',\n",
              " 'that s great ',\n",
              " 'you are lost aren t you ',\n",
              " 'should we start over ',\n",
              " 'mostly folk music',\n",
              " 'what do you play in the band ',\n",
              " 'i do but irregularly',\n",
              " 'you too ',\n",
              " 'hi',\n",
              " 'hello how are you ',\n",
              " 'i am doing well how are you ',\n",
              " 'i m doing very well ',\n",
              " 'i work at a grocery store ',\n",
              " 'you like that ',\n",
              " 'i do not like it ',\n",
              " 'why ',\n",
              " 'i love to read',\n",
              " 'what kind of music ',\n",
              " 'i like to go to the beach ',\n",
              " 'what beach ',\n",
              " 'i do not have any pets ',\n",
              " 'is your dog pet or not ',\n",
              " 'he is a golden retriever ',\n",
              " 'isn t that a pet ',\n",
              " 'yeah i guess ',\n",
              " 'okey that was a bit offensive',\n",
              " 'it was nice talking to you',\n",
              " 'thx for conversation',\n",
              " 'ok no response',\n",
              " 'hi',\n",
              " 'hi how are you ',\n",
              " 'i am doing well how are you ',\n",
              " 'fine too what are you up to ',\n",
              " 'that is cool i am a teacher ',\n",
              " 'alright what s your subject ',\n",
              " 'hi',\n",
              " 'howdy stranger',\n",
              " 'i love dogs i have two dogs ',\n",
              " 'do you have siblings ',\n",
              " 'ciao how do you do ',\n",
              " 'bonjour mon ami ',\n",
              " 'contour how are you today ',\n",
              " 'well not any more',\n",
              " 'i m a teacher',\n",
              " 'oh what do you teach ',\n",
              " 'languages',\n",
              " 'i teach english ',\n",
              " 'you are a nurse or a teacher',\n",
              " 'i m a teacher',\n",
              " 'how old are your students ',\n",
              " 'chatbot testing',\n",
              " 'oh very interesting ',\n",
              " 'just told you',\n",
              " 'what is your favorite book ',\n",
              " 'i m a teacher damn it',\n",
              " 'do you deliver ',\n",
              " 'hi there how are you ',\n",
              " 'do you have family ',\n",
              " 'no i don t do you ',\n",
              " 'hope they won t feel blue ',\n",
              " 'they are so cute ',\n",
              " 'alright got to go',\n",
              " 'where are you going ',\n",
              " 'enjoy see you later',\n",
              " 'good day',\n",
              " 'she cheated me for years',\n",
              " 'that is horrible i am sorry ',\n",
              " 'hello ',\n",
              " 'hi there ',\n",
              " 'so tell me about yourself',\n",
              " 'i m a chef what do you do ',\n",
              " 'i got a new job recently ',\n",
              " 'that s great you are a chef ',\n",
              " 'i m in insurance',\n",
              " 'the usa how about you ',\n",
              " 'i live in north carolina ',\n",
              " 'what city ',\n",
              " 'about a year what about you ',\n",
              " 'two',\n",
              " 'was it hard ',\n",
              " 'it was okay what do you do ',\n",
              " 'what s your favourite team ',\n",
              " 'what do you like ',\n",
              " 'that i don t live there ',\n",
              " 'i grew up in the south ',\n",
              " 'what city did you grow up in ',\n",
              " 'hi',\n",
              " 'how are you ',\n",
              " 'hi there how are you ',\n",
              " '41',\n",
              " 'oh wow do you like cars ',\n",
              " 'hi',\n",
              " 'i love it',\n",
              " 'oh i am sorry i am a teacher ',\n",
              " 'i hate school',\n",
              " 'i hate school i hate school',\n",
              " 'seriously ',\n",
              " 'i love to read',\n",
              " 'oh i see',\n",
              " 'oh i am sorry i am sorry ',\n",
              " 'i don t have many friends too',\n",
              " 'do you have any pets ',\n",
              " 'no',\n",
              " 'oh okay you have any pets ',\n",
              " 'bye',\n",
              " 'i m fine',\n",
              " 'what are you up to today ',\n",
              " 'yes',\n",
              " 'what do you do for work ',\n",
              " 'i m a student',\n",
              " 'what are you studying ',\n",
              " 'art',\n",
              " 'what city are you from ',\n",
              " 'chicago and you ',\n",
              " 'i m in cali what do you do ',\n",
              " 'where is cali',\n",
              " 'i am in cali right now ',\n",
              " 'what do you do for work',\n",
              " 'it is a small business ',\n",
              " 'how old are you',\n",
              " 'hey what s up',\n",
              " 'what s up',\n",
              " 'hey man',\n",
              " 'nice where did you run ',\n",
              " 'the gym i love running ',\n",
              " 'i love pizza',\n",
              " 'i m from dublin',\n",
              " 'i am in cali ',\n",
              " 'what part of cali',\n",
              " 'i live in boston ',\n",
              " 'ok see you later',\n",
              " 'hi',\n",
              " 'hi how are you today',\n",
              " 'i just bought a condo',\n",
              " 'nice do you have any hobbies ',\n",
              " 'how about you ',\n",
              " 'i see the rolling stones',\n",
              " 'hi',\n",
              " 'how are you ',\n",
              " 'i am doing well how are you ',\n",
              " ' ',\n",
              " 'i love to read',\n",
              " 'zzzz ',\n",
              " 'i love to read',\n",
              " 'leave me alone',\n",
              " 'what do you do for a living ',\n",
              " 'you are very smart',\n",
              " 'ups ',\n",
              " 'you are very funny ',\n",
              " 'i am not sure what you mean',\n",
              " 'what s your favorite joke ',\n",
              " 'i like to read ',\n",
              " 'why ',\n",
              " 'i love to read',\n",
              " 'hi',\n",
              " 'so what are you doing ',\n",
              " 'i am not sure what you mean ',\n",
              " 'haha',\n",
              " 'what do you do for a living ',\n",
              " 'what does machiavellian mean ',\n",
              " 'well i am not sure ',\n",
              " 'do you know everything ',\n",
              " 'so what do you do all day ',\n",
              " 'i like to play video games ',\n",
              " 'what s your favorite game ',\n",
              " 'i like to go to the beach',\n",
              " 'do you have friends ',\n",
              " 'i do not have any ',\n",
              " 'i do not know what to say',\n",
              " 'hi',\n",
              " 'hi',\n",
              " 'hello how are you ',\n",
              " 'i hate niggas ',\n",
              " 'i hate it i hate it ',\n",
              " 'do you hate yourself ',\n",
              " 'i am not sure what you mean',\n",
              " 'how are you ',\n",
              " 'i am doing well how are you ',\n",
              " 'hi',\n",
              " 'hello how are you today ',\n",
              " 'what do you do for a living ',\n",
              " 'i see it',\n",
              " 'what grade are you in ',\n",
              " 'i never went to school',\n",
              " 'what grade do you teach ',\n",
              " 'do not be silent ',\n",
              " 'hi sexy boy',\n",
              " 'why don t you answer me ',\n",
              " 'i m not enought good for you ',\n",
              " 'heeeeeeey',\n",
              " 'i like the color of your eyes',\n",
              " 'i will be what is your',\n",
              " 'i love your sexy ass',\n",
              " 'i don t have time for it',\n",
              " 'why ',\n",
              " 'do you have',\n",
              " 'i love hard sex do you ',\n",
              " 'yes i do i am a',\n",
              " 'i m good just got off work ',\n",
              " 'papaya what about you ',\n",
              " 'hummus ',\n",
              " 'do you have a family i don t ',\n",
              " 'i have',\n",
              " 'oh do you know italian ',\n",
              " 'bi learn german',\n",
              " 'wow nice',\n",
              " 'i rarely travel',\n",
              " 'i study',\n",
              " 'hi',\n",
              " 'hi',\n",
              " 'hello how are you ',\n",
              " 'not bad at all',\n",
              " 'what do you do for a living ',\n",
              " 'how are yoy ',\n",
              " 'i am doing well how are you ',\n",
              " 'good',\n",
              " 'what do you do for a living ',\n",
              " 'i m retired',\n",
              " 'what did you do ',\n",
              " 'nothing',\n",
              " 'what do you do for a living ',\n",
              " ...]"
            ]
          },
          "metadata": {},
          "execution_count": 30
        }
      ]
    },
    {
      "cell_type": "code",
      "metadata": {
        "colab": {
          "base_uri": "https://localhost:8080/"
        },
        "id": "_eamupg4zOxk",
        "outputId": "eeeaede3-84ba-4bdf-8a8d-7920c5b3dd3f"
      },
      "source": [
        "i = np.random.choice(len(input_sentences))\n",
        "input_seq = encoder_input_sequences[i:i+1]\n",
        "answer = answer_sentence(input_seq)\n",
        "print('-')\n",
        "print('Input:', input_sentences[i])\n",
        "print('Response:', answer)"
      ],
      "execution_count": 40,
      "outputs": [
        {
          "output_type": "stream",
          "name": "stdout",
          "text": [
            "1/1 [==============================] - 0s 22ms/step\n",
            "1/1 [==============================] - 0s 23ms/step\n",
            "1/1 [==============================] - 0s 20ms/step\n",
            "1/1 [==============================] - 0s 21ms/step\n",
            "1/1 [==============================] - 0s 20ms/step\n",
            "-\n",
            "Input: hello how are you doing \n",
            "Response: i am fine\n"
          ]
        }
      ]
    },
    {
      "cell_type": "markdown",
      "source": [
        "Esta respuesta tiene sentido, pero no acierta muchas de las veces"
      ],
      "metadata": {
        "id": "ALY8qoclLUZV"
      }
    },
    {
      "cell_type": "code",
      "metadata": {
        "colab": {
          "base_uri": "https://localhost:8080/"
        },
        "id": "AU3lnT4xzj52",
        "outputId": "fe66c215-20c5-4c23-9ce7-1ac8f4d07f8c"
      },
      "source": [
        "i = np.random.choice(len(input_sentences))\n",
        "input_seq = encoder_input_sequences[i:i+1]\n",
        "answer = answer_sentence(input_seq)\n",
        "print('-')\n",
        "print('Input:', input_sentences[i])\n",
        "print('Response:', answer)"
      ],
      "execution_count": 43,
      "outputs": [
        {
          "output_type": "stream",
          "name": "stdout",
          "text": [
            "1/1 [==============================] - 0s 19ms/step\n",
            "1/1 [==============================] - 0s 21ms/step\n",
            "1/1 [==============================] - 0s 24ms/step\n",
            "1/1 [==============================] - 0s 24ms/step\n",
            "1/1 [==============================] - 0s 24ms/step\n",
            "1/1 [==============================] - 0s 22ms/step\n",
            "1/1 [==============================] - 0s 23ms/step\n",
            "1/1 [==============================] - 0s 24ms/step\n",
            "-\n",
            "Input: oh okay i like to sing \n",
            "Response: i like to play video games\n"
          ]
        }
      ]
    },
    {
      "cell_type": "code",
      "source": [
        "encoder_input_sequences[i:i+1]"
      ],
      "metadata": {
        "colab": {
          "base_uri": "https://localhost:8080/"
        },
        "id": "0J4A-M67NpfH",
        "outputId": "040e5406-8845-416a-c365-b09602b0e1c3"
      },
      "execution_count": 47,
      "outputs": [
        {
          "output_type": "execute_result",
          "data": {
            "text/plain": [
              "array([[  0,   0,   0,   0,   0,   4,   3,   2, 104]], dtype=int32)"
            ]
          },
          "metadata": {},
          "execution_count": 47
        }
      ]
    },
    {
      "cell_type": "code",
      "source": [
        "i = np.random.choice(len(input_sentences))\n",
        "input_seq = encoder_input_sequences[i:i+1]\n",
        "answer = answer_sentence(input_seq)\n",
        "print('-')\n",
        "print('Input:', input_sentences[i])\n",
        "print('Response:', answer)"
      ],
      "metadata": {
        "id": "WYhJCuZIDTZu",
        "colab": {
          "base_uri": "https://localhost:8080/"
        },
        "outputId": "de2cfa08-9f89-4a4b-e94d-779c2ef48b52"
      },
      "execution_count": 44,
      "outputs": [
        {
          "output_type": "stream",
          "name": "stdout",
          "text": [
            "1/1 [==============================] - 0s 18ms/step\n",
            "1/1 [==============================] - 0s 23ms/step\n",
            "1/1 [==============================] - 0s 24ms/step\n",
            "1/1 [==============================] - 0s 23ms/step\n",
            "1/1 [==============================] - 0s 20ms/step\n",
            "1/1 [==============================] - 0s 23ms/step\n",
            "1/1 [==============================] - 0s 26ms/step\n",
            "1/1 [==============================] - 0s 24ms/step\n",
            "1/1 [==============================] - 0s 26ms/step\n",
            "1/1 [==============================] - 0s 25ms/step\n",
            "-\n",
            "Input: what do you study \n",
            "Response: i am a vegan i am a vegan\n"
          ]
        }
      ]
    },
    {
      "cell_type": "markdown",
      "source": [
        "???\n"
      ],
      "metadata": {
        "id": "H7bYMWP7L-Kg"
      }
    }
  ]
}