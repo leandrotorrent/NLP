{
  "cells": [
    {
      "attachments": {},
      "cell_type": "markdown",
      "metadata": {
        "id": "g3yeJGnCYxuF"
      },
      "source": [
        "# Trabajo Práctico N°4: NLP\n",
        "## Predicción de palabra siguiente"
      ]
    },
    {
      "cell_type": "code",
      "execution_count": 1,
      "metadata": {
        "id": "Y-QdFbHZYj7C"
      },
      "outputs": [],
      "source": [
        "import random\n",
        "import io\n",
        "import pickle\n",
        "\n",
        "import numpy as np\n",
        "import pandas as pd\n",
        "\n",
        "from tensorflow import keras\n",
        "from tensorflow.keras import layers\n",
        "from keras.utils.np_utils import to_categorical\n",
        "from keras.models import Sequential\n",
        "from keras.layers import Dense, LSTM, Embedding, Dropout"
      ]
    },
    {
      "attachments": {},
      "cell_type": "markdown",
      "metadata": {
        "id": "xTvXlEKQZdqx"
      },
      "source": [
        "### Datos\n",
        "Se utilizó inicialmente el libro Harry Potter y la Piedra Filosofal para la generación de modelos. Al ver pobres resultados con 2 configuraciones distintas en la arquitectura del modelo y con la intención de obtener una mejoría, se decidió agregar también al dataset el segundo libro de la saga, Harry Potter y la Cámara Secreta.\n"
      ]
    },
    {
      "cell_type": "code",
      "execution_count": 2,
      "metadata": {
        "id": "6-dLr4tAFAlI"
      },
      "outputs": [],
      "source": [
        "import re\n",
        "\n",
        "# Leer el archivo como un solo string\n",
        "with open('Harry Potter 1.txt', 'r') as f:\n",
        "    texto = f.read()\n",
        "\n",
        "# Reemplazar \"\\n\\n\" por \".\" y \"\\n\" por \" \"\n",
        "texto = texto.replace('\\n\\n', '. ').replace('\\n', ' ')\n",
        "\n",
        "# Eliminar los guiones, signos de exclamación, interrogación\n",
        "texto = re.sub(r'[-—¡¿!?]', '', texto)\n",
        "\n",
        "# Si quieres escribir el texto modificado a un nuevo archivo:\n",
        "with open('Harry Potter 1_modificado.txt', 'w') as f:\n",
        "    f.write(texto)\n",
        "\n",
        "#Repito para el segundo libro\n",
        "with open('Harry Potter y la Camara Secreta.txt', 'r') as f:\n",
        "    texto = f.read()\n",
        "texto = texto.replace('\\n\\n', '. ').replace('\\n', ' ')\n",
        "texto = re.sub(r'[-—¡¿!?]', '', texto)\n",
        "with open('Harry Potter y la Camara Secreta_modificado.txt', 'w') as f:\n",
        "    f.write(texto)"
      ]
    },
    {
      "cell_type": "code",
      "execution_count": 3,
      "metadata": {
        "colab": {
          "base_uri": "https://localhost:8080/"
        },
        "id": "r8Rx_oTyFeTg",
        "outputId": "586ed8f4-ee23-408f-acc3-a6d0efaba2c8"
      },
      "outputs": [
        {
          "name": "stderr",
          "output_type": "stream",
          "text": [
            "[nltk_data] Downloading package stopwords to /root/nltk_data...\n",
            "[nltk_data]   Unzipping corpora/stopwords.zip.\n",
            "[nltk_data] Downloading package punkt to /root/nltk_data...\n",
            "[nltk_data]   Unzipping tokenizers/punkt.zip.\n"
          ]
        }
      ],
      "source": [
        "import nltk\n",
        "from nltk.corpus import stopwords\n",
        "from nltk.tokenize import word_tokenize\n",
        "\n",
        "# Descarga el conjunto de stopwords de NLTK si aún no lo has hecho\n",
        "nltk.download('stopwords')\n",
        "\n",
        "# Descarga el tokenizador de NLTK si aún no lo has hecho\n",
        "nltk.download('punkt')\n",
        "\n",
        "# Cargar el tokenizador de oraciones español de NLTK\n",
        "spanish_tokenizer = nltk.data.load('tokenizers/punkt/spanish.pickle')\n",
        "\n",
        "# Carga las stopwords en español de NLTK\n",
        "stop_words = set(stopwords.words('spanish'))\n",
        "\n",
        "sentences = []\n",
        "sentences_2 = []\n",
        "sentences_no_stopwords = []\n",
        "\n",
        "with open('Harry Potter 1_modificado.txt', 'r') as f:\n",
        "    for line in f:\n",
        "        line_sentences = spanish_tokenizer.tokenize(line)\n",
        "        sentences.extend(line_sentences)\n",
        "        \n",
        "\n",
        "with open('Harry Potter y la Camara Secreta_modificado.txt', 'r') as f:\n",
        "    for line in f:\n",
        "        line_sentences = spanish_tokenizer.tokenize(line)\n",
        "        sentences_2.extend(line_sentences)\n",
        "        \n",
        "\n",
        "\n",
        "# Convierte la lista de oraciones en un DataFrame\n",
        "df = pd.DataFrame(sentences, columns=['sentence'])\n",
        "df_2 = pd.DataFrame(sentences_2, columns=['sentence'])\n",
        "df_extendido = pd.concat([df, df_2])\n",
        "\n"
      ]
    },
    {
      "cell_type": "code",
      "execution_count": 4,
      "metadata": {
        "colab": {
          "base_uri": "https://localhost:8080/",
          "height": 206
        },
        "id": "E0kTAp8bFh3e",
        "outputId": "fd475827-b60c-4592-f2ee-ee2bfa0ff501"
      },
      "outputs": [
        {
          "data": {
            "text/html": [
              "\n",
              "  <div id=\"df-66879c41-506e-4001-b2b9-0cb98bea67c9\">\n",
              "    <div class=\"colab-df-container\">\n",
              "      <div>\n",
              "<style scoped>\n",
              "    .dataframe tbody tr th:only-of-type {\n",
              "        vertical-align: middle;\n",
              "    }\n",
              "\n",
              "    .dataframe tbody tr th {\n",
              "        vertical-align: top;\n",
              "    }\n",
              "\n",
              "    .dataframe thead th {\n",
              "        text-align: right;\n",
              "    }\n",
              "</style>\n",
              "<table border=\"1\" class=\"dataframe\">\n",
              "  <thead>\n",
              "    <tr style=\"text-align: right;\">\n",
              "      <th></th>\n",
              "      <th>sentence</th>\n",
              "    </tr>\n",
              "  </thead>\n",
              "  <tbody>\n",
              "    <tr>\n",
              "      <th>0</th>\n",
              "      <td>El niño que vivió.</td>\n",
              "    </tr>\n",
              "    <tr>\n",
              "      <th>1</th>\n",
              "      <td>El señor y la señora Dursley, que vivían en el...</td>\n",
              "    </tr>\n",
              "    <tr>\n",
              "      <th>2</th>\n",
              "      <td>Eran las últimas personas que se esperaría enc...</td>\n",
              "    </tr>\n",
              "    <tr>\n",
              "      <th>3</th>\n",
              "      <td>El señor Dursley era el director de una empres...</td>\n",
              "    </tr>\n",
              "    <tr>\n",
              "      <th>4</th>\n",
              "      <td>Era un hombre corpulento y rollizo, casi sin c...</td>\n",
              "    </tr>\n",
              "  </tbody>\n",
              "</table>\n",
              "</div>\n",
              "      <button class=\"colab-df-convert\" onclick=\"convertToInteractive('df-66879c41-506e-4001-b2b9-0cb98bea67c9')\"\n",
              "              title=\"Convert this dataframe to an interactive table.\"\n",
              "              style=\"display:none;\">\n",
              "        \n",
              "  <svg xmlns=\"http://www.w3.org/2000/svg\" height=\"24px\"viewBox=\"0 0 24 24\"\n",
              "       width=\"24px\">\n",
              "    <path d=\"M0 0h24v24H0V0z\" fill=\"none\"/>\n",
              "    <path d=\"M18.56 5.44l.94 2.06.94-2.06 2.06-.94-2.06-.94-.94-2.06-.94 2.06-2.06.94zm-11 1L8.5 8.5l.94-2.06 2.06-.94-2.06-.94L8.5 2.5l-.94 2.06-2.06.94zm10 10l.94 2.06.94-2.06 2.06-.94-2.06-.94-.94-2.06-.94 2.06-2.06.94z\"/><path d=\"M17.41 7.96l-1.37-1.37c-.4-.4-.92-.59-1.43-.59-.52 0-1.04.2-1.43.59L10.3 9.45l-7.72 7.72c-.78.78-.78 2.05 0 2.83L4 21.41c.39.39.9.59 1.41.59.51 0 1.02-.2 1.41-.59l7.78-7.78 2.81-2.81c.8-.78.8-2.07 0-2.86zM5.41 20L4 18.59l7.72-7.72 1.47 1.35L5.41 20z\"/>\n",
              "  </svg>\n",
              "      </button>\n",
              "      \n",
              "  <style>\n",
              "    .colab-df-container {\n",
              "      display:flex;\n",
              "      flex-wrap:wrap;\n",
              "      gap: 12px;\n",
              "    }\n",
              "\n",
              "    .colab-df-convert {\n",
              "      background-color: #E8F0FE;\n",
              "      border: none;\n",
              "      border-radius: 50%;\n",
              "      cursor: pointer;\n",
              "      display: none;\n",
              "      fill: #1967D2;\n",
              "      height: 32px;\n",
              "      padding: 0 0 0 0;\n",
              "      width: 32px;\n",
              "    }\n",
              "\n",
              "    .colab-df-convert:hover {\n",
              "      background-color: #E2EBFA;\n",
              "      box-shadow: 0px 1px 2px rgba(60, 64, 67, 0.3), 0px 1px 3px 1px rgba(60, 64, 67, 0.15);\n",
              "      fill: #174EA6;\n",
              "    }\n",
              "\n",
              "    [theme=dark] .colab-df-convert {\n",
              "      background-color: #3B4455;\n",
              "      fill: #D2E3FC;\n",
              "    }\n",
              "\n",
              "    [theme=dark] .colab-df-convert:hover {\n",
              "      background-color: #434B5C;\n",
              "      box-shadow: 0px 1px 3px 1px rgba(0, 0, 0, 0.15);\n",
              "      filter: drop-shadow(0px 1px 2px rgba(0, 0, 0, 0.3));\n",
              "      fill: #FFFFFF;\n",
              "    }\n",
              "  </style>\n",
              "\n",
              "      <script>\n",
              "        const buttonEl =\n",
              "          document.querySelector('#df-66879c41-506e-4001-b2b9-0cb98bea67c9 button.colab-df-convert');\n",
              "        buttonEl.style.display =\n",
              "          google.colab.kernel.accessAllowed ? 'block' : 'none';\n",
              "\n",
              "        async function convertToInteractive(key) {\n",
              "          const element = document.querySelector('#df-66879c41-506e-4001-b2b9-0cb98bea67c9');\n",
              "          const dataTable =\n",
              "            await google.colab.kernel.invokeFunction('convertToInteractive',\n",
              "                                                     [key], {});\n",
              "          if (!dataTable) return;\n",
              "\n",
              "          const docLinkHtml = 'Like what you see? Visit the ' +\n",
              "            '<a target=\"_blank\" href=https://colab.research.google.com/notebooks/data_table.ipynb>data table notebook</a>'\n",
              "            + ' to learn more about interactive tables.';\n",
              "          element.innerHTML = '';\n",
              "          dataTable['output_type'] = 'display_data';\n",
              "          await google.colab.output.renderOutput(dataTable, element);\n",
              "          const docLink = document.createElement('div');\n",
              "          docLink.innerHTML = docLinkHtml;\n",
              "          element.appendChild(docLink);\n",
              "        }\n",
              "      </script>\n",
              "    </div>\n",
              "  </div>\n",
              "  "
            ],
            "text/plain": [
              "                                            sentence\n",
              "0                                 El niño que vivió.\n",
              "1  El señor y la señora Dursley, que vivían en el...\n",
              "2  Eran las últimas personas que se esperaría enc...\n",
              "3  El señor Dursley era el director de una empres...\n",
              "4  Era un hombre corpulento y rollizo, casi sin c..."
            ]
          },
          "execution_count": 4,
          "metadata": {},
          "output_type": "execute_result"
        }
      ],
      "source": [
        "df.head()"
      ]
    },
    {
      "cell_type": "code",
      "execution_count": 5,
      "metadata": {
        "colab": {
          "base_uri": "https://localhost:8080/",
          "height": 206
        },
        "id": "6nOcWn3-YBuR",
        "outputId": "eb2185bc-c0f6-43ef-de57-2ef78d82b8f3"
      },
      "outputs": [
        {
          "data": {
            "text/html": [
              "\n",
              "  <div id=\"df-6853d68e-3e95-4a57-b23c-f5c08c5ac994\">\n",
              "    <div class=\"colab-df-container\">\n",
              "      <div>\n",
              "<style scoped>\n",
              "    .dataframe tbody tr th:only-of-type {\n",
              "        vertical-align: middle;\n",
              "    }\n",
              "\n",
              "    .dataframe tbody tr th {\n",
              "        vertical-align: top;\n",
              "    }\n",
              "\n",
              "    .dataframe thead th {\n",
              "        text-align: right;\n",
              "    }\n",
              "</style>\n",
              "<table border=\"1\" class=\"dataframe\">\n",
              "  <thead>\n",
              "    <tr style=\"text-align: right;\">\n",
              "      <th></th>\n",
              "      <th>sentence</th>\n",
              "    </tr>\n",
              "  </thead>\n",
              "  <tbody>\n",
              "    <tr>\n",
              "      <th>0</th>\n",
              "      <td>Tras derrotar una vez más a lord Voldemort, su...</td>\n",
              "    </tr>\n",
              "    <tr>\n",
              "      <th>1</th>\n",
              "      <td>Sin embargo, la espera dura poco, pues un elfo...</td>\n",
              "    </tr>\n",
              "    <tr>\n",
              "      <th>2</th>\n",
              "      <td>Así pues, Harry no se lo piensa dos veces y, a...</td>\n",
              "    </tr>\n",
              "    <tr>\n",
              "      <th>3</th>\n",
              "      <td>Pero puede un aprendiz de mago defender la esc...</td>\n",
              "    </tr>\n",
              "    <tr>\n",
              "      <th>4</th>\n",
              "      <td>A primera hora de la mañana, había despertado ...</td>\n",
              "    </tr>\n",
              "  </tbody>\n",
              "</table>\n",
              "</div>\n",
              "      <button class=\"colab-df-convert\" onclick=\"convertToInteractive('df-6853d68e-3e95-4a57-b23c-f5c08c5ac994')\"\n",
              "              title=\"Convert this dataframe to an interactive table.\"\n",
              "              style=\"display:none;\">\n",
              "        \n",
              "  <svg xmlns=\"http://www.w3.org/2000/svg\" height=\"24px\"viewBox=\"0 0 24 24\"\n",
              "       width=\"24px\">\n",
              "    <path d=\"M0 0h24v24H0V0z\" fill=\"none\"/>\n",
              "    <path d=\"M18.56 5.44l.94 2.06.94-2.06 2.06-.94-2.06-.94-.94-2.06-.94 2.06-2.06.94zm-11 1L8.5 8.5l.94-2.06 2.06-.94-2.06-.94L8.5 2.5l-.94 2.06-2.06.94zm10 10l.94 2.06.94-2.06 2.06-.94-2.06-.94-.94-2.06-.94 2.06-2.06.94z\"/><path d=\"M17.41 7.96l-1.37-1.37c-.4-.4-.92-.59-1.43-.59-.52 0-1.04.2-1.43.59L10.3 9.45l-7.72 7.72c-.78.78-.78 2.05 0 2.83L4 21.41c.39.39.9.59 1.41.59.51 0 1.02-.2 1.41-.59l7.78-7.78 2.81-2.81c.8-.78.8-2.07 0-2.86zM5.41 20L4 18.59l7.72-7.72 1.47 1.35L5.41 20z\"/>\n",
              "  </svg>\n",
              "      </button>\n",
              "      \n",
              "  <style>\n",
              "    .colab-df-container {\n",
              "      display:flex;\n",
              "      flex-wrap:wrap;\n",
              "      gap: 12px;\n",
              "    }\n",
              "\n",
              "    .colab-df-convert {\n",
              "      background-color: #E8F0FE;\n",
              "      border: none;\n",
              "      border-radius: 50%;\n",
              "      cursor: pointer;\n",
              "      display: none;\n",
              "      fill: #1967D2;\n",
              "      height: 32px;\n",
              "      padding: 0 0 0 0;\n",
              "      width: 32px;\n",
              "    }\n",
              "\n",
              "    .colab-df-convert:hover {\n",
              "      background-color: #E2EBFA;\n",
              "      box-shadow: 0px 1px 2px rgba(60, 64, 67, 0.3), 0px 1px 3px 1px rgba(60, 64, 67, 0.15);\n",
              "      fill: #174EA6;\n",
              "    }\n",
              "\n",
              "    [theme=dark] .colab-df-convert {\n",
              "      background-color: #3B4455;\n",
              "      fill: #D2E3FC;\n",
              "    }\n",
              "\n",
              "    [theme=dark] .colab-df-convert:hover {\n",
              "      background-color: #434B5C;\n",
              "      box-shadow: 0px 1px 3px 1px rgba(0, 0, 0, 0.15);\n",
              "      filter: drop-shadow(0px 1px 2px rgba(0, 0, 0, 0.3));\n",
              "      fill: #FFFFFF;\n",
              "    }\n",
              "  </style>\n",
              "\n",
              "      <script>\n",
              "        const buttonEl =\n",
              "          document.querySelector('#df-6853d68e-3e95-4a57-b23c-f5c08c5ac994 button.colab-df-convert');\n",
              "        buttonEl.style.display =\n",
              "          google.colab.kernel.accessAllowed ? 'block' : 'none';\n",
              "\n",
              "        async function convertToInteractive(key) {\n",
              "          const element = document.querySelector('#df-6853d68e-3e95-4a57-b23c-f5c08c5ac994');\n",
              "          const dataTable =\n",
              "            await google.colab.kernel.invokeFunction('convertToInteractive',\n",
              "                                                     [key], {});\n",
              "          if (!dataTable) return;\n",
              "\n",
              "          const docLinkHtml = 'Like what you see? Visit the ' +\n",
              "            '<a target=\"_blank\" href=https://colab.research.google.com/notebooks/data_table.ipynb>data table notebook</a>'\n",
              "            + ' to learn more about interactive tables.';\n",
              "          element.innerHTML = '';\n",
              "          dataTable['output_type'] = 'display_data';\n",
              "          await google.colab.output.renderOutput(dataTable, element);\n",
              "          const docLink = document.createElement('div');\n",
              "          docLink.innerHTML = docLinkHtml;\n",
              "          element.appendChild(docLink);\n",
              "        }\n",
              "      </script>\n",
              "    </div>\n",
              "  </div>\n",
              "  "
            ],
            "text/plain": [
              "                                            sentence\n",
              "0  Tras derrotar una vez más a lord Voldemort, su...\n",
              "1  Sin embargo, la espera dura poco, pues un elfo...\n",
              "2  Así pues, Harry no se lo piensa dos veces y, a...\n",
              "3  Pero puede un aprendiz de mago defender la esc...\n",
              "4  A primera hora de la mañana, había despertado ..."
            ]
          },
          "execution_count": 5,
          "metadata": {},
          "output_type": "execute_result"
        }
      ],
      "source": [
        "df_2.head()"
      ]
    },
    {
      "cell_type": "code",
      "execution_count": 6,
      "metadata": {
        "colab": {
          "base_uri": "https://localhost:8080/"
        },
        "id": "riT898QlZnmF",
        "outputId": "54f658cd-7d8c-4ccd-cdda-5e627d880146"
      },
      "outputs": [
        {
          "name": "stdout",
          "output_type": "stream",
          "text": [
            "Cantidad de documentos en el primer libro: 5840\n",
            "Cantidad de documentos en el segundo libro: 5743\n",
            "Cantidad de documentos en el segundo libro: 11583\n"
          ]
        }
      ],
      "source": [
        "print(\"Cantidad de documentos en el primer libro:\", df.shape[0])\n",
        "print(\"Cantidad de documentos en el segundo libro:\", df_2.shape[0])\n",
        "print(\"Cantidad de documentos en el segundo libro:\", df_extendido.shape[0])"
      ]
    },
    {
      "attachments": {},
      "cell_type": "markdown",
      "metadata": {
        "id": "RDoouHp7Zp6D"
      },
      "source": [
        "### 1 - Ejemplo de Preprocesamiento\n",
        "- Hay que transformar las oraciones en tokens.\n",
        "- Dichas oraciones hay que ajustarlas al tamaño fijo de nuestra sentencia de entrada al modelo.\n",
        "- Hay que separar las palabras objetivos (target) que el modelo debe predecir en cada sentencia armada."
      ]
    },
    {
      "cell_type": "code",
      "execution_count": 7,
      "metadata": {
        "id": "m5FeTaGvbDbw"
      },
      "outputs": [],
      "source": [
        "from keras.preprocessing.text import Tokenizer # equivalente a ltokenizer de nltk\n",
        "from keras.preprocessing.text import text_to_word_sequence # equivalente a word_tokenize de nltk\n",
        "from keras.utils import pad_sequences # se utilizará para padding\n",
        "from keras.layers import Bidirectional\n",
        "\n",
        "# largo de la secuencia, incluye seq input + word output\n",
        "train_len = 4"
      ]
    },
    {
      "cell_type": "code",
      "execution_count": 8,
      "metadata": {
        "colab": {
          "base_uri": "https://localhost:8080/",
          "height": 35
        },
        "id": "Zf3O7eK6ZpP8",
        "outputId": "3d458e94-e26d-4f4f-b1c7-535f0754e5da"
      },
      "outputs": [
        {
          "data": {
            "application/vnd.google.colaboratory.intrinsic+json": {
              "type": "string"
            },
            "text/plain": [
              "'El niño que vivió.'"
            ]
          },
          "execution_count": 8,
          "metadata": {},
          "output_type": "execute_result"
        }
      ],
      "source": [
        "# Ejemplo de como transformar una oración a tokens usando keras\n",
        "text1 = df.iloc[0,0]\n",
        "text2 = df.iloc[1,0]\n",
        "text1"
      ]
    },
    {
      "attachments": {},
      "cell_type": "markdown",
      "metadata": {
        "id": "84xfqexjKauH"
      },
      "source": [
        "en text1, la oración tiene la misma cantidad de palabnras que train_len"
      ]
    },
    {
      "cell_type": "code",
      "execution_count": 9,
      "metadata": {
        "colab": {
          "base_uri": "https://localhost:8080/",
          "height": 35
        },
        "id": "xusVvdJ8KYZG",
        "outputId": "648f4050-52d6-4907-94e2-967dbb1bf657"
      },
      "outputs": [
        {
          "data": {
            "application/vnd.google.colaboratory.intrinsic+json": {
              "type": "string"
            },
            "text/plain": [
              "'El señor y la señora Dursley, que vivían en el número 4 de Privet Drive, estaban orgullosos de decir que eran muy normales, afortunadamente.'"
            ]
          },
          "execution_count": 9,
          "metadata": {},
          "output_type": "execute_result"
        }
      ],
      "source": [
        "text2"
      ]
    },
    {
      "cell_type": "code",
      "execution_count": 10,
      "metadata": {
        "colab": {
          "base_uri": "https://localhost:8080/"
        },
        "id": "AOv67Sj7aeFH",
        "outputId": "896d5baf-c973-4fb7-e7e9-b3984fdcb7da"
      },
      "outputs": [
        {
          "data": {
            "text/plain": [
              "['el', 'niño', 'que', 'vivió']"
            ]
          },
          "execution_count": 10,
          "metadata": {},
          "output_type": "execute_result"
        }
      ],
      "source": [
        "tokens1 = text_to_word_sequence(text1) # entran oraciones -> salen vectores de N posiciones (tokens)\n",
        "tokens1"
      ]
    },
    {
      "cell_type": "code",
      "execution_count": 11,
      "metadata": {
        "colab": {
          "base_uri": "https://localhost:8080/"
        },
        "id": "-0j7lDNFKk0N",
        "outputId": "758c856c-4a2a-4ae7-922d-26e543cea252"
      },
      "outputs": [
        {
          "data": {
            "text/plain": [
              "['el',\n",
              " 'señor',\n",
              " 'y',\n",
              " 'la',\n",
              " 'señora',\n",
              " 'dursley',\n",
              " 'que',\n",
              " 'vivían',\n",
              " 'en',\n",
              " 'el',\n",
              " 'número',\n",
              " '4',\n",
              " 'de',\n",
              " 'privet',\n",
              " 'drive',\n",
              " 'estaban',\n",
              " 'orgullosos',\n",
              " 'de',\n",
              " 'decir',\n",
              " 'que',\n",
              " 'eran',\n",
              " 'muy',\n",
              " 'normales',\n",
              " 'afortunadamente']"
            ]
          },
          "execution_count": 11,
          "metadata": {},
          "output_type": "execute_result"
        }
      ],
      "source": [
        "tokens2 = text_to_word_sequence(text2) # entran oraciones -> salen vectores de N posiciones (tokens)\n",
        "tokens2"
      ]
    },
    {
      "attachments": {},
      "cell_type": "markdown",
      "metadata": {
        "id": "ZrlyqkoiaymK"
      },
      "source": [
        "1.1 - Transformar las oraciones en secuencias (tokens) de palabras"
      ]
    },
    {
      "cell_type": "code",
      "execution_count": 12,
      "metadata": {
        "id": "XH_L14Wjaowe"
      },
      "outputs": [],
      "source": [
        "# Recorrer todas las filas y transformar las oraciones\n",
        "# en secuencias de palabras\n",
        "sentence_tokens = []\n",
        "for _, row in df[:None].iterrows():\n",
        "    sentence_tokens.append(text_to_word_sequence(row[0]))"
      ]
    },
    {
      "cell_type": "code",
      "execution_count": 13,
      "metadata": {
        "colab": {
          "base_uri": "https://localhost:8080/"
        },
        "id": "KASzU4CdaxbZ",
        "outputId": "68d01ef7-2926-4b28-9d4c-ab5f2da371e4"
      },
      "outputs": [
        {
          "data": {
            "text/plain": [
              "[['el', 'niño', 'que', 'vivió'],\n",
              " ['el',\n",
              "  'señor',\n",
              "  'y',\n",
              "  'la',\n",
              "  'señora',\n",
              "  'dursley',\n",
              "  'que',\n",
              "  'vivían',\n",
              "  'en',\n",
              "  'el',\n",
              "  'número',\n",
              "  '4',\n",
              "  'de',\n",
              "  'privet',\n",
              "  'drive',\n",
              "  'estaban',\n",
              "  'orgullosos',\n",
              "  'de',\n",
              "  'decir',\n",
              "  'que',\n",
              "  'eran',\n",
              "  'muy',\n",
              "  'normales',\n",
              "  'afortunadamente']]"
            ]
          },
          "execution_count": 13,
          "metadata": {},
          "output_type": "execute_result"
        }
      ],
      "source": [
        "# Demos un vistazo\n",
        "sentence_tokens[:2]"
      ]
    },
    {
      "cell_type": "code",
      "execution_count": 14,
      "metadata": {
        "id": "A659lswTbIIB"
      },
      "outputs": [],
      "source": [
        "# Código para hacer el desfasaje de las palabras\n",
        "# según el train_len\n",
        "text_sequences1 = []\n",
        "text_sequences2 = []\n",
        "\n",
        "for i in range(train_len, len(tokens1)):\n",
        "  seq = tokens1[i-train_len:i]\n",
        "  text_sequences1.append(seq)\n",
        "\n",
        "for i in range(train_len, len(tokens2)):\n",
        "  seq = tokens2[i-train_len:i]\n",
        "  text_sequences2.append(seq)"
      ]
    },
    {
      "cell_type": "code",
      "execution_count": 15,
      "metadata": {
        "colab": {
          "base_uri": "https://localhost:8080/"
        },
        "id": "01JEoPPnbgRF",
        "outputId": "3c5a0621-9b19-4aa9-9500-56ff4029d567"
      },
      "outputs": [
        {
          "data": {
            "text/plain": [
              "[]"
            ]
          },
          "execution_count": 15,
          "metadata": {},
          "output_type": "execute_result"
        }
      ],
      "source": [
        "# Demos un vistazo a nuestros vectores para entrenar el modelo\n",
        "text_sequences1"
      ]
    },
    {
      "cell_type": "code",
      "execution_count": 16,
      "metadata": {
        "colab": {
          "base_uri": "https://localhost:8080/"
        },
        "id": "v-ATIqeLLJHS",
        "outputId": "8db64d7b-5ed7-42ed-dd7e-7c8dd3932a45"
      },
      "outputs": [
        {
          "data": {
            "text/plain": [
              "[['el', 'señor', 'y', 'la'],\n",
              " ['señor', 'y', 'la', 'señora'],\n",
              " ['y', 'la', 'señora', 'dursley'],\n",
              " ['la', 'señora', 'dursley', 'que'],\n",
              " ['señora', 'dursley', 'que', 'vivían'],\n",
              " ['dursley', 'que', 'vivían', 'en'],\n",
              " ['que', 'vivían', 'en', 'el'],\n",
              " ['vivían', 'en', 'el', 'número'],\n",
              " ['en', 'el', 'número', '4'],\n",
              " ['el', 'número', '4', 'de'],\n",
              " ['número', '4', 'de', 'privet'],\n",
              " ['4', 'de', 'privet', 'drive'],\n",
              " ['de', 'privet', 'drive', 'estaban'],\n",
              " ['privet', 'drive', 'estaban', 'orgullosos'],\n",
              " ['drive', 'estaban', 'orgullosos', 'de'],\n",
              " ['estaban', 'orgullosos', 'de', 'decir'],\n",
              " ['orgullosos', 'de', 'decir', 'que'],\n",
              " ['de', 'decir', 'que', 'eran'],\n",
              " ['decir', 'que', 'eran', 'muy'],\n",
              " ['que', 'eran', 'muy', 'normales']]"
            ]
          },
          "execution_count": 16,
          "metadata": {},
          "output_type": "execute_result"
        }
      ],
      "source": [
        "text_sequences2"
      ]
    },
    {
      "attachments": {},
      "cell_type": "markdown",
      "metadata": {
        "id": "hUNcJq8iLLQO"
      },
      "source": [
        "Se puede ver que para oraciones con train_len o menos palabras, nuestra secuencia quedará vacía y no se consideraran estas oraciones en el entrenamiento. Se podría mejorar achicando train_len, pero esto reduciría significativamente la ventana de contexto, resultando en un modelo peor."
      ]
    },
    {
      "attachments": {},
      "cell_type": "markdown",
      "metadata": {
        "id": "4B0gHnKVa4W_"
      },
      "source": [
        "1.2 - Crear los vectores de palabras (word2vec)\n",
        "\n",
        "Ahora necesitamos pasarlos a números para que lo entienda la red y separar input de output.\n",
        "- El Input seran integers (word2vec)\n",
        "- Mientras que el output será one hot encodeado (labels) del tamaño del vocabulario"
      ]
    },
    {
      "cell_type": "code",
      "execution_count": 17,
      "metadata": {
        "id": "fkPNvXeQcS0U"
      },
      "outputs": [],
      "source": [
        "tok = Tokenizer() \n",
        "\n",
        "# El tokenizer \"aprende\" las palabras que se usaran\n",
        "# Se construye (fit) una vez por proyecto, se aplica N veces (tal cual un encoder)\n",
        "# El token 0 es reservado y no es asignado, esta sutileza nos dará un pequeño\n",
        "# problema al momento de hacer la codificación OHE, pero es sencillo de resolver\n",
        "tok.fit_on_texts(text_sequences1) \n",
        "\n",
        "# Convertimos las palabras a números\n",
        "# entran palabras -> salen números\n",
        "sequences1 = tok.texts_to_sequences(text_sequences1)\n",
        "\n",
        "tok.fit_on_texts(text_sequences2) \n",
        "sequences2 = tok.texts_to_sequences(text_sequences2)"
      ]
    },
    {
      "cell_type": "code",
      "execution_count": 18,
      "metadata": {
        "colab": {
          "base_uri": "https://localhost:8080/"
        },
        "id": "4SIc44IocyQb",
        "outputId": "3c62067d-f698-46c3-f64f-2810dc231d7d"
      },
      "outputs": [
        {
          "data": {
            "text/plain": [
              "[]"
            ]
          },
          "execution_count": 18,
          "metadata": {},
          "output_type": "execute_result"
        }
      ],
      "source": [
        "# Ahora sequences tiene los números \"ID\", largo 4\n",
        "sequences1"
      ]
    },
    {
      "cell_type": "code",
      "execution_count": 19,
      "metadata": {
        "colab": {
          "base_uri": "https://localhost:8080/"
        },
        "id": "qwSouybSL__b",
        "outputId": "e42e7cb7-fc90-43fc-f3e2-7be2b265c8e7"
      },
      "outputs": [
        {
          "data": {
            "text/plain": [
              "[[3, 18, 16, 4],\n",
              " [18, 16, 4, 5],\n",
              " [16, 4, 5, 6],\n",
              " [4, 5, 6, 1],\n",
              " [5, 6, 1, 7],\n",
              " [6, 1, 7, 8],\n",
              " [1, 7, 8, 3],\n",
              " [7, 8, 3, 9],\n",
              " [8, 3, 9, 10],\n",
              " [3, 9, 10, 2],\n",
              " [9, 10, 2, 11],\n",
              " [10, 2, 11, 12],\n",
              " [2, 11, 12, 13],\n",
              " [11, 12, 13, 14],\n",
              " [12, 13, 14, 2],\n",
              " [13, 14, 2, 15],\n",
              " [14, 2, 15, 1],\n",
              " [2, 15, 1, 17],\n",
              " [15, 1, 17, 19],\n",
              " [1, 17, 19, 20]]"
            ]
          },
          "execution_count": 19,
          "metadata": {},
          "output_type": "execute_result"
        }
      ],
      "source": [
        "sequences2"
      ]
    },
    {
      "cell_type": "code",
      "execution_count": 20,
      "metadata": {
        "colab": {
          "base_uri": "https://localhost:8080/"
        },
        "id": "3ro81yCQc1oX",
        "outputId": "45890849-f1e6-4bdf-dd1a-594d09d4a9ee"
      },
      "outputs": [
        {
          "name": "stdout",
          "output_type": "stream",
          "text": [
            "20\n"
          ]
        }
      ],
      "source": [
        "# Cantidad de casos (doc) de entrada\n",
        "print(tok.document_count)"
      ]
    },
    {
      "cell_type": "code",
      "execution_count": 21,
      "metadata": {
        "colab": {
          "base_uri": "https://localhost:8080/"
        },
        "id": "nzAWNfroc4u1",
        "outputId": "d2b53c44-97e1-45fc-9cbe-bd28080d61d1"
      },
      "outputs": [
        {
          "name": "stdout",
          "output_type": "stream",
          "text": [
            "20\n"
          ]
        }
      ],
      "source": [
        "# Cantidad de veces que aparece cada palabra\n",
        "print(len(tok.word_counts))"
      ]
    },
    {
      "cell_type": "code",
      "execution_count": 22,
      "metadata": {
        "colab": {
          "base_uri": "https://localhost:8080/"
        },
        "id": "spTBxmFQc6h8",
        "outputId": "e6e5388e-c5e5-4ee6-c461-b2b3616f4c6f"
      },
      "outputs": [
        {
          "name": "stdout",
          "output_type": "stream",
          "text": [
            "{'que': 1, 'de': 2, 'el': 3, 'la': 4, 'señora': 5, 'dursley': 6, 'vivían': 7, 'en': 8, 'número': 9, '4': 10, 'privet': 11, 'drive': 12, 'estaban': 13, 'orgullosos': 14, 'decir': 15, 'y': 16, 'eran': 17, 'señor': 18, 'muy': 19, 'normales': 20}\n"
          ]
        }
      ],
      "source": [
        "# El índice para cada palabra\n",
        "# El sistema las ordena de las más populares a las menos populares\n",
        "print(tok.word_index)"
      ]
    },
    {
      "cell_type": "code",
      "execution_count": 23,
      "metadata": {
        "colab": {
          "base_uri": "https://localhost:8080/"
        },
        "id": "nUDkjy80c77h",
        "outputId": "6939dca9-50b4-4b9f-813f-8e6599270ae8"
      },
      "outputs": [
        {
          "name": "stdout",
          "output_type": "stream",
          "text": [
            "defaultdict(<class 'int'>, {'la': 4, 'el': 5, 'señor': 2, 'y': 3, 'señora': 4, 'dursley': 4, 'que': 8, 'vivían': 4, 'en': 4, 'número': 4, '4': 4, 'de': 8, 'privet': 4, 'drive': 4, 'estaban': 4, 'orgullosos': 4, 'decir': 4, 'eran': 3, 'muy': 2, 'normales': 1})\n"
          ]
        }
      ],
      "source": [
        "# Cantidad de veces quea aparece cada palabra en cada \"documento\"\n",
        "# (1 documento = 1 caso de entrada)\n",
        "print(tok.word_docs)"
      ]
    },
    {
      "attachments": {},
      "cell_type": "markdown",
      "metadata": {
        "id": "ohS5Tao1d2KB"
      },
      "source": [
        "### 2 - Preprocesamiento completo\n",
        "Debemos realizar los mismos pasos que en el ejemplo anterior, pero antes de eso debemos transformar ese dataset de filas de oraciones en un texto completo continuo para poder extraer el vocabulario."
      ]
    },
    {
      "cell_type": "code",
      "execution_count": 24,
      "metadata": {
        "colab": {
          "base_uri": "https://localhost:8080/"
        },
        "id": "63Z2-Se2t27r",
        "outputId": "8c2af87c-dd12-4cb2-86b6-221049ea7cf1"
      },
      "outputs": [
        {
          "data": {
            "text/plain": [
              "0                                    El niño que vivió.\n",
              "1     El señor y la señora Dursley, que vivían en el...\n",
              "2     Eran las últimas personas que se esperaría enc...\n",
              "3     El señor Dursley era el director de una empres...\n",
              "4     Era un hombre corpulento y rollizo, casi sin c...\n",
              "5     La señora Dursley era delgada, rubia y tenía u...\n",
              "6     Los Dursley tenían un hijo pequeño llamado Dud...\n",
              "7     Los Dursley tenían todo lo que querían, pero t...\n",
              "8     La señora Potter era hermana de la señora Durs...\n",
              "9     Los Dursley se estremecían al pensar qué diría...\n",
              "10    Sabían que los Potter también tenían un hijo p...\n",
              "11    El niño era otra buena razón para mantener ale...\n",
              "12    Nuestra historia comienza cuando el señor y la...\n",
              "13    Pero nada había en aquel nublado cielo que sug...\n",
              "14    El señor Dursley canturreaba mientras se ponía...\n",
              "Name: sentence, dtype: object"
            ]
          },
          "execution_count": 24,
          "metadata": {},
          "output_type": "execute_result"
        }
      ],
      "source": [
        "# Vistazo a las primeras filas\n",
        "df.iloc[:15,0]"
      ]
    },
    {
      "cell_type": "code",
      "execution_count": 25,
      "metadata": {
        "id": "kILsSoxTuHEr"
      },
      "outputs": [],
      "source": [
        "# Concatenamos todos los rows en un solo valor\n",
        "corpus = df.apply(lambda row: ' '.join(row.values.astype(str)), axis=0)[0]\n",
        "corpus_extendido = df_extendido.apply(lambda row: ' '.join(row.values.astype(str)), axis=0)[0]"
      ]
    },
    {
      "cell_type": "code",
      "execution_count": 26,
      "metadata": {
        "id": "_KlsYd7_uOez"
      },
      "outputs": [],
      "source": [
        "# Transformar el corpus a tokens\n",
        "tokens=text_to_word_sequence(corpus)\n",
        "tokens_extendido=text_to_word_sequence(corpus_extendido)\n"
      ]
    },
    {
      "cell_type": "code",
      "execution_count": 27,
      "metadata": {
        "colab": {
          "base_uri": "https://localhost:8080/"
        },
        "id": "GlqpZSJOJ1xQ",
        "outputId": "033baf5b-4e9f-4438-f62e-0503baf0ff4b"
      },
      "outputs": [
        {
          "name": "stdout",
          "output_type": "stream",
          "text": [
            "Cantidad de tokens en el corpus: 77991\n",
            "Cantidad de tokens en el corpus con ambos libros: 169308\n"
          ]
        }
      ],
      "source": [
        "print(\"Cantidad de tokens en el corpus:\", len(tokens))\n",
        "print(\"Cantidad de tokens en el corpus con ambos libros:\", len(tokens_extendido))"
      ]
    },
    {
      "cell_type": "code",
      "execution_count": 28,
      "metadata": {
        "id": "RhQevOynuYk2"
      },
      "outputs": [],
      "source": [
        "# Código para hacer el desfasaje de las palabras\n",
        "# según el train_len\n",
        "text_sequences = []\n",
        "for i in range(train_len, len(tokens)):\n",
        "  seq = tokens[i-train_len:i]\n",
        "  text_sequences.append(seq)\n",
        "\n",
        "text_sequences_extendido = []\n",
        "for i in range(train_len, len(tokens_extendido)):\n",
        "  seq = tokens_extendido[i-train_len:i]\n",
        "  text_sequences_extendido.append(seq)"
      ]
    },
    {
      "cell_type": "code",
      "execution_count": 29,
      "metadata": {
        "colab": {
          "base_uri": "https://localhost:8080/"
        },
        "id": "FU3FuqHSuhzq",
        "outputId": "074428df-144d-476e-c8e8-24cf955fa6b9"
      },
      "outputs": [
        {
          "data": {
            "text/plain": [
              "[['el', 'niño', 'que', 'vivió'],\n",
              " ['niño', 'que', 'vivió', 'el'],\n",
              " ['que', 'vivió', 'el', 'señor'],\n",
              " ['vivió', 'el', 'señor', 'y'],\n",
              " ['el', 'señor', 'y', 'la'],\n",
              " ['señor', 'y', 'la', 'señora'],\n",
              " ['y', 'la', 'señora', 'dursley'],\n",
              " ['la', 'señora', 'dursley', 'que'],\n",
              " ['señora', 'dursley', 'que', 'vivían'],\n",
              " ['dursley', 'que', 'vivían', 'en']]"
            ]
          },
          "execution_count": 29,
          "metadata": {},
          "output_type": "execute_result"
        }
      ],
      "source": [
        "# Demos un vistazo a nuestros vectores para entrenar el modelo\n",
        "text_sequences[:10]"
      ]
    },
    {
      "cell_type": "code",
      "execution_count": 30,
      "metadata": {
        "colab": {
          "base_uri": "https://localhost:8080/"
        },
        "id": "064N2jtLvHRg",
        "outputId": "be009afb-e767-452e-b1eb-78ac7510efaf"
      },
      "outputs": [
        {
          "data": {
            "text/plain": [
              "[[6, 521, 2, 4080],\n",
              " [521, 2, 4080, 6],\n",
              " [2, 4080, 6, 94],\n",
              " [4080, 6, 94, 4],\n",
              " [6, 94, 4, 3],\n",
              " [94, 4, 3, 127],\n",
              " [4, 3, 127, 76],\n",
              " [3, 127, 76, 2],\n",
              " [127, 76, 2, 4081],\n",
              " [76, 2, 4081, 7],\n",
              " [2, 4081, 7, 6],\n",
              " [4081, 7, 6, 657],\n",
              " [7, 6, 657, 745],\n",
              " [6, 657, 745, 1],\n",
              " [657, 745, 1, 623],\n",
              " [745, 1, 623, 624],\n",
              " [1, 623, 624, 89],\n",
              " [623, 624, 89, 2827],\n",
              " [624, 89, 2827, 1],\n",
              " [89, 2827, 1, 120]]"
            ]
          },
          "execution_count": 30,
          "metadata": {},
          "output_type": "execute_result"
        }
      ],
      "source": [
        "# Proceso de tokenización\n",
        "tok = Tokenizer() \n",
        "tok.fit_on_texts(text_sequences) \n",
        "\n",
        "# Convertimos las palabras a números\n",
        "# entran palabras -> salen números\n",
        "sequences = tok.texts_to_sequences(text_sequences)\n",
        "\n",
        "# Damos un vistazo\n",
        "sequences[:20]"
      ]
    },
    {
      "cell_type": "code",
      "execution_count": 31,
      "metadata": {
        "id": "vsu0tJCOaBQ_"
      },
      "outputs": [],
      "source": [
        "# Proceso de tokenización\n",
        "tok_extendido = Tokenizer() \n",
        "tok_extendido.fit_on_texts(text_sequences_extendido) \n",
        "\n",
        "# Convertimos las palabras a números\n",
        "# entran palabras -> salen números\n",
        "sequences_extendido = tok_extendido.texts_to_sequences(text_sequences_extendido)\n"
      ]
    },
    {
      "cell_type": "code",
      "execution_count": 32,
      "metadata": {
        "colab": {
          "base_uri": "https://localhost:8080/"
        },
        "id": "vwsvmvDKKXSP",
        "outputId": "6592f6b5-1d7b-4b40-9ad4-dc6ba0c85bad"
      },
      "outputs": [
        {
          "name": "stdout",
          "output_type": "stream",
          "text": [
            "Cantidad de rows del dataset del primer libro: 77987\n",
            "Cantidad de rows del dataset con ambos libros: 169304\n"
          ]
        }
      ],
      "source": [
        "print(\"Cantidad de rows del dataset del primer libro:\", len(sequences))\n",
        "print(\"Cantidad de rows del dataset con ambos libros:\", len(sequences_extendido))"
      ]
    },
    {
      "attachments": {},
      "cell_type": "markdown",
      "metadata": {
        "id": "QMVP4bj0vL2e"
      },
      "source": [
        "### 3 - Input y target"
      ]
    },
    {
      "cell_type": "code",
      "execution_count": 33,
      "metadata": {
        "colab": {
          "base_uri": "https://localhost:8080/"
        },
        "id": "e1vJTG65v4Qn",
        "outputId": "44da9eb2-d771-4fbc-8ef7-2889cba23778"
      },
      "outputs": [
        {
          "name": "stdout",
          "output_type": "stream",
          "text": [
            "(77987, 3)\n",
            "(77987,)\n"
          ]
        }
      ],
      "source": [
        "arr_sequences = np.array(sequences)\n",
        "x_data = arr_sequences[:,:-1]\n",
        "y_data_int = arr_sequences[:,-1] # aún falta el oneHotEncoder\n",
        "\n",
        "print(x_data.shape)\n",
        "print(y_data_int.shape)"
      ]
    },
    {
      "cell_type": "code",
      "execution_count": 34,
      "metadata": {
        "colab": {
          "base_uri": "https://localhost:8080/"
        },
        "id": "XVyG77iKagX_",
        "outputId": "d066f5db-22d0-4f41-af33-0f9d913f276c"
      },
      "outputs": [
        {
          "name": "stdout",
          "output_type": "stream",
          "text": [
            "(169304, 3)\n",
            "(169304,)\n"
          ]
        }
      ],
      "source": [
        "arr_sequences_extendido = np.array(sequences_extendido)\n",
        "x_data_extendido = arr_sequences_extendido[:,:-1]\n",
        "y_data_int_extendido = arr_sequences_extendido[:,-1] # aún falta el oneHotEncoder\n",
        "\n",
        "print(x_data_extendido.shape)\n",
        "print(y_data_int_extendido.shape)"
      ]
    },
    {
      "cell_type": "code",
      "execution_count": 35,
      "metadata": {
        "colab": {
          "base_uri": "https://localhost:8080/"
        },
        "id": "ln6kVWVlwBBs",
        "outputId": "eea4ea17-ece2-424e-da98-a60fc0f18354"
      },
      "outputs": [
        {
          "data": {
            "text/plain": [
              "{1: 'de',\n",
              " 2: 'que',\n",
              " 3: 'la',\n",
              " 4: 'y',\n",
              " 5: 'a',\n",
              " 6: 'el',\n",
              " 7: 'en',\n",
              " 8: 'no',\n",
              " 9: 'harry',\n",
              " 10: 'se',\n",
              " 11: 'un',\n",
              " 12: 'los',\n",
              " 13: 'con',\n",
              " 14: 'lo',\n",
              " 15: 'una',\n",
              " 16: 'dijo',\n",
              " 17: 'por',\n",
              " 18: 'su',\n",
              " 19: 'las',\n",
              " 20: 'para',\n",
              " 21: 'pero',\n",
              " 22: 'había',\n",
              " 23: 'del',\n",
              " 24: 'ron',\n",
              " 25: 'es',\n",
              " 26: 'al',\n",
              " 27: 'le',\n",
              " 28: 'hagrid',\n",
              " 29: 'estaba',\n",
              " 30: 'era',\n",
              " 31: 'más',\n",
              " 32: 'si',\n",
              " 33: 'como',\n",
              " 34: 'qué',\n",
              " 35: 'hermione',\n",
              " 36: 'cuando',\n",
              " 37: 'muy',\n",
              " 38: 'me',\n",
              " 39: 'algo',\n",
              " 40: 'vez',\n",
              " 41: 'te',\n",
              " 42: 'él',\n",
              " 43: 'sus',\n",
              " 44: 'ya',\n",
              " 45: 'todo',\n",
              " 46: 'todos',\n",
              " 47: 'mientras',\n",
              " 48: 'snape',\n",
              " 49: 'sobre',\n",
              " 50: 'dumbledore',\n",
              " 51: 'tenía',\n",
              " 52: 'eso',\n",
              " 53: 'hacia',\n",
              " 54: 'tan',\n",
              " 55: 'yo',\n",
              " 56: 'está',\n",
              " 57: 'dudley',\n",
              " 58: 'sin',\n",
              " 59: 'hasta',\n",
              " 60: 'bien',\n",
              " 61: 'malfoy',\n",
              " 62: 'nunca',\n",
              " 63: 'nada',\n",
              " 64: 'podía',\n",
              " 65: 'parecía',\n",
              " 66: 'porque',\n",
              " 67: 'ver',\n",
              " 68: 'puerta',\n",
              " 69: 'profesora',\n",
              " 70: 'vernon',\n",
              " 71: 'fue',\n",
              " 72: 'tío',\n",
              " 73: 'neville',\n",
              " 74: 'quirrell',\n",
              " 75: 'otra',\n",
              " 76: 'dursley',\n",
              " 77: 'ellos',\n",
              " 78: 'allí',\n",
              " 79: 'hacer',\n",
              " 80: 'cabeza',\n",
              " 81: 'sí',\n",
              " 82: 'cómo',\n",
              " 83: 'potter',\n",
              " 84: 'preguntó',\n",
              " 85: 'dos',\n",
              " 86: 'tu',\n",
              " 87: 'gran',\n",
              " 88: 'entonces',\n",
              " 89: 'estaban',\n",
              " 90: 'mcgonagall',\n",
              " 91: 'o',\n",
              " 92: 'gryffindor',\n",
              " 93: 'aquí',\n",
              " 94: 'señor',\n",
              " 95: 'casi',\n",
              " 96: 'bueno',\n",
              " 97: 'ojos',\n",
              " 98: 'así',\n",
              " 99: 'nos',\n",
              " 100: 'les',\n",
              " 101: 'profesor',\n",
              " 102: 'mucho',\n",
              " 103: 'mi',\n",
              " 104: 'miró',\n",
              " 105: 'ha',\n",
              " 106: 'antes',\n",
              " 107: 'fuera',\n",
              " 108: 'sólo',\n",
              " 109: 'casa',\n",
              " 110: 'mejor',\n",
              " 111: 'uno',\n",
              " 112: 'ser',\n",
              " 113: 'día',\n",
              " 114: 'lado',\n",
              " 115: 'dio',\n",
              " 116: 'ni',\n",
              " 117: 'voz',\n",
              " 118: 'tres',\n",
              " 119: 'piedra',\n",
              " 120: 'decir',\n",
              " 121: 'tiempo',\n",
              " 122: 'habían',\n",
              " 123: 'momento',\n",
              " 124: 'hay',\n",
              " 125: 'hogwarts',\n",
              " 126: 'noche',\n",
              " 127: 'señora',\n",
              " 128: 'también',\n",
              " 129: 'vamos',\n",
              " 130: 'ahora',\n",
              " 131: 'aire',\n",
              " 132: 'entre',\n",
              " 133: 'hizo',\n",
              " 134: 'oh',\n",
              " 135: 'otro',\n",
              " 136: 'luego',\n",
              " 137: 'cosas',\n",
              " 138: 'cada',\n",
              " 139: 'después',\n",
              " 140: 'gente',\n",
              " 141: 'colegio',\n",
              " 142: 'tú',\n",
              " 143: 'verdad',\n",
              " 144: 'eran',\n",
              " 145: 'iba',\n",
              " 146: 'escoba',\n",
              " 147: 'año',\n",
              " 148: 'cuenta',\n",
              " 149: 'capa',\n",
              " 150: 'son',\n",
              " 151: 'os',\n",
              " 152: 'volvió',\n",
              " 153: 'weasley',\n",
              " 154: 'contra',\n",
              " 155: 'dejó',\n",
              " 156: 'suelo',\n",
              " 157: 'nadie',\n",
              " 158: 'tía',\n",
              " 159: 'estar',\n",
              " 160: 'mano',\n",
              " 161: 'varita',\n",
              " 162: 'unos',\n",
              " 163: 'slytherin',\n",
              " 164: 'desde',\n",
              " 165: 'toda',\n",
              " 166: 'todavía',\n",
              " 167: 'sé',\n",
              " 168: 'petunia',\n",
              " 169: 'visto',\n",
              " 170: 'gritó',\n",
              " 171: 'tener',\n",
              " 172: 'quidditch',\n",
              " 173: 'poco',\n",
              " 174: 'tarde',\n",
              " 175: 'donde',\n",
              " 176: 'wood',\n",
              " 177: 'aquel',\n",
              " 178: 'lugar',\n",
              " 179: 'creo',\n",
              " 180: 'tengo',\n",
              " 181: 'durante',\n",
              " 182: 'mismo',\n",
              " 183: 'filch',\n",
              " 184: 'vio',\n",
              " 185: 'siempre',\n",
              " 186: 'sabía',\n",
              " 187: 'he',\n",
              " 188: 'puedo',\n",
              " 189: 'ese',\n",
              " 190: 'cara',\n",
              " 191: 'ante',\n",
              " 192: 'detrás',\n",
              " 193: 'ir',\n",
              " 194: 'haber',\n",
              " 195: 'puede',\n",
              " 196: 'clase',\n",
              " 197: 'esto',\n",
              " 198: 'espejo',\n",
              " 199: 'rápidamente',\n",
              " 200: 'pronto',\n",
              " 201: 'cerca',\n",
              " 202: 'tiene',\n",
              " 203: 'aquella',\n",
              " 204: 'hecho',\n",
              " 205: 'quiero',\n",
              " 206: 'habitación',\n",
              " 207: 'magia',\n",
              " 208: 'pudo',\n",
              " 209: 'alguien',\n",
              " 210: 'madre',\n",
              " 211: 'aunque',\n",
              " 212: 'primer',\n",
              " 213: 'has',\n",
              " 214: 'respondió',\n",
              " 215: 'nosotros',\n",
              " 216: 'voy',\n",
              " 217: 'puso',\n",
              " 218: 'estoy',\n",
              " 219: 'padre',\n",
              " 220: 'quién',\n",
              " 221: 'puntos',\n",
              " 222: 'estado',\n",
              " 223: 'seguro',\n",
              " 224: 'rostro',\n",
              " 225: 'esa',\n",
              " 226: 'saber',\n",
              " 227: 'vida',\n",
              " 228: 'sombrero',\n",
              " 229: 'tal',\n",
              " 230: 'ella',\n",
              " 231: 'tratando',\n",
              " 232: 'siguiente',\n",
              " 233: 'libros',\n",
              " 234: 'primera',\n",
              " 235: 'comenzó',\n",
              " 236: 'mesa',\n",
              " 237: 'parte',\n",
              " 238: 'encima',\n",
              " 239: 'abrió',\n",
              " 240: 'estás',\n",
              " 241: 'muchacho',\n",
              " 242: 'lechuza',\n",
              " 243: 'esta',\n",
              " 244: 'nombre',\n",
              " 245: 'cama',\n",
              " 246: 'nariz',\n",
              " 247: 'tenemos',\n",
              " 248: 'carta',\n",
              " 249: 'dónde',\n",
              " 250: 'otros',\n",
              " 251: 'tuvo',\n",
              " 252: 'menos',\n",
              " 253: 'supuesto',\n",
              " 254: 'levantó',\n",
              " 255: 'percy',\n",
              " 256: 'hubiera',\n",
              " 257: 'mañana',\n",
              " 258: 'este',\n",
              " 259: 'hablar',\n",
              " 260: 'frente',\n",
              " 261: 'través',\n",
              " 262: 'años',\n",
              " 263: 'vuelta',\n",
              " 264: 'unas',\n",
              " 265: 'voldemort',\n",
              " 266: 'haciendo',\n",
              " 267: 'chico',\n",
              " 268: 'tienes',\n",
              " 269: 'magos',\n",
              " 270: 'mirando',\n",
              " 271: 'sido',\n",
              " 272: 'mirada',\n",
              " 273: 'han',\n",
              " 274: 'aquello',\n",
              " 275: 'ruido',\n",
              " 276: 'hacía',\n",
              " 277: 'decía',\n",
              " 278: 'pensó',\n",
              " 279: 'pasar',\n",
              " 280: 'nuevo',\n",
              " 281: 'realmente',\n",
              " 282: 'susurró',\n",
              " 283: 'cosa',\n",
              " 284: 'pasillo',\n",
              " 285: 'tenían',\n",
              " 286: 'alguna',\n",
              " 287: 'habría',\n",
              " 288: 'camino',\n",
              " 289: 'pared',\n",
              " 290: 'poder',\n",
              " 291: 'peeves',\n",
              " 292: 'trató',\n",
              " 293: 'debía',\n",
              " 294: 'llevaba',\n",
              " 295: 'minutos',\n",
              " 296: 'embargo',\n",
              " 297: 'cinco',\n",
              " 298: 'murmuró',\n",
              " 299: 'salió',\n",
              " 300: 'demasiado',\n",
              " 301: 'será',\n",
              " 302: 'caer',\n",
              " 303: 'bosque',\n",
              " 304: 'fuego',\n",
              " 305: 'dragón',\n",
              " 306: 'fred',\n",
              " 307: 'tanto',\n",
              " 308: 'alta',\n",
              " 309: 'usted',\n",
              " 310: 'todas',\n",
              " 311: 'pareció',\n",
              " 312: 'sabes',\n",
              " 313: 'ahí',\n",
              " 314: 'pie',\n",
              " 315: 'manos',\n",
              " 316: 'súbitamente',\n",
              " 317: 'oyó',\n",
              " 318: 'hombre',\n",
              " 319: 'razón',\n",
              " 320: 'éste',\n",
              " 321: 'pelo',\n",
              " 322: 'color',\n",
              " 323: 'pasado',\n",
              " 324: 'perro',\n",
              " 325: 'debajo',\n",
              " 326: 'mago',\n",
              " 327: 'alumnos',\n",
              " 328: 'partido',\n",
              " 329: 'pudiera',\n",
              " 330: 'tenido',\n",
              " 331: 'veces',\n",
              " 332: 'familia',\n",
              " 333: 'mundo',\n",
              " 334: 'soy',\n",
              " 335: 'george',\n",
              " 336: 'encontrar',\n",
              " 337: 'pensar',\n",
              " 338: 'oído',\n",
              " 339: 'quería',\n",
              " 340: 'finalmente',\n",
              " 341: 'alrededor',\n",
              " 342: 'están',\n",
              " 343: 'grande',\n",
              " 344: 'inmediato',\n",
              " 345: 'delante',\n",
              " 346: 'tren',\n",
              " 347: 'pequeño',\n",
              " 348: 'cogió',\n",
              " 349: 'boca',\n",
              " 350: 'quedó',\n",
              " 351: 'muggles',\n",
              " 352: 'luz',\n",
              " 353: 'tono',\n",
              " 354: 'oscuro',\n",
              " 355: 'atrás',\n",
              " 356: 'escalera',\n",
              " 357: 'eres',\n",
              " 358: 'equipo',\n",
              " 359: 'gringotts',\n",
              " 360: 'verde',\n",
              " 361: 'podría',\n",
              " 362: 'parece',\n",
              " 363: 'miedo',\n",
              " 364: 'detuvo',\n",
              " 365: 'sacó',\n",
              " 366: 'diez',\n",
              " 367: 'sintió',\n",
              " 368: 'medio',\n",
              " 369: 'podían',\n",
              " 370: 'puedes',\n",
              " 371: 'flamel',\n",
              " 372: 'norberto',\n",
              " 373: 'mirar',\n",
              " 374: 'llegó',\n",
              " 375: 'idea',\n",
              " 376: 'silencio',\n",
              " 377: 'claro',\n",
              " 378: 'vosotros',\n",
              " 379: 'hace',\n",
              " 380: 'sala',\n",
              " 381: 'fluffy',\n",
              " 382: 'trabajo',\n",
              " 383: 'mente',\n",
              " 384: 'forma',\n",
              " 385: 'gigante',\n",
              " 386: 'cualquier',\n",
              " 387: 'ido',\n",
              " 388: 'difícil',\n",
              " 389: 'miraba',\n",
              " 390: 'apareció',\n",
              " 391: 'común',\n",
              " 392: 'padres',\n",
              " 393: 'mira',\n",
              " 394: 'techo',\n",
              " 395: 'cartas',\n",
              " 396: 'iban',\n",
              " 397: 'entrar',\n",
              " 398: 'unicornio',\n",
              " 399: 'granger',\n",
              " 400: 'gato',\n",
              " 401: 'calle',\n",
              " 402: 'lechuzas',\n",
              " 403: 'palabras',\n",
              " 404: 'último',\n",
              " 405: 'semana',\n",
              " 406: 'comedor',\n",
              " 407: 'mal',\n",
              " 408: 'negro',\n",
              " 409: 'dado',\n",
              " 410: 'gracias',\n",
              " 411: 'cuidado',\n",
              " 412: 'rápido',\n",
              " 413: 'tus',\n",
              " 414: 'volver',\n",
              " 415: 'justo',\n",
              " 416: 'navidad',\n",
              " 417: 'biblioteca',\n",
              " 418: 'libro',\n",
              " 419: 'gemelos',\n",
              " 420: 'largo',\n",
              " 421: 'hora',\n",
              " 422: 'pasó',\n",
              " 423: 'oír',\n",
              " 424: 'alto',\n",
              " 425: 'encontró',\n",
              " 426: 'hemos',\n",
              " 427: 'único',\n",
              " 428: 'buscar',\n",
              " 429: 'escapar',\n",
              " 430: 'suerte',\n",
              " 431: 'cuatro',\n",
              " 432: 'ti',\n",
              " 433: 'hacerlo',\n",
              " 434: 'fuerza',\n",
              " 435: 'muchos',\n",
              " 436: 'castillo',\n",
              " 437: 'trol',\n",
              " 438: 'punto',\n",
              " 439: 'acercó',\n",
              " 440: 'dentro',\n",
              " 441: 'abajo',\n",
              " 442: 'alacena',\n",
              " 443: 'supongo',\n",
              " 444: 'juego',\n",
              " 445: 'sangre',\n",
              " 446: 'goyle',\n",
              " 447: 'coche',\n",
              " 448: 'raro',\n",
              " 449: 'segundo',\n",
              " 450: 'evidente',\n",
              " 451: 'modos',\n",
              " 452: 'fueron',\n",
              " 453: 'túnica',\n",
              " 454: 'buscando',\n",
              " 455: 'diciendo',\n",
              " 456: 'sabe',\n",
              " 457: 'pies',\n",
              " 458: 'bajo',\n",
              " 459: 'arriba',\n",
              " 460: 'resto',\n",
              " 461: 'demás',\n",
              " 462: 'dolor',\n",
              " 463: 'cabezas',\n",
              " 464: 'vista',\n",
              " 465: 'escobas',\n",
              " 466: 'pasaron',\n",
              " 467: 'invisible',\n",
              " 468: 'dejar',\n",
              " 469: 'enfadado',\n",
              " 470: 'primero',\n",
              " 471: 'sentado',\n",
              " 472: 'eh',\n",
              " 473: 'horrible',\n",
              " 474: 'esperando',\n",
              " 475: 'vuelto',\n",
              " 476: 'lanzó',\n",
              " 477: 'inclinó',\n",
              " 478: 'sea',\n",
              " 479: 'parecían',\n",
              " 480: 'hablaba',\n",
              " 481: 'brazo',\n",
              " 482: 'espero',\n",
              " 483: 'dicho',\n",
              " 484: 'mamá',\n",
              " 485: 'salir',\n",
              " 486: 'chocolate',\n",
              " 487: 'serpiente',\n",
              " 488: 'golpe',\n",
              " 489: 'algunas',\n",
              " 490: 'vaya',\n",
              " 491: 'cabaña',\n",
              " 492: 'favor',\n",
              " 493: 'nota',\n",
              " 494: 'mí',\n",
              " 495: 'sapo',\n",
              " 496: 'andén',\n",
              " 497: 'crabbe',\n",
              " 498: 'flitwick',\n",
              " 499: 'esperaba',\n",
              " 500: 'siquiera',\n",
              " 501: 'atención',\n",
              " 502: 'quieres',\n",
              " 503: 'mujer',\n",
              " 504: 'sería',\n",
              " 505: 'fin',\n",
              " 506: 'pequeña',\n",
              " 507: 'salvo',\n",
              " 508: 'copa',\n",
              " 509: 'corriendo',\n",
              " 510: 'paquete',\n",
              " 511: 'dije',\n",
              " 512: 'clases',\n",
              " 513: 'pocos',\n",
              " 514: 'dragones',\n",
              " 515: 'pociones',\n",
              " 516: 'final',\n",
              " 517: 'sentía',\n",
              " 518: 'piezas',\n",
              " 519: 'ronan',\n",
              " 520: 'firenze',\n",
              " 521: 'niño',\n",
              " 522: 'mayor',\n",
              " 523: 'ventana',\n",
              " 524: '2',\n",
              " 525: 'ah',\n",
              " 526: 'darse',\n",
              " 527: 'buen',\n",
              " 528: 'piernas',\n",
              " 529: 'gruñó',\n",
              " 530: 'seguía',\n",
              " 531: 'debe',\n",
              " 532: 'acuerdo',\n",
              " 533: 'plata',\n",
              " 534: 'muchas',\n",
              " 535: 'desapareció',\n",
              " 536: 'podemos',\n",
              " 537: 'va',\n",
              " 538: 'tienen',\n",
              " 539: 'corazón',\n",
              " 540: 'manera',\n",
              " 541: 'cocina',\n",
              " 542: 'llena',\n",
              " 543: 'solo',\n",
              " 544: 'algunos',\n",
              " 545: 'peor',\n",
              " 546: 'amigos',\n",
              " 547: 'pastel',\n",
              " 548: 'lleno',\n",
              " 549: 'llegaron',\n",
              " 550: 'paso',\n",
              " 551: 'pálido',\n",
              " 552: 'dice',\n",
              " 553: 'caldero',\n",
              " 554: 'hufflepuff',\n",
              " 555: 'ollivander',\n",
              " 556: 'seamus',\n",
              " 557: 'quaffle',\n",
              " 558: 'cielo',\n",
              " 559: 'media',\n",
              " 560: 'paredes',\n",
              " 561: 'movió',\n",
              " 562: 'subieron',\n",
              " 563: 'dando',\n",
              " 564: 'cayó',\n",
              " 565: 'oro',\n",
              " 566: 'quiere',\n",
              " 567: 'salto',\n",
              " 568: 'famoso',\n",
              " 569: 'contestó',\n",
              " 570: 'cicatriz',\n",
              " 571: 'izquierda',\n",
              " 572: 'posible',\n",
              " 573: 'dormir',\n",
              " 574: 'terrible',\n",
              " 575: 'grandes',\n",
              " 576: 'puesto',\n",
              " 577: 'sucedió',\n",
              " 578: 'algún',\n",
              " 579: 'profesores',\n",
              " 580: 'oyeron',\n",
              " 581: 'mitad',\n",
              " 582: 'charlie',\n",
              " 583: 'fang',\n",
              " 584: 'snitch',\n",
              " 585: 'pasaba',\n",
              " 586: 'buena',\n",
              " 587: 'volando',\n",
              " 588: 'llegar',\n",
              " 589: 'ningún',\n",
              " 590: 'piso',\n",
              " 591: 'problemas',\n",
              " 592: 'contó',\n",
              " 593: 'té',\n",
              " 594: 'aspecto',\n",
              " 595: 'sensación',\n",
              " 596: 'dormitorio',\n",
              " 597: 'larga',\n",
              " 598: 'bolsillo',\n",
              " 599: 'sentó',\n",
              " 600: 'dicen',\n",
              " 601: 'suficiente',\n",
              " 602: 'fuerte',\n",
              " 603: 'además',\n",
              " 604: 'brazos',\n",
              " 605: 'vas',\n",
              " 606: 'tampoco',\n",
              " 607: 'brillante',\n",
              " 608: 'nueve',\n",
              " 609: 'realidad',\n",
              " 610: 'exclamó',\n",
              " 611: 'tienda',\n",
              " 612: 'entraron',\n",
              " 613: 'miraron',\n",
              " 614: 'salieron',\n",
              " 615: 'tercer',\n",
              " 616: 'encantamientos',\n",
              " 617: 'otras',\n",
              " 618: 'llave',\n",
              " 619: 'nicolás',\n",
              " 620: 'turbante',\n",
              " 621: 'torre',\n",
              " 622: 'cuerpo',\n",
              " 623: 'privet',\n",
              " 624: 'drive',\n",
              " 625: 'historia',\n",
              " 626: 'segundos',\n",
              " 627: 'sonrisa',\n",
              " 628: 'entró',\n",
              " 629: 'dirigió',\n",
              " 630: 'salón',\n",
              " 631: 'cola',\n",
              " 632: 'gafas',\n",
              " 633: 'interior',\n",
              " 634: 'dirección',\n",
              " 635: 'mis',\n",
              " 636: 'pueden',\n",
              " 637: 'encontraron',\n",
              " 638: 'comer',\n",
              " 639: 'piers',\n",
              " 640: 'sorpresa',\n",
              " 641: 'blanco',\n",
              " 642: 'caso',\n",
              " 643: 'directamente',\n",
              " 644: 'contigo',\n",
              " 645: 'perdido',\n",
              " 646: 'esas',\n",
              " 647: 'última',\n",
              " 648: 'caja',\n",
              " 649: 'cuál',\n",
              " 650: 'nimbus',\n",
              " 651: 'crees',\n",
              " 652: 'casas',\n",
              " 653: 'mirad',\n",
              " 654: 'cincuenta',\n",
              " 655: 'ajedrez',\n",
              " 656: 'bane',\n",
              " 657: 'número',\n",
              " 658: 'personas',\n",
              " 659: 'extraño',\n",
              " 660: 'cuello',\n",
              " 661: 'pensando',\n",
              " 662: 'dedos',\n",
              " 663: 'gritos',\n",
              " 664: 'viejo',\n",
              " 665: 'pasaban',\n",
              " 666: 'pensé',\n",
              " 667: 'cerró',\n",
              " 668: 'agitó',\n",
              " 669: 'doce',\n",
              " 670: 'palabra',\n",
              " 671: 'sucede',\n",
              " 672: 'continuó',\n",
              " 673: 'haya',\n",
              " 674: 'problema',\n",
              " 675: 'pomfrey',\n",
              " 676: 'única',\n",
              " 677: 'exactamente',\n",
              " 678: 'esté',\n",
              " 679: 'patada',\n",
              " 680: 'recordar',\n",
              " 681: 'cumpleaños',\n",
              " 682: 'rodillas',\n",
              " 683: 'preguntas',\n",
              " 684: 'siete',\n",
              " 685: 'rojo',\n",
              " 686: 'pierna',\n",
              " 687: 'quedaba',\n",
              " 688: 'hubieran',\n",
              " 689: 'sonrió',\n",
              " 690: 'vestíbulo',\n",
              " 691: 'puertas',\n",
              " 692: 'nuestro',\n",
              " 693: 'quientúsabes',\n",
              " 694: 'varitas',\n",
              " 695: 'bajó',\n",
              " 696: 'dinero',\n",
              " 697: 'contento',\n",
              " 698: '000',\n",
              " 699: 'añadió',\n",
              " 700: 'jugar',\n",
              " 701: 'estáis',\n",
              " 702: 'árboles',\n",
              " 703: 'fantasma',\n",
              " 704: 'secreto',\n",
              " 705: 'salía',\n",
              " 706: 'observó',\n",
              " 707: 'pocas',\n",
              " 708: 'barba',\n",
              " 709: 'brillantes',\n",
              " 710: 'llegado',\n",
              " 711: 'estaría',\n",
              " 712: 'once',\n",
              " 713: 'perder',\n",
              " 714: 'hablando',\n",
              " 715: 'espalda',\n",
              " 716: 'andar',\n",
              " 717: 'londres',\n",
              " 718: 'vidrio',\n",
              " 719: 'chimenea',\n",
              " 720: 'fácil',\n",
              " 721: 'vacaciones',\n",
              " 722: 'asiento',\n",
              " 723: 'piel',\n",
              " 724: '»',\n",
              " 725: 'adónde',\n",
              " 726: 'estalló',\n",
              " 727: 'tendría',\n",
              " 728: 'velocidad',\n",
              " 729: 'jaula',\n",
              " 730: 'acababa',\n",
              " 731: 'siguieron',\n",
              " 732: 'estación',\n",
              " 733: 'negras',\n",
              " 734: 'hombro',\n",
              " 735: 'pasillos',\n",
              " 736: 'centímetros',\n",
              " 737: 'hedwig',\n",
              " 738: 'vais',\n",
              " 739: 'aula',\n",
              " 740: 'buscador',\n",
              " 741: 'vieron',\n",
              " 742: 'oscuridad',\n",
              " 743: 'flint',\n",
              " 744: 'filosofal',\n",
              " 745: '4',\n",
              " 746: 'hijo',\n",
              " 747: 'hermana',\n",
              " 748: 'silla',\n",
              " 749: 'dientes',\n",
              " 750: 'alejó',\n",
              " 751: 'saben',\n",
              " 752: 'leer',\n",
              " 753: 'nueva',\n",
              " 754: 'comida',\n",
              " 755: 'nervioso',\n",
              " 756: 'pensaba',\n",
              " 757: 'muggle',\n",
              " 758: 'sol',\n",
              " 759: 'sueño',\n",
              " 760: 'lentamente',\n",
              " 761: 'dormido',\n",
              " 762: 'veía',\n",
              " 763: 'punta',\n",
              " 764: 'oscuras',\n",
              " 765: 'podido',\n",
              " 766: 'cabello',\n",
              " 767: 'ésa',\n",
              " 768: 'gustaría',\n",
              " 769: 'calma',\n",
              " 770: 'reloj',\n",
              " 771: 'señalando',\n",
              " 772: 'importante',\n",
              " 773: 'miraban',\n",
              " 774: 'profundamente',\n",
              " 775: 'siento',\n",
              " 776: 'minuto',\n",
              " 777: 'buenas',\n",
              " 778: 'sacar',\n",
              " 779: 'pasos',\n",
              " 780: 'gorda',\n",
              " 781: 'desesperado',\n",
              " 782: 'frío',\n",
              " 783: 'golpeó',\n",
              " 784: 'deseaba',\n",
              " 785: 'abrigo',\n",
              " 786: 'dieron',\n",
              " 787: 'bastón',\n",
              " 788: 'campo',\n",
              " 789: 'loco',\n",
              " 790: 'robar',\n",
              " 791: 'llaves',\n",
              " 792: 'furia',\n",
              " 793: 'produjo',\n",
              " 794: 'lista',\n",
              " 795: 'aguda',\n",
              " 796: 'empujó',\n",
              " 797: 'mágicas',\n",
              " 798: 'habéis',\n",
              " 799: 'desagradable',\n",
              " 800: 'hicieron',\n",
              " 801: 'cámara',\n",
              " 802: 'sola',\n",
              " 803: 'falta',\n",
              " 804: 'scabbers',\n",
              " 805: 'sendero',\n",
              " 806: 'fila',\n",
              " 807: 'retrato',\n",
              " 808: 'norris',\n",
              " 809: 'planta',\n",
              " 810: 'volar',\n",
              " 811: 'exámenes',\n",
              " 812: 'ponía',\n",
              " 813: 'ninguno',\n",
              " 814: 'esquina',\n",
              " 815: 'daba',\n",
              " 816: 'extraña',\n",
              " 817: 'tras',\n",
              " 818: 'estuvo',\n",
              " 819: 'olvidado',\n",
              " 820: 'especial',\n",
              " 821: 'sentido',\n",
              " 822: 'querido',\n",
              " 823: 'hoy',\n",
              " 824: 'encontrado',\n",
              " 825: 'pues',\n",
              " 826: 'cuarto',\n",
              " 827: 'púrpura',\n",
              " 828: 'luna',\n",
              " 829: 'albus',\n",
              " 830: 'rió',\n",
              " 831: 'poquito',\n",
              " 832: 'venir',\n",
              " 833: 'lejos',\n",
              " 834: 'tamaño',\n",
              " 835: 'van',\n",
              " 836: 'e',\n",
              " 837: 'siguió',\n",
              " 838: 'pelota',\n",
              " 839: 'prisa',\n",
              " 840: 'conseguido',\n",
              " 841: 'periódico',\n",
              " 842: 'chicos',\n",
              " 843: 'llevó',\n",
              " 844: 'trataba',\n",
              " 845: 'olor',\n",
              " 846: 'esos',\n",
              " 847: 'importa',\n",
              " 848: 'muerto',\n",
              " 849: 'ninguna',\n",
              " 850: 'pasa',\n",
              " 851: 'propósito',\n",
              " 852: 'veo',\n",
              " 853: 'muchachos',\n",
              " 854: 'dejaron',\n",
              " 855: 'malo',\n",
              " 856: 'corrió',\n",
              " 857: 'dar',\n",
              " 858: 'recordó',\n",
              " 859: 'días',\n",
              " 860: 'madera',\n",
              " 861: 'darle',\n",
              " 862: 'empezar',\n",
              " 863: 'habló',\n",
              " 864: 'plumas',\n",
              " 865: 'llenos',\n",
              " 866: 'bruja',\n",
              " 867: 'sucedido',\n",
              " 868: 'ves',\n",
              " 869: 'griphook',\n",
              " 870: 'esperar',\n",
              " 871: 'notó',\n",
              " 872: 'niña',\n",
              " 873: 'tenéis',\n",
              " 874: 'sabéis',\n",
              " 875: 'jordan',\n",
              " 876: 'hermanos',\n",
              " 877: 'ravenclaw',\n",
              " 878: 'hooch',\n",
              " 879: 'terreno',\n",
              " 880: 'bludgers',\n",
              " 881: 'mantener',\n",
              " 882: 'tormenta',\n",
              " 883: 'cantidad',\n",
              " 884: 'ropa',\n",
              " 885: 'llevaban',\n",
              " 886: 'abierta',\n",
              " 887: 'normal',\n",
              " 888: 'grupo',\n",
              " 889: 'papel',\n",
              " 890: 'terminado',\n",
              " 891: 'caía',\n",
              " 892: 'feliz',\n",
              " 893: 'decirle',\n",
              " 894: 'habitualmente',\n",
              " 895: 'cientos',\n",
              " 896: 'tuvieron',\n",
              " 897: 'vueltas',\n",
              " 898: 'medianoche',\n",
              " 899: 'tierra',\n",
              " 900: 'debería',\n",
              " 901: 'creer',\n",
              " 902: 'quiso',\n",
              " 903: 'marcha',\n",
              " 904: 'grito',\n",
              " 905: 'semanas',\n",
              " 906: 'entrada',\n",
              " 907: 'llamó',\n",
              " 908: 'gritaba',\n",
              " 909: 'seis',\n",
              " 910: 'regalo',\n",
              " 911: 'igual',\n",
              " 912: 'amigo',\n",
              " 913: 'jersey',\n",
              " 914: 'prohibido',\n",
              " 915: 'comprar',\n",
              " 916: 'desayuno',\n",
              " 917: 'agua',\n",
              " 918: 'gris',\n",
              " 919: 'negros',\n",
              " 920: 'rincón',\n",
              " 921: 'saltó',\n",
              " 922: 'llevar',\n",
              " 923: 'monstruo',\n",
              " 924: 'borde',\n",
              " 925: 'bote',\n",
              " 926: 'bolsillos',\n",
              " 927: 'mala',\n",
              " 928: 'ésta',\n",
              " 929: 'halloween',\n",
              " 930: 'paraguas',\n",
              " 931: 'seguir',\n",
              " 932: 'agujero',\n",
              " 933: 'quitó',\n",
              " 934: 'súbito',\n",
              " 935: 'monedas',\n",
              " 936: 'aprender',\n",
              " 937: 'chorreante',\n",
              " 938: 'gnomo',\n",
              " 939: 'ganado',\n",
              " 940: 'derecha',\n",
              " 941: 'explicó',\n",
              " 942: 'olvidar',\n",
              " 943: 'ventanilla',\n",
              " 944: 'hermano',\n",
              " 945: 'señaló',\n",
              " 946: 'lee',\n",
              " 947: 'ven',\n",
              " 948: 'golosinas',\n",
              " 949: 'draco',\n",
              " 950: 'ganar',\n",
              " 951: 'conmigo',\n",
              " 952: 'trampilla',\n",
              " 953: 'huevo',\n",
              " 954: 'querían',\n",
              " 955: 'nuestra',\n",
              " 956: 'alegremente',\n",
              " 957: 'incluso',\n",
              " 958: 'correr',\n",
              " 959: 'estúpido',\n",
              " 960: 'estrellas',\n",
              " 961: 'nerviosismo',\n",
              " 962: 'sabido',\n",
              " 963: 'enfadada',\n",
              " 964: 'labios',\n",
              " 965: 'estuviera',\n",
              " 966: 'observando',\n",
              " 967: 'lámpara',\n",
              " 968: 'alegro',\n",
              " 969: 'desaparecido',\n",
              " 970: 'quien',\n",
              " 971: 'vi',\n",
              " 972: 'vivir',\n",
              " 973: 'sentarse',\n",
              " 974: 'joven',\n",
              " 975: 'tendrá',\n",
              " 976: 'haría',\n",
              " 977: 'veremos',\n",
              " 978: 'respuesta',\n",
              " 979: 'movimiento',\n",
              " 980: 'horas',\n",
              " 981: 'diferentes',\n",
              " 982: 'despertó',\n",
              " 983: 'par',\n",
              " 984: 'regalos',\n",
              " 985: 'gustaba',\n",
              " 986: 'hagas',\n",
              " 987: 'cerdo',\n",
              " 988: 'treinta',\n",
              " 989: 'parque',\n",
              " 990: 'sugirió',\n",
              " 991: 'seas',\n",
              " 992: 'tonto',\n",
              " 993: 'baja',\n",
              " 994: 'muñeca',\n",
              " 995: 'andaba',\n",
              " 996: 'viento',\n",
              " 997: 'aún',\n",
              " 998: 'familias',\n",
              " 999: 'acercaba',\n",
              " 1000: 'ojo',\n",
              " ...}"
            ]
          },
          "execution_count": 35,
          "metadata": {},
          "output_type": "execute_result"
        }
      ],
      "source": [
        "# Palabras del vocabulario\n",
        "tok.index_word"
      ]
    },
    {
      "cell_type": "code",
      "execution_count": 36,
      "metadata": {
        "colab": {
          "base_uri": "https://localhost:8080/"
        },
        "id": "gJgVhq1zwEpf",
        "outputId": "622fd331-2f05-4ff0-8903-3d9c2ef5e6f0"
      },
      "outputs": [
        {
          "data": {
            "text/plain": [
              "8613"
            ]
          },
          "execution_count": 36,
          "metadata": {},
          "output_type": "execute_result"
        }
      ],
      "source": [
        "# Cantidad de palabras en el vocabulario\n",
        "vocab_size = len(tok.word_counts)\n",
        "vocab_size"
      ]
    },
    {
      "cell_type": "code",
      "execution_count": 37,
      "metadata": {
        "colab": {
          "base_uri": "https://localhost:8080/"
        },
        "id": "Gr3ldFdnayAZ",
        "outputId": "d8d11460-8141-43ae-ce70-323dd8fba13a"
      },
      "outputs": [
        {
          "data": {
            "text/plain": [
              "14103"
            ]
          },
          "execution_count": 37,
          "metadata": {},
          "output_type": "execute_result"
        }
      ],
      "source": [
        "# Para el dataset extendido:\n",
        "vocab_size_extendido = len(tok_extendido.word_counts)\n",
        "vocab_size_extendido"
      ]
    },
    {
      "cell_type": "code",
      "execution_count": 38,
      "metadata": {
        "colab": {
          "base_uri": "https://localhost:8080/"
        },
        "id": "gIg2e2WCwXbG",
        "outputId": "8d3eaa28-dd28-49cf-dfb3-12320e992fa6"
      },
      "outputs": [
        {
          "data": {
            "text/plain": [
              "(77987, 8613)"
            ]
          },
          "execution_count": 38,
          "metadata": {},
          "output_type": "execute_result"
        }
      ],
      "source": [
        "y_data_int_offset = y_data_int - 1\n",
        "y_data = to_categorical(y_data_int_offset, num_classes=vocab_size) \n",
        "y_data.shape"
      ]
    },
    {
      "cell_type": "code",
      "execution_count": 39,
      "metadata": {
        "colab": {
          "base_uri": "https://localhost:8080/"
        },
        "id": "91pkTZLUa7jG",
        "outputId": "e91dda06-4af7-4d70-b1d4-bafca0338c86"
      },
      "outputs": [
        {
          "data": {
            "text/plain": [
              "(169304, 14103)"
            ]
          },
          "execution_count": 39,
          "metadata": {},
          "output_type": "execute_result"
        }
      ],
      "source": [
        "y_data_int_offset_extendido = y_data_int_extendido - 1\n",
        "y_data_extendido = to_categorical(y_data_int_offset_extendido, num_classes=vocab_size_extendido) \n",
        "y_data_extendido.shape"
      ]
    },
    {
      "attachments": {},
      "cell_type": "markdown",
      "metadata": {
        "id": "GmJWNyxQwfCE"
      },
      "source": [
        "### 4 - Entrenar el modelo"
      ]
    },
    {
      "cell_type": "code",
      "execution_count": 40,
      "metadata": {
        "colab": {
          "base_uri": "https://localhost:8080/"
        },
        "id": "0cOmNZT_weK2",
        "outputId": "d3cb25e9-9c44-4f9b-f595-0fbd9a5985ad"
      },
      "outputs": [
        {
          "data": {
            "text/plain": [
              "3"
            ]
          },
          "execution_count": 40,
          "metadata": {},
          "output_type": "execute_result"
        }
      ],
      "source": [
        "# largo de la secuencia de entrada\n",
        "input_seq_len = x_data.shape[1] \n",
        "input_seq_len"
      ]
    },
    {
      "cell_type": "code",
      "execution_count": 41,
      "metadata": {
        "colab": {
          "base_uri": "https://localhost:8080/"
        },
        "id": "i1MKGYGcbIDO",
        "outputId": "2f11ff91-9c66-48b0-c8a4-62149477eb6c"
      },
      "outputs": [
        {
          "data": {
            "text/plain": [
              "3"
            ]
          },
          "execution_count": 41,
          "metadata": {},
          "output_type": "execute_result"
        }
      ],
      "source": [
        "input_seq_len_extendido = x_data_extendido.shape[1] \n",
        "input_seq_len_extendido"
      ]
    },
    {
      "cell_type": "code",
      "execution_count": 42,
      "metadata": {
        "colab": {
          "base_uri": "https://localhost:8080/"
        },
        "id": "qtwITjgnwlgp",
        "outputId": "8feefd56-3053-4552-86d6-6bb92dda7506"
      },
      "outputs": [
        {
          "data": {
            "text/plain": [
              "14103"
            ]
          },
          "execution_count": 42,
          "metadata": {},
          "output_type": "execute_result"
        }
      ],
      "source": [
        "# Largo del vector de salida --> vocab_size\n",
        "output_size_extendido = vocab_size_extendido\n",
        "output_size_extendido"
      ]
    },
    {
      "cell_type": "code",
      "execution_count": 43,
      "metadata": {
        "colab": {
          "base_uri": "https://localhost:8080/"
        },
        "id": "PPH7ZC-xbPVp",
        "outputId": "7fba3179-2add-4b57-afdb-6245f227ae36"
      },
      "outputs": [
        {
          "data": {
            "text/plain": [
              "8613"
            ]
          },
          "execution_count": 43,
          "metadata": {},
          "output_type": "execute_result"
        }
      ],
      "source": [
        "# Largo del vector de salida --> vocab_size\n",
        "output_size = vocab_size\n",
        "output_size"
      ]
    },
    {
      "attachments": {},
      "cell_type": "markdown",
      "metadata": {
        "id": "c6A2YYHtbWxh"
      },
      "source": [
        "#### 3.1 - Probamos primero con el dataset solo del primer libro"
      ]
    },
    {
      "cell_type": "code",
      "execution_count": null,
      "metadata": {
        "colab": {
          "base_uri": "https://localhost:8080/"
        },
        "id": "jzTZRXrrwrvi",
        "outputId": "8ded9fc1-8c63-442a-db9f-8b48677856a7"
      },
      "outputs": [
        {
          "name": "stdout",
          "output_type": "stream",
          "text": [
            "Model: \"sequential\"\n",
            "_________________________________________________________________\n",
            " Layer (type)                Output Shape              Param #   \n",
            "=================================================================\n",
            " embedding (Embedding)       (None, 3, 5)              43070     \n",
            "                                                                 \n",
            " lstm (LSTM)                 (None, 3, 64)             17920     \n",
            "                                                                 \n",
            " dropout (Dropout)           (None, 3, 64)             0         \n",
            "                                                                 \n",
            " lstm_1 (LSTM)               (None, 64)                33024     \n",
            "                                                                 \n",
            " dense (Dense)               (None, 32)                2080      \n",
            "                                                                 \n",
            " dense_1 (Dense)             (None, 8613)              284229    \n",
            "                                                                 \n",
            "=================================================================\n",
            "Total params: 380,323\n",
            "Trainable params: 380,323\n",
            "Non-trainable params: 0\n",
            "_________________________________________________________________\n"
          ]
        }
      ],
      "source": [
        "model = Sequential()\n",
        "\n",
        "# Embedding:\n",
        "# input_seq_len = 3 --> ingreso 3 palabras\n",
        "# input_dim = vocab_size --> 1628 palabras distintas\n",
        "# output_dim = 5 --> crear embeddings de tamaño 3 (tamaño variable y ajustable)\n",
        "model.add(Embedding(input_dim=vocab_size+1, output_dim=5, input_length=input_seq_len))\n",
        "\n",
        "model.add(LSTM(64, return_sequences=True))\n",
        "model.add(Dropout(0.2))\n",
        "model.add(LSTM(64)) # La última capa LSTM no lleva return_sequences\n",
        "model.add(Dense(32, activation='relu'))\n",
        "\n",
        "# Predicción de clasificación con softmax\n",
        "# La salida vuelve al espacio de 1628 palabras posibles\n",
        "model.add(Dense(vocab_size, activation='softmax'))\n",
        "\n",
        "# Clasificación multiple categórica --> loss = categorical_crossentropy\n",
        "model.compile(loss='categorical_crossentropy', optimizer='adam', metrics=['accuracy'])\n",
        "\n",
        "model.summary()"
      ]
    },
    {
      "cell_type": "code",
      "execution_count": null,
      "metadata": {
        "colab": {
          "base_uri": "https://localhost:8080/"
        },
        "id": "oQq1PHDkxDvN",
        "outputId": "bf048ee9-64c5-4ccf-8f69-9ede4692f45d"
      },
      "outputs": [
        {
          "name": "stdout",
          "output_type": "stream",
          "text": [
            "Epoch 1/50\n",
            "1950/1950 [==============================] - 39s 15ms/step - loss: 6.9428 - accuracy: 0.0452 - val_loss: 6.8415 - val_accuracy: 0.0392\n",
            "Epoch 2/50\n",
            "1950/1950 [==============================] - 19s 9ms/step - loss: 6.5536 - accuracy: 0.0461 - val_loss: 6.8350 - val_accuracy: 0.0449\n",
            "Epoch 3/50\n",
            "1950/1950 [==============================] - 19s 10ms/step - loss: 6.3398 - accuracy: 0.0561 - val_loss: 6.8414 - val_accuracy: 0.0542\n",
            "Epoch 4/50\n",
            "1950/1950 [==============================] - 19s 10ms/step - loss: 6.1398 - accuracy: 0.0648 - val_loss: 6.8811 - val_accuracy: 0.0585\n",
            "Epoch 5/50\n",
            "1950/1950 [==============================] - 19s 10ms/step - loss: 6.0036 - accuracy: 0.0687 - val_loss: 6.9758 - val_accuracy: 0.0615\n",
            "Epoch 6/50\n",
            "1950/1950 [==============================] - 18s 9ms/step - loss: 5.8942 - accuracy: 0.0724 - val_loss: 7.0131 - val_accuracy: 0.0633\n",
            "Epoch 7/50\n",
            "1950/1950 [==============================] - 19s 10ms/step - loss: 5.7744 - accuracy: 0.0782 - val_loss: 7.0702 - val_accuracy: 0.0669\n",
            "Epoch 8/50\n",
            "1950/1950 [==============================] - 18s 9ms/step - loss: 5.6467 - accuracy: 0.0851 - val_loss: 7.0898 - val_accuracy: 0.0714\n",
            "Epoch 9/50\n",
            "1950/1950 [==============================] - 19s 10ms/step - loss: 5.5219 - accuracy: 0.0922 - val_loss: 7.1633 - val_accuracy: 0.0717\n",
            "Epoch 10/50\n",
            "1950/1950 [==============================] - 19s 10ms/step - loss: 5.4099 - accuracy: 0.0984 - val_loss: 7.2852 - val_accuracy: 0.0740\n",
            "Epoch 11/50\n",
            "1950/1950 [==============================] - 19s 10ms/step - loss: 5.3083 - accuracy: 0.1012 - val_loss: 7.3535 - val_accuracy: 0.0766\n",
            "Epoch 12/50\n",
            "1950/1950 [==============================] - 19s 10ms/step - loss: 5.2106 - accuracy: 0.1072 - val_loss: 7.4565 - val_accuracy: 0.0781\n",
            "Epoch 13/50\n",
            "1950/1950 [==============================] - 18s 9ms/step - loss: 5.1204 - accuracy: 0.1120 - val_loss: 7.6411 - val_accuracy: 0.0826\n",
            "Epoch 14/50\n",
            "1950/1950 [==============================] - 19s 10ms/step - loss: 5.0403 - accuracy: 0.1159 - val_loss: 7.7272 - val_accuracy: 0.0796\n",
            "Epoch 15/50\n",
            "1950/1950 [==============================] - 19s 9ms/step - loss: 4.9625 - accuracy: 0.1184 - val_loss: 7.8729 - val_accuracy: 0.0805\n",
            "Epoch 16/50\n",
            "1950/1950 [==============================] - 19s 10ms/step - loss: 4.8913 - accuracy: 0.1234 - val_loss: 7.9442 - val_accuracy: 0.0833\n",
            "Epoch 17/50\n",
            "1950/1950 [==============================] - 18s 9ms/step - loss: 4.8232 - accuracy: 0.1256 - val_loss: 8.2621 - val_accuracy: 0.0829\n",
            "Epoch 18/50\n",
            "1950/1950 [==============================] - 19s 10ms/step - loss: 4.7653 - accuracy: 0.1291 - val_loss: 8.3284 - val_accuracy: 0.0833\n",
            "Epoch 19/50\n",
            "1950/1950 [==============================] - 18s 9ms/step - loss: 4.7076 - accuracy: 0.1322 - val_loss: 8.4939 - val_accuracy: 0.0848\n",
            "Epoch 20/50\n",
            "1950/1950 [==============================] - 19s 10ms/step - loss: 4.6531 - accuracy: 0.1350 - val_loss: 8.6601 - val_accuracy: 0.0840\n",
            "Epoch 21/50\n",
            "1950/1950 [==============================] - 18s 9ms/step - loss: 4.6055 - accuracy: 0.1364 - val_loss: 8.7532 - val_accuracy: 0.0851\n",
            "Epoch 22/50\n",
            "1950/1950 [==============================] - 19s 10ms/step - loss: 4.5586 - accuracy: 0.1395 - val_loss: 9.0163 - val_accuracy: 0.0846\n",
            "Epoch 23/50\n",
            "1950/1950 [==============================] - 18s 9ms/step - loss: 4.5150 - accuracy: 0.1422 - val_loss: 9.1938 - val_accuracy: 0.0853\n",
            "Epoch 24/50\n",
            "1950/1950 [==============================] - 19s 10ms/step - loss: 4.4758 - accuracy: 0.1446 - val_loss: 9.2632 - val_accuracy: 0.0861\n",
            "Epoch 25/50\n",
            "1950/1950 [==============================] - 19s 10ms/step - loss: 4.4392 - accuracy: 0.1468 - val_loss: 9.4693 - val_accuracy: 0.0855\n",
            "Epoch 26/50\n",
            "1950/1950 [==============================] - 19s 10ms/step - loss: 4.4054 - accuracy: 0.1491 - val_loss: 9.6072 - val_accuracy: 0.0860\n",
            "Epoch 27/50\n",
            "1950/1950 [==============================] - 19s 10ms/step - loss: 4.3700 - accuracy: 0.1513 - val_loss: 9.7355 - val_accuracy: 0.0839\n",
            "Epoch 28/50\n",
            "1950/1950 [==============================] - 19s 10ms/step - loss: 4.3386 - accuracy: 0.1553 - val_loss: 9.9552 - val_accuracy: 0.0842\n",
            "Epoch 29/50\n",
            "1950/1950 [==============================] - 18s 9ms/step - loss: 4.3115 - accuracy: 0.1571 - val_loss: 10.0387 - val_accuracy: 0.0843\n",
            "Epoch 30/50\n",
            "1950/1950 [==============================] - 19s 10ms/step - loss: 4.2854 - accuracy: 0.1571 - val_loss: 10.1994 - val_accuracy: 0.0837\n",
            "Epoch 31/50\n",
            "1950/1950 [==============================] - 19s 10ms/step - loss: 4.2556 - accuracy: 0.1622 - val_loss: 10.4032 - val_accuracy: 0.0842\n",
            "Epoch 32/50\n",
            "1950/1950 [==============================] - 19s 10ms/step - loss: 4.2373 - accuracy: 0.1629 - val_loss: 10.5295 - val_accuracy: 0.0837\n",
            "Epoch 33/50\n",
            "1950/1950 [==============================] - 18s 9ms/step - loss: 4.2113 - accuracy: 0.1651 - val_loss: 10.5457 - val_accuracy: 0.0849\n",
            "Epoch 34/50\n",
            "1950/1950 [==============================] - 19s 10ms/step - loss: 4.1904 - accuracy: 0.1674 - val_loss: 10.6665 - val_accuracy: 0.0849\n",
            "Epoch 35/50\n",
            "1950/1950 [==============================] - 18s 9ms/step - loss: 4.1677 - accuracy: 0.1692 - val_loss: 10.8350 - val_accuracy: 0.0832\n",
            "Epoch 36/50\n",
            "1950/1950 [==============================] - 19s 10ms/step - loss: 4.1536 - accuracy: 0.1712 - val_loss: 10.8578 - val_accuracy: 0.0842\n",
            "Epoch 37/50\n",
            "1950/1950 [==============================] - 18s 9ms/step - loss: 4.1299 - accuracy: 0.1730 - val_loss: 11.1441 - val_accuracy: 0.0849\n",
            "Epoch 38/50\n",
            "1950/1950 [==============================] - 19s 10ms/step - loss: 4.1106 - accuracy: 0.1765 - val_loss: 11.0982 - val_accuracy: 0.0835\n",
            "Epoch 39/50\n",
            "1950/1950 [==============================] - 20s 10ms/step - loss: 4.0937 - accuracy: 0.1775 - val_loss: 11.2267 - val_accuracy: 0.0832\n",
            "Epoch 40/50\n",
            "1950/1950 [==============================] - 21s 11ms/step - loss: 4.0781 - accuracy: 0.1787 - val_loss: 11.1946 - val_accuracy: 0.0846\n",
            "Epoch 41/50\n",
            "1950/1950 [==============================] - 27s 14ms/step - loss: 4.0620 - accuracy: 0.1816 - val_loss: 11.4824 - val_accuracy: 0.0849\n",
            "Epoch 42/50\n",
            "1950/1950 [==============================] - 20s 10ms/step - loss: 4.0502 - accuracy: 0.1820 - val_loss: 11.3586 - val_accuracy: 0.0832\n",
            "Epoch 43/50\n",
            "1950/1950 [==============================] - 21s 11ms/step - loss: 4.0344 - accuracy: 0.1833 - val_loss: 11.6078 - val_accuracy: 0.0835\n",
            "Epoch 44/50\n",
            "1950/1950 [==============================] - 21s 11ms/step - loss: 4.0156 - accuracy: 0.1857 - val_loss: 11.5246 - val_accuracy: 0.0822\n",
            "Epoch 45/50\n",
            "1950/1950 [==============================] - 20s 10ms/step - loss: 4.0002 - accuracy: 0.1883 - val_loss: 11.7083 - val_accuracy: 0.0844\n",
            "Epoch 46/50\n",
            "1950/1950 [==============================] - 21s 11ms/step - loss: 3.9924 - accuracy: 0.1888 - val_loss: 11.8234 - val_accuracy: 0.0851\n",
            "Epoch 47/50\n",
            "1950/1950 [==============================] - 18s 9ms/step - loss: 3.9753 - accuracy: 0.1899 - val_loss: 11.8777 - val_accuracy: 0.0813\n",
            "Epoch 48/50\n",
            "1950/1950 [==============================] - 18s 9ms/step - loss: 3.9650 - accuracy: 0.1930 - val_loss: 11.9963 - val_accuracy: 0.0842\n",
            "Epoch 49/50\n",
            "1950/1950 [==============================] - 19s 10ms/step - loss: 3.9514 - accuracy: 0.1940 - val_loss: 12.0409 - val_accuracy: 0.0822\n",
            "Epoch 50/50\n",
            "1950/1950 [==============================] - 19s 10ms/step - loss: 3.9401 - accuracy: 0.1946 - val_loss: 12.1649 - val_accuracy: 0.0827\n"
          ]
        }
      ],
      "source": [
        "hist = model.fit(x_data, y_data, epochs=50, validation_split=0.2)"
      ]
    },
    {
      "cell_type": "code",
      "execution_count": null,
      "metadata": {
        "colab": {
          "base_uri": "https://localhost:8080/",
          "height": 430
        },
        "id": "q_orBXOrCsNn",
        "outputId": "d2025fcb-b77d-4471-b70b-90d42e29873e"
      },
      "outputs": [
        {
          "data": {
            "image/png": "[encoded data removed]",
            "text/plain": [
              "<Figure size 640x480 with 1 Axes>"
            ]
          },
          "metadata": {},
          "output_type": "display_data"
        }
      ],
      "source": [
        "import matplotlib.pyplot as plt\n",
        "import seaborn as sns\n",
        "\n",
        "# Entrenamiento\n",
        "epoch_count = range(1, len(hist.history['accuracy']) + 1)\n",
        "sns.lineplot(x=epoch_count,  y=hist.history['accuracy'], label='train')\n",
        "sns.lineplot(x=epoch_count,  y=hist.history['val_accuracy'], label='valid')\n",
        "plt.show()"
      ]
    },
    {
      "attachments": {},
      "cell_type": "markdown",
      "metadata": {
        "id": "qouy4P1sQRfe"
      },
      "source": [
        "Se puede ver que las métricas resultantes no son buenas.\n",
        "Probamos con redes bidireccionales."
      ]
    },
    {
      "cell_type": "code",
      "execution_count": null,
      "metadata": {
        "colab": {
          "base_uri": "https://localhost:8080/"
        },
        "id": "neAx_J09QBvt",
        "outputId": "6b922160-cf03-4482-af9d-74fd45d7c8ad"
      },
      "outputs": [
        {
          "name": "stdout",
          "output_type": "stream",
          "text": [
            "Model: \"sequential_1\"\n",
            "_________________________________________________________________\n",
            " Layer (type)                Output Shape              Param #   \n",
            "=================================================================\n",
            " embedding_1 (Embedding)     (None, 3, 5)              43070     \n",
            "                                                                 \n",
            " bidirectional (Bidirectiona  (None, 3, 128)           35840     \n",
            " l)                                                              \n",
            "                                                                 \n",
            " dropout_1 (Dropout)         (None, 3, 128)            0         \n",
            "                                                                 \n",
            " bidirectional_1 (Bidirectio  (None, 128)              98816     \n",
            " nal)                                                            \n",
            "                                                                 \n",
            " dense_2 (Dense)             (None, 32)                4128      \n",
            "                                                                 \n",
            " dense_3 (Dense)             (None, 8613)              284229    \n",
            "                                                                 \n",
            "=================================================================\n",
            "Total params: 466,083\n",
            "Trainable params: 466,083\n",
            "Non-trainable params: 0\n",
            "_________________________________________________________________\n"
          ]
        }
      ],
      "source": [
        "model = Sequential()\n",
        "\n",
        "model.add(Embedding(input_dim=vocab_size+1, output_dim=5, input_length=input_seq_len))\n",
        "\n",
        "# Añadir una capa LSTM bidireccional\n",
        "model.add(Bidirectional(LSTM(64, return_sequences=True)))\n",
        "model.add(Dropout(0.2))\n",
        "\n",
        "# Añadir otra capa LSTM bidireccional\n",
        "# No es necesario poner return_sequences=True porque la siguiente capa ya no es recurrente\n",
        "model.add(Bidirectional(LSTM(64)))\n",
        "\n",
        "model.add(Dense(32, activation='relu'))\n",
        "\n",
        "model.add(Dense(vocab_size, activation='softmax'))\n",
        "\n",
        "model.compile(loss='categorical_crossentropy', optimizer='adam', metrics=['accuracy'])\n",
        "\n",
        "model.summary()"
      ]
    },
    {
      "cell_type": "code",
      "execution_count": null,
      "metadata": {
        "colab": {
          "base_uri": "https://localhost:8080/"
        },
        "id": "W3hHqzQuRyVH",
        "outputId": "d96e7be7-a018-4610-e33b-f1dce77d6825"
      },
      "outputs": [
        {
          "name": "stdout",
          "output_type": "stream",
          "text": [
            "Epoch 1/50\n",
            "1950/1950 [==============================] - 41s 17ms/step - loss: 6.8620 - accuracy: 0.0454 - val_loss: 6.7486 - val_accuracy: 0.0392\n",
            "Epoch 2/50\n",
            "1950/1950 [==============================] - 26s 13ms/step - loss: 6.4015 - accuracy: 0.0475 - val_loss: 6.7514 - val_accuracy: 0.0508\n",
            "Epoch 3/50\n",
            "1950/1950 [==============================] - 27s 14ms/step - loss: 6.1750 - accuracy: 0.0634 - val_loss: 6.7915 - val_accuracy: 0.0619\n",
            "Epoch 4/50\n",
            "1950/1950 [==============================] - 25s 13ms/step - loss: 5.9822 - accuracy: 0.0751 - val_loss: 6.8477 - val_accuracy: 0.0672\n",
            "Epoch 5/50\n",
            "1950/1950 [==============================] - 25s 13ms/step - loss: 5.8001 - accuracy: 0.0851 - val_loss: 6.8878 - val_accuracy: 0.0748\n",
            "Epoch 6/50\n",
            "1950/1950 [==============================] - 25s 13ms/step - loss: 5.6279 - accuracy: 0.0970 - val_loss: 6.8951 - val_accuracy: 0.0780\n",
            "Epoch 7/50\n",
            "1950/1950 [==============================] - 24s 12ms/step - loss: 5.4736 - accuracy: 0.1073 - val_loss: 6.9139 - val_accuracy: 0.0855\n",
            "Epoch 8/50\n",
            "1950/1950 [==============================] - 25s 13ms/step - loss: 5.3346 - accuracy: 0.1164 - val_loss: 6.9810 - val_accuracy: 0.0883\n",
            "Epoch 9/50\n",
            "1950/1950 [==============================] - 25s 13ms/step - loss: 5.2079 - accuracy: 0.1238 - val_loss: 7.1230 - val_accuracy: 0.0909\n",
            "Epoch 10/50\n",
            "1950/1950 [==============================] - 26s 13ms/step - loss: 5.0940 - accuracy: 0.1307 - val_loss: 7.2313 - val_accuracy: 0.0922\n",
            "Epoch 11/50\n",
            "1950/1950 [==============================] - 26s 13ms/step - loss: 4.9955 - accuracy: 0.1357 - val_loss: 7.3637 - val_accuracy: 0.0932\n",
            "Epoch 12/50\n",
            "1950/1950 [==============================] - 25s 13ms/step - loss: 4.9052 - accuracy: 0.1398 - val_loss: 7.5376 - val_accuracy: 0.0937\n",
            "Epoch 13/50\n",
            "1950/1950 [==============================] - 25s 13ms/step - loss: 4.8225 - accuracy: 0.1454 - val_loss: 7.6608 - val_accuracy: 0.0932\n",
            "Epoch 14/50\n",
            "1950/1950 [==============================] - 25s 13ms/step - loss: 4.7481 - accuracy: 0.1473 - val_loss: 7.8471 - val_accuracy: 0.0942\n",
            "Epoch 15/50\n",
            "1950/1950 [==============================] - 27s 14ms/step - loss: 4.6800 - accuracy: 0.1510 - val_loss: 8.0717 - val_accuracy: 0.0957\n",
            "Epoch 16/50\n",
            "1950/1950 [==============================] - 27s 14ms/step - loss: 4.6130 - accuracy: 0.1536 - val_loss: 8.2484 - val_accuracy: 0.0933\n",
            "Epoch 17/50\n",
            "1950/1950 [==============================] - 25s 13ms/step - loss: 4.5583 - accuracy: 0.1576 - val_loss: 8.4646 - val_accuracy: 0.0945\n",
            "Epoch 18/50\n",
            "1950/1950 [==============================] - 25s 13ms/step - loss: 4.5028 - accuracy: 0.1596 - val_loss: 8.5959 - val_accuracy: 0.0950\n",
            "Epoch 19/50\n",
            "1950/1950 [==============================] - 25s 13ms/step - loss: 4.4501 - accuracy: 0.1629 - val_loss: 8.8200 - val_accuracy: 0.0955\n",
            "Epoch 20/50\n",
            "1950/1950 [==============================] - 24s 12ms/step - loss: 4.4049 - accuracy: 0.1643 - val_loss: 8.9626 - val_accuracy: 0.0948\n",
            "Epoch 21/50\n",
            "1950/1950 [==============================] - 24s 13ms/step - loss: 4.3584 - accuracy: 0.1673 - val_loss: 9.1290 - val_accuracy: 0.0944\n",
            "Epoch 22/50\n",
            "1950/1950 [==============================] - 25s 13ms/step - loss: 4.3208 - accuracy: 0.1699 - val_loss: 9.4092 - val_accuracy: 0.0949\n",
            "Epoch 23/50\n",
            "1950/1950 [==============================] - 25s 13ms/step - loss: 4.2817 - accuracy: 0.1727 - val_loss: 9.5724 - val_accuracy: 0.0928\n",
            "Epoch 24/50\n",
            "1950/1950 [==============================] - 25s 13ms/step - loss: 4.2456 - accuracy: 0.1762 - val_loss: 9.6479 - val_accuracy: 0.0935\n",
            "Epoch 25/50\n",
            "1950/1950 [==============================] - 25s 13ms/step - loss: 4.2120 - accuracy: 0.1778 - val_loss: 9.7668 - val_accuracy: 0.0930\n",
            "Epoch 26/50\n",
            "1950/1950 [==============================] - 25s 13ms/step - loss: 4.1816 - accuracy: 0.1792 - val_loss: 9.9961 - val_accuracy: 0.0933\n",
            "Epoch 27/50\n",
            "1950/1950 [==============================] - 24s 12ms/step - loss: 4.1494 - accuracy: 0.1820 - val_loss: 10.1782 - val_accuracy: 0.0938\n",
            "Epoch 28/50\n",
            "1950/1950 [==============================] - 25s 13ms/step - loss: 4.1232 - accuracy: 0.1850 - val_loss: 10.3616 - val_accuracy: 0.0937\n",
            "Epoch 29/50\n",
            "1950/1950 [==============================] - 24s 13ms/step - loss: 4.1000 - accuracy: 0.1867 - val_loss: 10.4743 - val_accuracy: 0.0946\n",
            "Epoch 30/50\n",
            "1950/1950 [==============================] - 24s 12ms/step - loss: 4.0696 - accuracy: 0.1879 - val_loss: 10.6677 - val_accuracy: 0.0915\n",
            "Epoch 31/50\n",
            "1950/1950 [==============================] - 25s 13ms/step - loss: 4.0446 - accuracy: 0.1919 - val_loss: 10.6986 - val_accuracy: 0.0954\n",
            "Epoch 32/50\n",
            "1950/1950 [==============================] - 25s 13ms/step - loss: 4.0263 - accuracy: 0.1928 - val_loss: 10.8693 - val_accuracy: 0.0937\n",
            "Epoch 33/50\n",
            "1950/1950 [==============================] - 25s 13ms/step - loss: 3.9995 - accuracy: 0.1933 - val_loss: 10.9215 - val_accuracy: 0.0907\n",
            "Epoch 34/50\n",
            "1950/1950 [==============================] - 26s 13ms/step - loss: 3.9847 - accuracy: 0.1970 - val_loss: 11.2101 - val_accuracy: 0.0913\n",
            "Epoch 35/50\n",
            "1950/1950 [==============================] - 25s 13ms/step - loss: 3.9631 - accuracy: 0.1988 - val_loss: 11.3142 - val_accuracy: 0.0906\n",
            "Epoch 36/50\n",
            "1950/1950 [==============================] - 24s 13ms/step - loss: 3.9394 - accuracy: 0.1998 - val_loss: 11.2846 - val_accuracy: 0.0921\n",
            "Epoch 37/50\n",
            "1950/1950 [==============================] - 25s 13ms/step - loss: 3.9218 - accuracy: 0.2019 - val_loss: 11.5621 - val_accuracy: 0.0941\n",
            "Epoch 38/50\n",
            "1950/1950 [==============================] - 24s 13ms/step - loss: 3.9061 - accuracy: 0.2042 - val_loss: 11.4347 - val_accuracy: 0.0941\n",
            "Epoch 39/50\n",
            "1950/1950 [==============================] - 24s 12ms/step - loss: 3.8874 - accuracy: 0.2059 - val_loss: 11.7903 - val_accuracy: 0.0901\n",
            "Epoch 40/50\n",
            "1950/1950 [==============================] - 24s 12ms/step - loss: 3.8692 - accuracy: 0.2067 - val_loss: 11.8136 - val_accuracy: 0.0930\n",
            "Epoch 41/50\n",
            "1950/1950 [==============================] - 25s 13ms/step - loss: 3.8614 - accuracy: 0.2100 - val_loss: 11.9072 - val_accuracy: 0.0909\n",
            "Epoch 42/50\n",
            "1950/1950 [==============================] - 27s 14ms/step - loss: 3.8447 - accuracy: 0.2103 - val_loss: 11.9386 - val_accuracy: 0.0897\n",
            "Epoch 43/50\n",
            "1950/1950 [==============================] - 24s 13ms/step - loss: 3.8290 - accuracy: 0.2121 - val_loss: 12.2891 - val_accuracy: 0.0903\n",
            "Epoch 44/50\n",
            "1950/1950 [==============================] - 24s 12ms/step - loss: 3.8117 - accuracy: 0.2143 - val_loss: 12.2008 - val_accuracy: 0.0914\n",
            "Epoch 45/50\n",
            "1950/1950 [==============================] - 25s 13ms/step - loss: 3.7988 - accuracy: 0.2157 - val_loss: 12.4061 - val_accuracy: 0.0876\n",
            "Epoch 46/50\n",
            "1950/1950 [==============================] - 30s 15ms/step - loss: 3.7819 - accuracy: 0.2178 - val_loss: 12.3041 - val_accuracy: 0.0912\n",
            "Epoch 47/50\n",
            "1950/1950 [==============================] - 30s 15ms/step - loss: 3.7723 - accuracy: 0.2179 - val_loss: 12.3435 - val_accuracy: 0.0907\n",
            "Epoch 48/50\n",
            "1950/1950 [==============================] - 30s 15ms/step - loss: 3.7593 - accuracy: 0.2191 - val_loss: 12.5291 - val_accuracy: 0.0900\n",
            "Epoch 49/50\n",
            "1950/1950 [==============================] - 31s 16ms/step - loss: 3.7498 - accuracy: 0.2220 - val_loss: 12.5178 - val_accuracy: 0.0884\n",
            "Epoch 50/50\n",
            "1950/1950 [==============================] - 29s 15ms/step - loss: 3.7362 - accuracy: 0.2229 - val_loss: 12.7118 - val_accuracy: 0.0869\n"
          ]
        }
      ],
      "source": [
        "hist = model.fit(x_data, y_data, epochs=50, validation_split=0.2)"
      ]
    },
    {
      "cell_type": "code",
      "execution_count": null,
      "metadata": {
        "colab": {
          "base_uri": "https://localhost:8080/",
          "height": 430
        },
        "id": "am4d9dncXN4F",
        "outputId": "488d904b-76c5-436e-843f-1fb40cf1f25d"
      },
      "outputs": [
        {
          "data": {
            "image/png": "[encoded data removed]",
            "text/plain": [
              "<Figure size 640x480 with 1 Axes>"
            ]
          },
          "metadata": {},
          "output_type": "display_data"
        }
      ],
      "source": [
        "epoch_count = range(1, len(hist.history['accuracy']) + 1)\n",
        "sns.lineplot(x=epoch_count,  y=hist.history['accuracy'], label='train')\n",
        "sns.lineplot(x=epoch_count,  y=hist.history['val_accuracy'], label='valid')\n",
        "plt.show()"
      ]
    },
    {
      "attachments": {},
      "cell_type": "markdown",
      "metadata": {
        "id": "TC54U2_Ebinp"
      },
      "source": [
        "#### 3.2 - Ahora generamos un modelo para el dataset extendido, con ambos libros, y agregando una LSTM más."
      ]
    },
    {
      "cell_type": "code",
      "execution_count": null,
      "metadata": {
        "colab": {
          "base_uri": "https://localhost:8080/"
        },
        "id": "h1uHvrTGbw7a",
        "outputId": "7c97d72f-bb89-4618-846d-71094c866761"
      },
      "outputs": [
        {
          "name": "stdout",
          "output_type": "stream",
          "text": [
            "Model: \"sequential\"\n",
            "_________________________________________________________________\n",
            " Layer (type)                Output Shape              Param #   \n",
            "=================================================================\n",
            " embedding (Embedding)       (None, 3, 7)              98728     \n",
            "                                                                 \n",
            " bidirectional (Bidirectiona  (None, 3, 128)           36864     \n",
            " l)                                                              \n",
            "                                                                 \n",
            " dropout (Dropout)           (None, 3, 128)            0         \n",
            "                                                                 \n",
            " bidirectional_1 (Bidirectio  (None, 3, 128)           98816     \n",
            " nal)                                                            \n",
            "                                                                 \n",
            " dropout_1 (Dropout)         (None, 3, 128)            0         \n",
            "                                                                 \n",
            " bidirectional_2 (Bidirectio  (None, 128)              98816     \n",
            " nal)                                                            \n",
            "                                                                 \n",
            " dense (Dense)               (None, 32)                4128      \n",
            "                                                                 \n",
            " dense_1 (Dense)             (None, 14103)             465399    \n",
            "                                                                 \n",
            "=================================================================\n",
            "Total params: 802,751\n",
            "Trainable params: 802,751\n",
            "Non-trainable params: 0\n",
            "_________________________________________________________________\n"
          ]
        }
      ],
      "source": [
        "model = Sequential()\n",
        "\n",
        "model.add(Embedding(input_dim=vocab_size_extendido+1, output_dim=7, input_length=input_seq_len_extendido))\n",
        "\n",
        "# Añadir una capa LSTM bidireccional\n",
        "model.add(Bidirectional(LSTM(64, return_sequences=True)))\n",
        "model.add(Dropout(0.2))\n",
        "\n",
        "# Segunda capa LSTM bidireccional\n",
        "model.add(Bidirectional(LSTM(64, return_sequences=True)))\n",
        "model.add(Dropout(0.2))\n",
        "\n",
        "# Tercera capa LSTM bidireccional\n",
        "model.add(Bidirectional(LSTM(64)))\n",
        "\n",
        "model.add(Dense(32, activation='relu'))\n",
        "\n",
        "model.add(Dense(vocab_size_extendido, activation='softmax'))\n",
        "\n",
        "model.compile(loss='categorical_crossentropy', optimizer='adam', metrics=['accuracy'])\n",
        "\n",
        "model.summary()"
      ]
    },
    {
      "cell_type": "code",
      "execution_count": null,
      "metadata": {
        "id": "De3LIFbiKeUM"
      },
      "outputs": [],
      "source": [
        "import tensorflow as tf"
      ]
    },
    {
      "cell_type": "code",
      "execution_count": null,
      "metadata": {
        "colab": {
          "base_uri": "https://localhost:8080/"
        },
        "id": "rqbyb4lCcVWI",
        "outputId": "57124556-6bf2-4bd4-a096-65f9a0614ea8"
      },
      "outputs": [
        {
          "name": "stdout",
          "output_type": "stream",
          "text": [
            "Epoch 1/50\n",
            "4233/4233 [==============================] - 111s 24ms/step - loss: 6.8140 - accuracy: 0.0489 - val_loss: 6.6455 - val_accuracy: 0.0630\n",
            "Epoch 2/50\n",
            "4233/4233 [==============================] - 102s 24ms/step - loss: 6.3120 - accuracy: 0.0701 - val_loss: 6.5830 - val_accuracy: 0.0805\n",
            "Epoch 3/50\n",
            "4233/4233 [==============================] - 99s 23ms/step - loss: 5.9992 - accuracy: 0.0915 - val_loss: 6.5789 - val_accuracy: 0.0938\n",
            "Epoch 4/50\n",
            "4233/4233 [==============================] - 99s 23ms/step - loss: 5.7669 - accuracy: 0.1064 - val_loss: 6.5713 - val_accuracy: 0.1031\n",
            "Epoch 5/50\n",
            "4233/4233 [==============================] - 99s 23ms/step - loss: 5.5836 - accuracy: 0.1171 - val_loss: 6.6249 - val_accuracy: 0.1053\n",
            "Epoch 6/50\n",
            "4233/4233 [==============================] - 97s 23ms/step - loss: 5.4446 - accuracy: 0.1258 - val_loss: 6.6730 - val_accuracy: 0.1093\n",
            "Epoch 7/50\n",
            "4233/4233 [==============================] - 98s 23ms/step - loss: 5.3329 - accuracy: 0.1333 - val_loss: 6.7262 - val_accuracy: 0.1112\n",
            "Epoch 8/50\n",
            "4233/4233 [==============================] - 99s 23ms/step - loss: 5.2407 - accuracy: 0.1387 - val_loss: 6.7438 - val_accuracy: 0.1134\n",
            "Epoch 9/50\n",
            "4233/4233 [==============================] - 99s 23ms/step - loss: 5.1650 - accuracy: 0.1424 - val_loss: 6.8434 - val_accuracy: 0.1161\n",
            "Epoch 10/50\n",
            "4233/4233 [==============================] - 99s 23ms/step - loss: 5.0965 - accuracy: 0.1471 - val_loss: 6.9130 - val_accuracy: 0.1148\n",
            "Epoch 11/50\n",
            "4233/4233 [==============================] - 99s 23ms/step - loss: 5.0353 - accuracy: 0.1498 - val_loss: 6.9814 - val_accuracy: 0.1149\n",
            "Epoch 12/50\n",
            "4233/4233 [==============================] - 101s 24ms/step - loss: 4.9807 - accuracy: 0.1526 - val_loss: 7.0325 - val_accuracy: 0.1165\n",
            "Epoch 13/50\n",
            "4233/4233 [==============================] - 102s 24ms/step - loss: 4.9307 - accuracy: 0.1557 - val_loss: 7.0862 - val_accuracy: 0.1162\n",
            "Epoch 14/50\n",
            "4233/4233 [==============================] - 101s 24ms/step - loss: 4.8870 - accuracy: 0.1574 - val_loss: 7.1598 - val_accuracy: 0.1177\n",
            "Epoch 15/50\n",
            "4233/4233 [==============================] - 105s 25ms/step - loss: 4.8475 - accuracy: 0.1596 - val_loss: 7.2872 - val_accuracy: 0.1174\n",
            "Epoch 16/50\n",
            "4233/4233 [==============================] - 102s 24ms/step - loss: 4.8159 - accuracy: 0.1615 - val_loss: 7.2021 - val_accuracy: 0.1168\n",
            "Epoch 17/50\n",
            "4233/4233 [==============================] - 135s 32ms/step - loss: 4.7794 - accuracy: 0.1631 - val_loss: 7.4254 - val_accuracy: 0.1165\n",
            "Epoch 18/50\n",
            "4233/4233 [==============================] - 100s 24ms/step - loss: 4.7521 - accuracy: 0.1657 - val_loss: 7.4351 - val_accuracy: 0.1180\n",
            "Epoch 19/50\n",
            "4233/4233 [==============================] - 101s 24ms/step - loss: 4.7235 - accuracy: 0.1677 - val_loss: 7.4755 - val_accuracy: 0.1177\n",
            "Epoch 20/50\n",
            "4233/4233 [==============================] - 102s 24ms/step - loss: 4.6975 - accuracy: 0.1688 - val_loss: 7.4852 - val_accuracy: 0.1188\n",
            "Epoch 21/50\n",
            "4233/4233 [==============================] - 103s 24ms/step - loss: 4.6763 - accuracy: 0.1705 - val_loss: 7.5560 - val_accuracy: 0.1174\n",
            "Epoch 22/50\n",
            "4233/4233 [==============================] - 164s 39ms/step - loss: 4.6539 - accuracy: 0.1721 - val_loss: 7.6547 - val_accuracy: 0.1193\n",
            "Epoch 23/50\n",
            "4233/4233 [==============================] - 155s 37ms/step - loss: 4.6321 - accuracy: 0.1734 - val_loss: 7.7036 - val_accuracy: 0.1185\n",
            "Epoch 24/50\n",
            "4233/4233 [==============================] - 101s 24ms/step - loss: 4.6128 - accuracy: 0.1744 - val_loss: 7.7129 - val_accuracy: 0.1189\n",
            "Epoch 25/50\n",
            "4233/4233 [==============================] - 102s 24ms/step - loss: 4.5941 - accuracy: 0.1761 - val_loss: 7.8574 - val_accuracy: 0.1204\n",
            "Epoch 26/50\n",
            "4233/4233 [==============================] - 102s 24ms/step - loss: 4.5764 - accuracy: 0.1776 - val_loss: 7.8058 - val_accuracy: 0.1195\n",
            "Epoch 27/50\n",
            "4233/4233 [==============================] - 102s 24ms/step - loss: 4.5627 - accuracy: 0.1785 - val_loss: 7.8391 - val_accuracy: 0.1226\n",
            "Epoch 28/50\n",
            "4233/4233 [==============================] - 102s 24ms/step - loss: 4.5468 - accuracy: 0.1797 - val_loss: 7.9216 - val_accuracy: 0.1216\n",
            "Epoch 29/50\n",
            "4233/4233 [==============================] - 103s 24ms/step - loss: 4.5316 - accuracy: 0.1812 - val_loss: 7.9732 - val_accuracy: 0.1210\n",
            "Epoch 30/50\n",
            "4233/4233 [==============================] - 194s 46ms/step - loss: 4.5180 - accuracy: 0.1818 - val_loss: 8.1278 - val_accuracy: 0.1209\n",
            "Epoch 31/50\n",
            "4233/4233 [==============================] - 103s 24ms/step - loss: 4.5061 - accuracy: 0.1826 - val_loss: 8.0400 - val_accuracy: 0.1212\n",
            "Epoch 32/50\n",
            "4233/4233 [==============================] - 103s 24ms/step - loss: 4.4934 - accuracy: 0.1837 - val_loss: 8.1272 - val_accuracy: 0.1222\n",
            "Epoch 33/50\n",
            "4233/4233 [==============================] - 105s 25ms/step - loss: 4.4807 - accuracy: 0.1849 - val_loss: 8.1626 - val_accuracy: 0.1227\n",
            "Epoch 34/50\n",
            "4233/4233 [==============================] - 106s 25ms/step - loss: 4.4713 - accuracy: 0.1851 - val_loss: 8.0951 - val_accuracy: 0.1230\n",
            "Epoch 35/50\n",
            "4233/4233 [==============================] - 105s 25ms/step - loss: 4.4586 - accuracy: 0.1870 - val_loss: 8.0584 - val_accuracy: 0.1219\n",
            "Epoch 36/50\n",
            "4233/4233 [==============================] - 104s 25ms/step - loss: 4.4501 - accuracy: 0.1873 - val_loss: 8.2050 - val_accuracy: 0.1208\n",
            "Epoch 37/50\n",
            "4233/4233 [==============================] - 105s 25ms/step - loss: 4.4371 - accuracy: 0.1884 - val_loss: 8.3044 - val_accuracy: 0.1222\n",
            "Epoch 38/50\n",
            "4233/4233 [==============================] - 105s 25ms/step - loss: 4.4309 - accuracy: 0.1880 - val_loss: 8.3268 - val_accuracy: 0.1218\n",
            "Epoch 39/50\n",
            "4233/4233 [==============================] - 104s 25ms/step - loss: 4.4189 - accuracy: 0.1892 - val_loss: 8.3761 - val_accuracy: 0.1215\n",
            "Epoch 40/50\n",
            "4233/4233 [==============================] - 104s 25ms/step - loss: 4.4115 - accuracy: 0.1898 - val_loss: 8.5092 - val_accuracy: 0.1210\n",
            "Epoch 41/50\n",
            "4233/4233 [==============================] - 105s 25ms/step - loss: 4.4017 - accuracy: 0.1902 - val_loss: 8.3459 - val_accuracy: 0.1221\n",
            "Epoch 42/50\n",
            "4233/4233 [==============================] - 107s 25ms/step - loss: 4.3933 - accuracy: 0.1912 - val_loss: 8.4629 - val_accuracy: 0.1223\n",
            "Epoch 43/50\n",
            "4233/4233 [==============================] - 183s 43ms/step - loss: 4.3857 - accuracy: 0.1917 - val_loss: 8.4133 - val_accuracy: 0.1226\n",
            "Epoch 44/50\n",
            "4233/4233 [==============================] - 116s 27ms/step - loss: 4.3795 - accuracy: 0.1921 - val_loss: 8.5831 - val_accuracy: 0.1212\n",
            "Epoch 45/50\n",
            "4233/4233 [==============================] - 130s 31ms/step - loss: 4.3671 - accuracy: 0.1931 - val_loss: 8.4916 - val_accuracy: 0.1209\n",
            "Epoch 46/50\n",
            "4233/4233 [==============================] - 224s 53ms/step - loss: 4.3637 - accuracy: 0.1924 - val_loss: 8.6399 - val_accuracy: 0.1215\n",
            "Epoch 47/50\n",
            "4233/4233 [==============================] - 108s 26ms/step - loss: 4.3567 - accuracy: 0.1940 - val_loss: 8.5942 - val_accuracy: 0.1212\n",
            "Epoch 48/50\n",
            "4233/4233 [==============================] - 109s 26ms/step - loss: 4.3515 - accuracy: 0.1952 - val_loss: 8.6603 - val_accuracy: 0.1215\n",
            "Epoch 49/50\n",
            "4233/4233 [==============================] - 110s 26ms/step - loss: 4.3408 - accuracy: 0.1950 - val_loss: 8.7703 - val_accuracy: 0.1207\n",
            "Epoch 50/50\n",
            "4233/4233 [==============================] - 109s 26ms/step - loss: 4.3356 - accuracy: 0.1952 - val_loss: 8.6934 - val_accuracy: 0.1214\n"
          ]
        }
      ],
      "source": [
        "with tf.device('/CPU:0'):\n",
        "    hist = model.fit(x_data_extendido, y_data_extendido, epochs=50, validation_split=0.2)"
      ]
    },
    {
      "cell_type": "code",
      "execution_count": null,
      "metadata": {
        "id": "9iU4PvV-KeUM",
        "outputId": "529c49dd-2f7b-46e0-f32b-d4c914d1885a"
      },
      "outputs": [
        {
          "data": {
            "image/png": "[encoded data removed]",
            "text/plain": [
              "<Figure size 640x480 with 1 Axes>"
            ]
          },
          "metadata": {},
          "output_type": "display_data"
        }
      ],
      "source": [
        "import matplotlib.pyplot as plt\n",
        "import seaborn as sns\n",
        "\n",
        "epoch_count = range(1, len(hist.history['accuracy']) + 1)\n",
        "sns.lineplot(x=epoch_count,  y=hist.history['accuracy'], label='train')\n",
        "sns.lineplot(x=epoch_count,  y=hist.history['val_accuracy'], label='valid')\n",
        "plt.show()"
      ]
    },
    {
      "cell_type": "code",
      "execution_count": null,
      "metadata": {
        "id": "u5OCV0bdKeUM",
        "outputId": "e7f27cfd-60ff-4db8-a785-0fa712dec46d"
      },
      "outputs": [
        {
          "data": {
            "image/png": "[encoded data removed]",
            "text/plain": [
              "<Figure size 640x480 with 1 Axes>"
            ]
          },
          "metadata": {},
          "output_type": "display_data"
        }
      ],
      "source": [
        "sns.lineplot(x=epoch_count,  y=hist.history['loss'], label='train')\n",
        "sns.lineplot(x=epoch_count,  y=hist.history['val_loss'], label='valid')\n",
        "plt.show()"
      ]
    },
    {
      "attachments": {},
      "cell_type": "markdown",
      "metadata": {
        "id": "8_sbbm7eKeUM"
      },
      "source": [
        "Mejora un poco comparando con los modelos anteriores, pero en las primeras épocas ya comienza a tender al overfitting."
      ]
    },
    {
      "cell_type": "code",
      "execution_count": null,
      "metadata": {
        "id": "gijUx3AOKeUN"
      },
      "outputs": [],
      "source": [
        "import pickle\n",
        "pickle.dump(tok_extendido, open('tokenizador_extendido.pkl','wb'))\n",
        "model.save('modelo_prediccion_hp.h5')"
      ]
    },
    {
      "cell_type": "code",
      "execution_count": 44,
      "metadata": {
        "id": "_p2yZ0y8KeUN"
      },
      "outputs": [],
      "source": [
        "import pickle\n",
        "tok_extendido = None\n",
        "with open('/content/tokenizador_extendido.pkl', 'rb') as f:\n",
        "    # Usa pickle.load para cargar los datos\n",
        "    tok_extendido = pickle.load(f)\n"
      ]
    },
    {
      "cell_type": "code",
      "execution_count": 45,
      "metadata": {
        "id": "AHquKhCmKeUN"
      },
      "outputs": [],
      "source": [
        "from keras.models import load_model\n",
        "\n",
        "# Carga el modelo\n",
        "model = load_model('/content/modelo_prediccion_hp.h5')"
      ]
    },
    {
      "cell_type": "code",
      "execution_count": 46,
      "metadata": {
        "colab": {
          "base_uri": "https://localhost:8080/"
        },
        "id": "Hz9AZvhoKeUN",
        "outputId": "664e469e-01e9-4b6a-9c42-85d7034142da"
      },
      "outputs": [
        {
          "data": {
            "text/plain": [
              "<keras.preprocessing.text.Tokenizer at 0x7fb0a2c44280>"
            ]
          },
          "execution_count": 46,
          "metadata": {},
          "output_type": "execute_result"
        }
      ],
      "source": [
        "tok_extendido"
      ]
    },
    {
      "attachments": {},
      "cell_type": "markdown",
      "metadata": {
        "id": "KN6Fg_BsxJe6"
      },
      "source": [
        "### 5 - Predicción de próxima palabra"
      ]
    },
    {
      "cell_type": "code",
      "execution_count": null,
      "metadata": {
        "id": "iy_AXWQWzeeE"
      },
      "outputs": [],
      "source": [
        "# Keras pad_sequences\n",
        "# https://www.tensorflow.org/api_docs/python/tf/keras/preprocessing/sequence/pad_sequences\n",
        "# Si la secuencia de entrada supera al input_seq_len (3) se trunca\n",
        "# Si la secuencia es más corta se agregna ceros al comienzo"
      ]
    },
    {
      "cell_type": "code",
      "execution_count": 47,
      "metadata": {
        "colab": {
          "base_uri": "https://localhost:8080/"
        },
        "id": "IBvKHFPmzpy2",
        "outputId": "fdf17128-0cdc-45c7-e3bb-40738cd6c624"
      },
      "outputs": [
        {
          "name": "stdout",
          "output_type": "stream",
          "text": [
            "\u001b[2K     \u001b[90m━━━━━━━━━━━━━━━━━━━━━━━━━━━━━━━━━━━━━━━━\u001b[0m \u001b[32m19.9/19.9 MB\u001b[0m \u001b[31m80.8 MB/s\u001b[0m eta \u001b[36m0:00:00\u001b[0m\n",
            "\u001b[2K     \u001b[90m━━━━━━━━━━━━━━━━━━━━━━━━━━━━━━━━━━━━━━━━\u001b[0m \u001b[32m1.0/1.0 MB\u001b[0m \u001b[31m61.7 MB/s\u001b[0m eta \u001b[36m0:00:00\u001b[0m\n",
            "\u001b[2K     \u001b[90m━━━━━━━━━━━━━━━━━━━━━━━━━━━━━━━━━━━━━━━━\u001b[0m \u001b[32m57.0/57.0 kB\u001b[0m \u001b[31m8.3 MB/s\u001b[0m eta \u001b[36m0:00:00\u001b[0m\n",
            "\u001b[?25h  Preparing metadata (setup.py) ... \u001b[?25l\u001b[?25hdone\n",
            "\u001b[2K     \u001b[90m━━━━━━━━━━━━━━━━━━━━━━━━━━━━━━━━━━━━━━\u001b[0m \u001b[32m288.1/288.1 kB\u001b[0m \u001b[31m23.8 MB/s\u001b[0m eta \u001b[36m0:00:00\u001b[0m\n",
            "\u001b[2K     \u001b[90m━━━━━━━━━━━━━━━━━━━━━━━━━━━━━━━━━━━━━━━━\u001b[0m \u001b[32m75.4/75.4 kB\u001b[0m \u001b[31m9.0 MB/s\u001b[0m eta \u001b[36m0:00:00\u001b[0m\n",
            "\u001b[2K     \u001b[90m━━━━━━━━━━━━━━━━━━━━━━━━━━━━━━━━━━━━━━\u001b[0m \u001b[32m224.5/224.5 kB\u001b[0m \u001b[31m24.9 MB/s\u001b[0m eta \u001b[36m0:00:00\u001b[0m\n",
            "\u001b[2K     \u001b[90m━━━━━━━━━━━━━━━━━━━━━━━━━━━━━━━━━━━━━━━━\u001b[0m \u001b[32m50.5/50.5 kB\u001b[0m \u001b[31m6.3 MB/s\u001b[0m eta \u001b[36m0:00:00\u001b[0m\n",
            "\u001b[2K     \u001b[90m━━━━━━━━━━━━━━━━━━━━━━━━━━━━━━━━━━━━━━\u001b[0m \u001b[32m137.2/137.2 kB\u001b[0m \u001b[31m19.7 MB/s\u001b[0m eta \u001b[36m0:00:00\u001b[0m\n",
            "\u001b[2K     \u001b[90m━━━━━━━━━━━━━━━━━━━━━━━━━━━━━━━━━━━━━━━━\u001b[0m \u001b[32m45.7/45.7 kB\u001b[0m \u001b[31m6.8 MB/s\u001b[0m eta \u001b[36m0:00:00\u001b[0m\n",
            "\u001b[2K     \u001b[90m━━━━━━━━━━━━━━━━━━━━━━━━━━━━━━━━━━━━━━━━\u001b[0m \u001b[32m58.3/58.3 kB\u001b[0m \u001b[31m8.5 MB/s\u001b[0m eta \u001b[36m0:00:00\u001b[0m\n",
            "\u001b[2K     \u001b[90m━━━━━━━━━━━━━━━━━━━━━━━━━━━━━━━━━━━━━━\u001b[0m \u001b[32m129.9/129.9 kB\u001b[0m \u001b[31m19.9 MB/s\u001b[0m eta \u001b[36m0:00:00\u001b[0m\n",
            "\u001b[2K     \u001b[90m━━━━━━━━━━━━━━━━━━━━━━━━━━━━━━━━━━━━━━━━\u001b[0m \u001b[32m58.3/58.3 kB\u001b[0m \u001b[31m8.8 MB/s\u001b[0m eta \u001b[36m0:00:00\u001b[0m\n",
            "\u001b[2K     \u001b[90m━━━━━━━━━━━━━━━━━━━━━━━━━━━━━━━━━━━━━━\u001b[0m \u001b[32m114.5/114.5 kB\u001b[0m \u001b[31m15.2 MB/s\u001b[0m eta \u001b[36m0:00:00\u001b[0m\n",
            "\u001b[2K     \u001b[90m━━━━━━━━━━━━━━━━━━━━━━━━━━━━━━━━━━━━━━\u001b[0m \u001b[32m268.8/268.8 kB\u001b[0m \u001b[31m32.1 MB/s\u001b[0m eta \u001b[36m0:00:00\u001b[0m\n",
            "\u001b[2K     \u001b[90m━━━━━━━━━━━━━━━━━━━━━━━━━━━━━━━━━━━━━━\u001b[0m \u001b[32m149.6/149.6 kB\u001b[0m \u001b[31m16.5 MB/s\u001b[0m eta \u001b[36m0:00:00\u001b[0m\n",
            "\u001b[2K     \u001b[90m━━━━━━━━━━━━━━━━━━━━━━━━━━━━━━━━━━━━━━━━\u001b[0m \u001b[32m67.0/67.0 kB\u001b[0m \u001b[31m9.9 MB/s\u001b[0m eta \u001b[36m0:00:00\u001b[0m\n",
            "\u001b[2K     \u001b[90m━━━━━━━━━━━━━━━━━━━━━━━━━━━━━━━━━━━━━━━━\u001b[0m \u001b[32m72.5/72.5 kB\u001b[0m \u001b[31m11.0 MB/s\u001b[0m eta \u001b[36m0:00:00\u001b[0m\n",
            "\u001b[?25h  Building wheel for ffmpy (setup.py) ... \u001b[?25l\u001b[?25hdone\n"
          ]
        }
      ],
      "source": [
        "# Se utilizará gradio para ensayar el modelo\n",
        "# Herramienta poderosa para crear interfaces rápidas para ensayar modelos\n",
        "# https://gradio.app/\n",
        "import sys\n",
        "!{sys.executable} -m pip install gradio --quiet"
      ]
    },
    {
      "cell_type": "code",
      "execution_count": 48,
      "metadata": {
        "colab": {
          "base_uri": "https://localhost:8080/",
          "height": 877
        },
        "id": "HNyBykvhzs7-",
        "outputId": "5d82c1b8-0136-42d0-dfeb-37e1e0b87dba"
      },
      "outputs": [
        {
          "name": "stderr",
          "output_type": "stream",
          "text": [
            "<ipython-input-48-cf0b37433377>:24: UserWarning: `layout` parameter is deprecated, and it has no effect\n",
            "  iface = gr.Interface(\n"
          ]
        },
        {
          "name": "stdout",
          "output_type": "stream",
          "text": [
            "Colab notebook detected. This cell will run indefinitely so that you can see errors and logs. To turn off, set debug=False in launch().\n",
            "Note: opening Chrome Inspector may crash demo inside Colab notebooks.\n",
            "\n",
            "To create a public link, set `share=True` in `launch()`.\n"
          ]
        },
        {
          "data": {
            "application/javascript": "(async (port, path, width, height, cache, element) => {\n                        if (!google.colab.kernel.accessAllowed && !cache) {\n                            return;\n                        }\n                        element.appendChild(document.createTextNode(''));\n                        const url = await google.colab.kernel.proxyPort(port, {cache});\n\n                        const external_link = document.createElement('div');\n                        external_link.innerHTML = `\n                            <div style=\"font-family: monospace; margin-bottom: 0.5rem\">\n                                Running on <a href=${new URL(path, url).toString()} target=\"_blank\">\n                                    https://localhost:${port}${path}\n                                </a>\n                            </div>\n                        `;\n                        element.appendChild(external_link);\n\n                        const iframe = document.createElement('iframe');\n                        iframe.src = new URL(path, url).toString();\n                        iframe.height = height;\n                        iframe.allow = \"autoplay; camera; microphone; clipboard-read; clipboard-write;\"\n                        iframe.width = width;\n                        iframe.style.border = 0;\n                        element.appendChild(iframe);\n                    })(7860, \"/\", \"100%\", 500, false, window.element)",
            "text/plain": [
              "<IPython.core.display.Javascript object>"
            ]
          },
          "metadata": {},
          "output_type": "display_data"
        },
        {
          "name": "stdout",
          "output_type": "stream",
          "text": [
            "1/1 [==============================] - 6s 6s/step\n",
            "1/1 [==============================] - 0s 24ms/step\n",
            "1/1 [==============================] - 0s 20ms/step\n",
            "1/1 [==============================] - 0s 21ms/step\n",
            "1/1 [==============================] - 0s 21ms/step\n",
            "1/1 [==============================] - 0s 21ms/step\n",
            "1/1 [==============================] - 0s 30ms/step\n",
            "1/1 [==============================] - 0s 19ms/step\n",
            "1/1 [==============================] - 0s 22ms/step\n",
            "1/1 [==============================] - 0s 21ms/step\n",
            "1/1 [==============================] - 0s 20ms/step\n",
            "1/1 [==============================] - 0s 21ms/step\n",
            "Keyboard interruption in main thread... closing server.\n"
          ]
        },
        {
          "data": {
            "text/plain": []
          },
          "execution_count": 48,
          "metadata": {},
          "output_type": "execute_result"
        }
      ],
      "source": [
        "import gradio as gr\n",
        "\n",
        "def model_response(human_text):\n",
        "\n",
        "    # Encodeamos\n",
        "    encoded = tok_extendido.texts_to_sequences([human_text])[0]\n",
        "    # Si tienen distinto largo\n",
        "    encoded = pad_sequences([encoded], maxlen=3, padding='pre')\n",
        "    \n",
        "    # Predicción softmax\n",
        "    y_hat = model.predict(encoded).argmax(axis=-1)\n",
        "\n",
        "    # Debemos buscar en el vocabulario la palabra\n",
        "    # que corresopnde al indice (y_hat) predicho por le modelo\n",
        "    out_word = ''\n",
        "    for word, index in tok_extendido.word_index.items():\n",
        "        if index == y_hat:\n",
        "            out_word = word\n",
        "            break\n",
        "\n",
        "    # Agrego la palabra a la frase predicha\n",
        "    return human_text + ' ' + out_word\n",
        "\n",
        "iface = gr.Interface(\n",
        "    fn=model_response,\n",
        "    inputs=[\"textbox\"],\n",
        "    outputs=\"text\",\n",
        "    layout=\"vertical\")\n",
        "\n",
        "iface.launch(debug=True)"
      ]
    },
    {
      "attachments": {},
      "cell_type": "markdown",
      "metadata": {
        "id": "HHbn3EyBLmuD"
      },
      "source": [
        "Outputs (4ta palabra):\n",
        "- hogwarts es una sólo\n",
        "- harry potter es no\n",
        "- harry ron y si\n",
        "- es la profesora habían"
      ]
    },
    {
      "attachments": {},
      "cell_type": "markdown",
      "metadata": {
        "id": "mCeMWWupxN1-"
      },
      "source": [
        "### 6 - Generación de secuencias nuevas"
      ]
    },
    {
      "cell_type": "code",
      "execution_count": 49,
      "metadata": {
        "id": "bwbS_pfhxvB3"
      },
      "outputs": [],
      "source": [
        "def generate_seq(model, tokenizer, seed_text, max_length, n_words):\n",
        "    \"\"\"\n",
        "        Exec model sequence prediction\n",
        "\n",
        "        Args:\n",
        "            model (keras): modelo entrenado\n",
        "            tokenizer (keras tokenizer): tonenizer utilizado en el preprocesamiento\n",
        "            seed_text (string): texto de entrada (input_seq)\n",
        "            max_length (int): máxima longitud de la sequencia de entrada\n",
        "            n_words (int): números de palabras a agregar a la sequencia de entrada\n",
        "        returns:\n",
        "            output_text (string): sentencia con las \"n_words\" agregadas\n",
        "    \"\"\"\n",
        "    output_text = seed_text\n",
        "\t# generate a fixed number of words\n",
        "    for _ in range(n_words):\n",
        "\t\t# Encodeamos\n",
        "        encoded = tokenizer.texts_to_sequences([output_text])[0]\n",
        "\t\t# Si tienen distinto largo\n",
        "        encoded = pad_sequences([encoded], maxlen=max_length, padding='pre')\n",
        "\t\t\n",
        "\t\t# Predicción softmax\n",
        "        y_hat = model.predict(encoded).argmax(axis=-1)\n",
        "\t\t# Vamos concatenando las predicciones\n",
        "        out_word = ''\n",
        "\n",
        "        # Debemos buscar en el vocabulario la palabra\n",
        "        # que corresopnde al indice (y_hat) predicho por le modelo\n",
        "        for word, index in tokenizer.word_index.items():\n",
        "            if index == y_hat:\n",
        "                out_word = word\n",
        "                break\n",
        "\n",
        "\t\t# Agrego las palabras a la frase predicha\n",
        "        output_text += ' ' + out_word\n",
        "    return output_text"
      ]
    },
    {
      "cell_type": "code",
      "execution_count": 50,
      "metadata": {
        "colab": {
          "base_uri": "https://localhost:8080/",
          "height": 70
        },
        "id": "JoFqRC5pxzqS",
        "outputId": "a588d7fe-1acf-4fd9-80bd-d306b994f7c2"
      },
      "outputs": [
        {
          "name": "stdout",
          "output_type": "stream",
          "text": [
            "1/1 [==============================] - 0s 24ms/step\n",
            "1/1 [==============================] - 0s 20ms/step\n"
          ]
        },
        {
          "data": {
            "application/vnd.google.colaboratory.intrinsic+json": {
              "type": "string"
            },
            "text/plain": [
              "'harry es un sólo '"
            ]
          },
          "execution_count": 50,
          "metadata": {},
          "output_type": "execute_result"
        }
      ],
      "source": [
        "input_text='harry es un'\n",
        "\n",
        "generate_seq(model, tok_extendido, input_text, max_length=3, n_words=2)"
      ]
    },
    {
      "cell_type": "code",
      "execution_count": 51,
      "metadata": {
        "colab": {
          "base_uri": "https://localhost:8080/",
          "height": 70
        },
        "id": "HDWlSKWGMnNP",
        "outputId": "0590f4ff-6555-4a6c-9dcd-7a8f83222683"
      },
      "outputs": [
        {
          "name": "stdout",
          "output_type": "stream",
          "text": [
            "1/1 [==============================] - 0s 33ms/step\n",
            "1/1 [==============================] - 0s 31ms/step\n"
          ]
        },
        {
          "data": {
            "application/vnd.google.colaboratory.intrinsic+json": {
              "type": "string"
            },
            "text/plain": [
              "'hogwarts es una sólo voló'"
            ]
          },
          "execution_count": 51,
          "metadata": {},
          "output_type": "execute_result"
        }
      ],
      "source": [
        "input_text='hogwarts es una'\n",
        "\n",
        "generate_seq(model, tok_extendido, input_text, max_length=3, n_words=2)"
      ]
    },
    {
      "cell_type": "code",
      "execution_count": 52,
      "metadata": {
        "colab": {
          "base_uri": "https://localhost:8080/",
          "height": 70
        },
        "id": "k2txgk5DMr0U",
        "outputId": "14edace2-a1ff-4208-c2f6-a05361fa5f87"
      },
      "outputs": [
        {
          "name": "stdout",
          "output_type": "stream",
          "text": [
            "1/1 [==============================] - 0s 20ms/step\n",
            "1/1 [==============================] - 0s 24ms/step\n"
          ]
        },
        {
          "data": {
            "application/vnd.google.colaboratory.intrinsic+json": {
              "type": "string"
            },
            "text/plain": [
              "'la lechuza hedwig harry harry'"
            ]
          },
          "execution_count": 52,
          "metadata": {},
          "output_type": "execute_result"
        }
      ],
      "source": [
        "input_text='la lechuza hedwig'\n",
        "\n",
        "generate_seq(model, tok_extendido, input_text, max_length=3, n_words=2)"
      ]
    },
    {
      "attachments": {},
      "cell_type": "markdown",
      "metadata": {
        "id": "T2SHmXbgxQH9"
      },
      "source": [
        "### 7 - Conclusiones\n",
        "El modelo entrenado tuvo un muy mail desempeño en el entrenamiento además de overfitting, aún cuando se probaron distintas configuraciones de cantidad de vocabulario, redes recurrentes, y embeddings. Sin embargo en las métricas del último modelo se pudo apreciar una pequeña mejoría que indica que el modelo podría optimizarse aumentando ampliamente el dataset, quizás usando la saga entera de libros de Harry Potter."
      ]
    },
    {
      "cell_type": "code",
      "execution_count": null,
      "metadata": {
        "id": "eCo-Vm1MNQJ0"
      },
      "outputs": [],
      "source": []
    }
  ],
  "metadata": {
    "accelerator": "GPU",
    "colab": {
      "gpuType": "T4",
      "provenance": []
    },
    "gpuClass": "standard",
    "kernelspec": {
      "display_name": "Python 3",
      "name": "python3"
    },
    "language_info": {
      "codemirror_mode": {
        "name": "ipython",
        "version": 3
      },
      "file_extension": ".py",
      "mimetype": "text/x-python",
      "name": "python",
      "nbconvert_exporter": "python",
      "pygments_lexer": "ipython3",
      "version": "3.10.10"
    }
  },
  "nbformat": 4,
  "nbformat_minor": 0
}
