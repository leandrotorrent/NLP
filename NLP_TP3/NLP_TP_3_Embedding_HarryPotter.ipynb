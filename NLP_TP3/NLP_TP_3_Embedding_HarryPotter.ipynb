{
  "cells": [
    {
      "attachments": {},
      "cell_type": "markdown",
      "metadata": {
        "id": "sZd5yLnnHOK0"
      },
      "source": [
        "# Trabajo Práctico N°3: NLP\n",
        "## Embeddings con Gensim\n",
        "\n",
        "\n",
        "\n"
      ]
    },
    {
      "cell_type": "code",
      "execution_count": 3,
      "metadata": {
        "id": "lFToQs5FK5uZ"
      },
      "outputs": [],
      "source": [
        "import pandas as pd\n",
        "import matplotlib.pyplot as plt\n",
        "import seaborn as sns\n",
        "\n",
        "import multiprocessing\n",
        "from gensim.models import Word2Vec"
      ]
    },
    {
      "attachments": {},
      "cell_type": "markdown",
      "metadata": {
        "id": "g07zJxG7H9vG"
      },
      "source": [
        "### Datos\n",
        "El dataset será el libro Harry Potter y la Piedra Filosofal."
      ]
    },
    {
      "cell_type": "code",
      "execution_count": 4,
      "metadata": {
        "id": "lS60ox8D4GSq"
      },
      "outputs": [],
      "source": [
        "import re\n",
        "\n",
        "# Leer el archivo como un solo string\n",
        "with open('/content/Harry Potter 1.txt', 'r') as f:\n",
        "    texto = f.read()\n",
        "\n",
        "# Reemplazar \"\\n\\n\" por \".\" y \"\\n\" por \" \"\n",
        "texto = texto.replace('\\n\\n', '. ').replace('\\n', ' ')\n",
        "\n",
        "# Eliminar los guiones, signos de exclamación, interrogación\n",
        "texto = re.sub(r'[-—¡¿!?]', '', texto)\n",
        "\n",
        "# Si quieres escribir el texto modificado a un nuevo archivo:\n",
        "with open('/content/Harry Potter 1_modificado.txt', 'w') as f:\n",
        "    f.write(texto)\n",
        "\n",
        "\n"
      ]
    },
    {
      "cell_type": "code",
      "execution_count": 5,
      "metadata": {
        "colab": {
          "base_uri": "https://localhost:8080/"
        },
        "id": "8z5kkVg5zqWu",
        "outputId": "bbc921d5-e761-43a0-e0ac-884ebf3b9c5a"
      },
      "outputs": [
        {
          "name": "stderr",
          "output_type": "stream",
          "text": [
            "[nltk_data] Downloading package punkt to /root/nltk_data...\n",
            "[nltk_data]   Unzipping tokenizers/punkt.zip.\n"
          ]
        }
      ],
      "source": [
        "import pandas as pd\n",
        "import nltk\n",
        "\n",
        "# Descarga el tokenizador de NLTK si aún no lo has hecho\n",
        "nltk.download('punkt')\n",
        "\n",
        "# Cargar el tokenizador de oraciones español de NLTK\n",
        "spanish_tokenizer = nltk.data.load('tokenizers/punkt/spanish.pickle')\n",
        "\n",
        "sentences = []\n",
        "\n",
        "with open('/content/Harry Potter 1_modificado.txt', 'r') as f:\n",
        "    for line in f:\n",
        "        line_sentences = spanish_tokenizer.tokenize(line)\n",
        "        sentences.extend(line_sentences)\n",
        "\n",
        "# Convierte la lista de oraciones en un DataFrame\n",
        "df = pd.DataFrame(sentences, columns=['sentence'])\n"
      ]
    },
    {
      "cell_type": "code",
      "execution_count": 6,
      "metadata": {
        "colab": {
          "base_uri": "https://localhost:8080/"
        },
        "id": "79O85uytDFbx",
        "outputId": "4999cbc9-be4f-46f6-fab0-56037a9cad15"
      },
      "outputs": [
        {
          "name": "stderr",
          "output_type": "stream",
          "text": [
            "[nltk_data] Downloading package stopwords to /root/nltk_data...\n",
            "[nltk_data]   Unzipping corpora/stopwords.zip.\n",
            "[nltk_data] Downloading package punkt to /root/nltk_data...\n",
            "[nltk_data]   Package punkt is already up-to-date!\n"
          ]
        }
      ],
      "source": [
        "import pandas as pd\n",
        "import nltk\n",
        "from nltk.corpus import stopwords\n",
        "from nltk.tokenize import word_tokenize\n",
        "\n",
        "# Descarga el conjunto de stopwords de NLTK si aún no lo has hecho\n",
        "nltk.download('stopwords')\n",
        "\n",
        "# Descarga el tokenizador de NLTK si aún no lo has hecho\n",
        "nltk.download('punkt')\n",
        "\n",
        "# Cargar el tokenizador de oraciones español de NLTK\n",
        "spanish_tokenizer = nltk.data.load('tokenizers/punkt/spanish.pickle')\n",
        "\n",
        "# Carga las stopwords en español de NLTK\n",
        "stop_words = set(stopwords.words('spanish'))\n",
        "\n",
        "sentences = []\n",
        "sentences_no_stopwords = []\n",
        "\n",
        "with open('/content/Harry Potter 1_modificado.txt', 'r') as f:\n",
        "    for line in f:\n",
        "        line_sentences = spanish_tokenizer.tokenize(line)\n",
        "        sentences.extend(line_sentences)\n",
        "        \n",
        "        # Eliminar las stopwords de cada oración y agregarlas a sentences_no_stopwords\n",
        "        for sentence in line_sentences:\n",
        "            word_tokens = word_tokenize(sentence, language='spanish')\n",
        "            filtered_sentence = [w for w in word_tokens if not w in stop_words]\n",
        "            sentences_no_stopwords.append(' '.join(filtered_sentence))\n",
        "\n",
        "# Convierte la lista de oraciones en un DataFrame\n",
        "df = pd.DataFrame(sentences, columns=['sentence'])\n",
        "\n",
        "# Convierte la lista de oraciones sin stopwords en otro DataFrame\n",
        "df_no_stopwords = pd.DataFrame(sentences_no_stopwords, columns=['sentence'])\n"
      ]
    },
    {
      "cell_type": "code",
      "execution_count": 7,
      "metadata": {
        "colab": {
          "base_uri": "https://localhost:8080/",
          "height": 206
        },
        "id": "zQq-VcmR07QM",
        "outputId": "7cd23e18-8b1a-4fef-f015-e29acd8b5326"
      },
      "outputs": [
        {
          "data": {
            "text/html": [
              "\n",
              "  <div id=\"df-84fb3a18-3cde-4006-81da-16facb3a79e4\">\n",
              "    <div class=\"colab-df-container\">\n",
              "      <div>\n",
              "<style scoped>\n",
              "    .dataframe tbody tr th:only-of-type {\n",
              "        vertical-align: middle;\n",
              "    }\n",
              "\n",
              "    .dataframe tbody tr th {\n",
              "        vertical-align: top;\n",
              "    }\n",
              "\n",
              "    .dataframe thead th {\n",
              "        text-align: right;\n",
              "    }\n",
              "</style>\n",
              "<table border=\"1\" class=\"dataframe\">\n",
              "  <thead>\n",
              "    <tr style=\"text-align: right;\">\n",
              "      <th></th>\n",
              "      <th>sentence</th>\n",
              "    </tr>\n",
              "  </thead>\n",
              "  <tbody>\n",
              "    <tr>\n",
              "      <th>0</th>\n",
              "      <td>HARRY POTTER Y LA PIEDRA FILOSOFAL J.K.</td>\n",
              "    </tr>\n",
              "    <tr>\n",
              "      <th>1</th>\n",
              "      <td>ROWLING Harry Potter se ha quedado huérfano y ...</td>\n",
              "    </tr>\n",
              "    <tr>\n",
              "      <th>2</th>\n",
              "      <td>Harry se siente muy triste y solo, hasta que u...</td>\n",
              "    </tr>\n",
              "    <tr>\n",
              "      <th>3</th>\n",
              "      <td>En ella le comunican que ha sido aceptado como...</td>\n",
              "    </tr>\n",
              "    <tr>\n",
              "      <th>4</th>\n",
              "      <td>A partir de ese momento, la suerte de Harry da...</td>\n",
              "    </tr>\n",
              "  </tbody>\n",
              "</table>\n",
              "</div>\n",
              "      <button class=\"colab-df-convert\" onclick=\"convertToInteractive('df-84fb3a18-3cde-4006-81da-16facb3a79e4')\"\n",
              "              title=\"Convert this dataframe to an interactive table.\"\n",
              "              style=\"display:none;\">\n",
              "        \n",
              "  <svg xmlns=\"http://www.w3.org/2000/svg\" height=\"24px\"viewBox=\"0 0 24 24\"\n",
              "       width=\"24px\">\n",
              "    <path d=\"M0 0h24v24H0V0z\" fill=\"none\"/>\n",
              "    <path d=\"M18.56 5.44l.94 2.06.94-2.06 2.06-.94-2.06-.94-.94-2.06-.94 2.06-2.06.94zm-11 1L8.5 8.5l.94-2.06 2.06-.94-2.06-.94L8.5 2.5l-.94 2.06-2.06.94zm10 10l.94 2.06.94-2.06 2.06-.94-2.06-.94-.94-2.06-.94 2.06-2.06.94z\"/><path d=\"M17.41 7.96l-1.37-1.37c-.4-.4-.92-.59-1.43-.59-.52 0-1.04.2-1.43.59L10.3 9.45l-7.72 7.72c-.78.78-.78 2.05 0 2.83L4 21.41c.39.39.9.59 1.41.59.51 0 1.02-.2 1.41-.59l7.78-7.78 2.81-2.81c.8-.78.8-2.07 0-2.86zM5.41 20L4 18.59l7.72-7.72 1.47 1.35L5.41 20z\"/>\n",
              "  </svg>\n",
              "      </button>\n",
              "      \n",
              "  <style>\n",
              "    .colab-df-container {\n",
              "      display:flex;\n",
              "      flex-wrap:wrap;\n",
              "      gap: 12px;\n",
              "    }\n",
              "\n",
              "    .colab-df-convert {\n",
              "      background-color: #E8F0FE;\n",
              "      border: none;\n",
              "      border-radius: 50%;\n",
              "      cursor: pointer;\n",
              "      display: none;\n",
              "      fill: #1967D2;\n",
              "      height: 32px;\n",
              "      padding: 0 0 0 0;\n",
              "      width: 32px;\n",
              "    }\n",
              "\n",
              "    .colab-df-convert:hover {\n",
              "      background-color: #E2EBFA;\n",
              "      box-shadow: 0px 1px 2px rgba(60, 64, 67, 0.3), 0px 1px 3px 1px rgba(60, 64, 67, 0.15);\n",
              "      fill: #174EA6;\n",
              "    }\n",
              "\n",
              "    [theme=dark] .colab-df-convert {\n",
              "      background-color: #3B4455;\n",
              "      fill: #D2E3FC;\n",
              "    }\n",
              "\n",
              "    [theme=dark] .colab-df-convert:hover {\n",
              "      background-color: #434B5C;\n",
              "      box-shadow: 0px 1px 3px 1px rgba(0, 0, 0, 0.15);\n",
              "      filter: drop-shadow(0px 1px 2px rgba(0, 0, 0, 0.3));\n",
              "      fill: #FFFFFF;\n",
              "    }\n",
              "  </style>\n",
              "\n",
              "      <script>\n",
              "        const buttonEl =\n",
              "          document.querySelector('#df-84fb3a18-3cde-4006-81da-16facb3a79e4 button.colab-df-convert');\n",
              "        buttonEl.style.display =\n",
              "          google.colab.kernel.accessAllowed ? 'block' : 'none';\n",
              "\n",
              "        async function convertToInteractive(key) {\n",
              "          const element = document.querySelector('#df-84fb3a18-3cde-4006-81da-16facb3a79e4');\n",
              "          const dataTable =\n",
              "            await google.colab.kernel.invokeFunction('convertToInteractive',\n",
              "                                                     [key], {});\n",
              "          if (!dataTable) return;\n",
              "\n",
              "          const docLinkHtml = 'Like what you see? Visit the ' +\n",
              "            '<a target=\"_blank\" href=https://colab.research.google.com/notebooks/data_table.ipynb>data table notebook</a>'\n",
              "            + ' to learn more about interactive tables.';\n",
              "          element.innerHTML = '';\n",
              "          dataTable['output_type'] = 'display_data';\n",
              "          await google.colab.output.renderOutput(dataTable, element);\n",
              "          const docLink = document.createElement('div');\n",
              "          docLink.innerHTML = docLinkHtml;\n",
              "          element.appendChild(docLink);\n",
              "        }\n",
              "      </script>\n",
              "    </div>\n",
              "  </div>\n",
              "  "
            ],
            "text/plain": [
              "                                            sentence\n",
              "0            HARRY POTTER Y LA PIEDRA FILOSOFAL J.K.\n",
              "1  ROWLING Harry Potter se ha quedado huérfano y ...\n",
              "2  Harry se siente muy triste y solo, hasta que u...\n",
              "3  En ella le comunican que ha sido aceptado como...\n",
              "4  A partir de ese momento, la suerte de Harry da..."
            ]
          },
          "execution_count": 7,
          "metadata": {},
          "output_type": "execute_result"
        }
      ],
      "source": [
        "df.head()"
      ]
    },
    {
      "cell_type": "code",
      "execution_count": 8,
      "metadata": {
        "colab": {
          "base_uri": "https://localhost:8080/",
          "height": 206
        },
        "id": "6nQwRX5yDIMP",
        "outputId": "d38f2e94-126c-440b-d920-9b4cdab96464"
      },
      "outputs": [
        {
          "data": {
            "text/html": [
              "\n",
              "  <div id=\"df-9c77721b-fb90-494a-90c4-d507ae54e55f\">\n",
              "    <div class=\"colab-df-container\">\n",
              "      <div>\n",
              "<style scoped>\n",
              "    .dataframe tbody tr th:only-of-type {\n",
              "        vertical-align: middle;\n",
              "    }\n",
              "\n",
              "    .dataframe tbody tr th {\n",
              "        vertical-align: top;\n",
              "    }\n",
              "\n",
              "    .dataframe thead th {\n",
              "        text-align: right;\n",
              "    }\n",
              "</style>\n",
              "<table border=\"1\" class=\"dataframe\">\n",
              "  <thead>\n",
              "    <tr style=\"text-align: right;\">\n",
              "      <th></th>\n",
              "      <th>sentence</th>\n",
              "    </tr>\n",
              "  </thead>\n",
              "  <tbody>\n",
              "    <tr>\n",
              "      <th>0</th>\n",
              "      <td>HARRY POTTER Y LA PIEDRA FILOSOFAL J.K.</td>\n",
              "    </tr>\n",
              "    <tr>\n",
              "      <th>1</th>\n",
              "      <td>ROWLING Harry Potter se ha quedado huérfano y ...</td>\n",
              "    </tr>\n",
              "    <tr>\n",
              "      <th>2</th>\n",
              "      <td>Harry se siente muy triste y solo, hasta que u...</td>\n",
              "    </tr>\n",
              "    <tr>\n",
              "      <th>3</th>\n",
              "      <td>En ella le comunican que ha sido aceptado como...</td>\n",
              "    </tr>\n",
              "    <tr>\n",
              "      <th>4</th>\n",
              "      <td>A partir de ese momento, la suerte de Harry da...</td>\n",
              "    </tr>\n",
              "  </tbody>\n",
              "</table>\n",
              "</div>\n",
              "      <button class=\"colab-df-convert\" onclick=\"convertToInteractive('df-9c77721b-fb90-494a-90c4-d507ae54e55f')\"\n",
              "              title=\"Convert this dataframe to an interactive table.\"\n",
              "              style=\"display:none;\">\n",
              "        \n",
              "  <svg xmlns=\"http://www.w3.org/2000/svg\" height=\"24px\"viewBox=\"0 0 24 24\"\n",
              "       width=\"24px\">\n",
              "    <path d=\"M0 0h24v24H0V0z\" fill=\"none\"/>\n",
              "    <path d=\"M18.56 5.44l.94 2.06.94-2.06 2.06-.94-2.06-.94-.94-2.06-.94 2.06-2.06.94zm-11 1L8.5 8.5l.94-2.06 2.06-.94-2.06-.94L8.5 2.5l-.94 2.06-2.06.94zm10 10l.94 2.06.94-2.06 2.06-.94-2.06-.94-.94-2.06-.94 2.06-2.06.94z\"/><path d=\"M17.41 7.96l-1.37-1.37c-.4-.4-.92-.59-1.43-.59-.52 0-1.04.2-1.43.59L10.3 9.45l-7.72 7.72c-.78.78-.78 2.05 0 2.83L4 21.41c.39.39.9.59 1.41.59.51 0 1.02-.2 1.41-.59l7.78-7.78 2.81-2.81c.8-.78.8-2.07 0-2.86zM5.41 20L4 18.59l7.72-7.72 1.47 1.35L5.41 20z\"/>\n",
              "  </svg>\n",
              "      </button>\n",
              "      \n",
              "  <style>\n",
              "    .colab-df-container {\n",
              "      display:flex;\n",
              "      flex-wrap:wrap;\n",
              "      gap: 12px;\n",
              "    }\n",
              "\n",
              "    .colab-df-convert {\n",
              "      background-color: #E8F0FE;\n",
              "      border: none;\n",
              "      border-radius: 50%;\n",
              "      cursor: pointer;\n",
              "      display: none;\n",
              "      fill: #1967D2;\n",
              "      height: 32px;\n",
              "      padding: 0 0 0 0;\n",
              "      width: 32px;\n",
              "    }\n",
              "\n",
              "    .colab-df-convert:hover {\n",
              "      background-color: #E2EBFA;\n",
              "      box-shadow: 0px 1px 2px rgba(60, 64, 67, 0.3), 0px 1px 3px 1px rgba(60, 64, 67, 0.15);\n",
              "      fill: #174EA6;\n",
              "    }\n",
              "\n",
              "    [theme=dark] .colab-df-convert {\n",
              "      background-color: #3B4455;\n",
              "      fill: #D2E3FC;\n",
              "    }\n",
              "\n",
              "    [theme=dark] .colab-df-convert:hover {\n",
              "      background-color: #434B5C;\n",
              "      box-shadow: 0px 1px 3px 1px rgba(0, 0, 0, 0.15);\n",
              "      filter: drop-shadow(0px 1px 2px rgba(0, 0, 0, 0.3));\n",
              "      fill: #FFFFFF;\n",
              "    }\n",
              "  </style>\n",
              "\n",
              "      <script>\n",
              "        const buttonEl =\n",
              "          document.querySelector('#df-9c77721b-fb90-494a-90c4-d507ae54e55f button.colab-df-convert');\n",
              "        buttonEl.style.display =\n",
              "          google.colab.kernel.accessAllowed ? 'block' : 'none';\n",
              "\n",
              "        async function convertToInteractive(key) {\n",
              "          const element = document.querySelector('#df-9c77721b-fb90-494a-90c4-d507ae54e55f');\n",
              "          const dataTable =\n",
              "            await google.colab.kernel.invokeFunction('convertToInteractive',\n",
              "                                                     [key], {});\n",
              "          if (!dataTable) return;\n",
              "\n",
              "          const docLinkHtml = 'Like what you see? Visit the ' +\n",
              "            '<a target=\"_blank\" href=https://colab.research.google.com/notebooks/data_table.ipynb>data table notebook</a>'\n",
              "            + ' to learn more about interactive tables.';\n",
              "          element.innerHTML = '';\n",
              "          dataTable['output_type'] = 'display_data';\n",
              "          await google.colab.output.renderOutput(dataTable, element);\n",
              "          const docLink = document.createElement('div');\n",
              "          docLink.innerHTML = docLinkHtml;\n",
              "          element.appendChild(docLink);\n",
              "        }\n",
              "      </script>\n",
              "    </div>\n",
              "  </div>\n",
              "  "
            ],
            "text/plain": [
              "                                            sentence\n",
              "0            HARRY POTTER Y LA PIEDRA FILOSOFAL J.K.\n",
              "1  ROWLING Harry Potter se ha quedado huérfano y ...\n",
              "2  Harry se siente muy triste y solo, hasta que u...\n",
              "3  En ella le comunican que ha sido aceptado como...\n",
              "4  A partir de ese momento, la suerte de Harry da..."
            ]
          },
          "execution_count": 8,
          "metadata": {},
          "output_type": "execute_result"
        }
      ],
      "source": [
        "df.head()"
      ]
    },
    {
      "cell_type": "code",
      "execution_count": 9,
      "metadata": {
        "colab": {
          "base_uri": "https://localhost:8080/",
          "height": 206
        },
        "id": "o9nMwkfBDNCM",
        "outputId": "01df7397-47b0-4b71-a506-c0f960982d51"
      },
      "outputs": [
        {
          "data": {
            "text/html": [
              "\n",
              "  <div id=\"df-d84c03e7-d84b-4896-b108-6a11db5a5bb7\">\n",
              "    <div class=\"colab-df-container\">\n",
              "      <div>\n",
              "<style scoped>\n",
              "    .dataframe tbody tr th:only-of-type {\n",
              "        vertical-align: middle;\n",
              "    }\n",
              "\n",
              "    .dataframe tbody tr th {\n",
              "        vertical-align: top;\n",
              "    }\n",
              "\n",
              "    .dataframe thead th {\n",
              "        text-align: right;\n",
              "    }\n",
              "</style>\n",
              "<table border=\"1\" class=\"dataframe\">\n",
              "  <thead>\n",
              "    <tr style=\"text-align: right;\">\n",
              "      <th></th>\n",
              "      <th>sentence</th>\n",
              "    </tr>\n",
              "  </thead>\n",
              "  <tbody>\n",
              "    <tr>\n",
              "      <th>0</th>\n",
              "      <td>HARRY POTTER Y LA PIEDRA FILOSOFAL J.K .</td>\n",
              "    </tr>\n",
              "    <tr>\n",
              "      <th>1</th>\n",
              "      <td>ROWLING Harry Potter quedado huérfano vive cas...</td>\n",
              "    </tr>\n",
              "    <tr>\n",
              "      <th>2</th>\n",
              "      <td>Harry triste solo , buen día recibe carta camb...</td>\n",
              "    </tr>\n",
              "    <tr>\n",
              "      <th>3</th>\n",
              "      <td>En comunican sido aceptado alumno colegio inte...</td>\n",
              "    </tr>\n",
              "    <tr>\n",
              "      <th>4</th>\n",
              "      <td>A partir momento , suerte Harry da vuelco espe...</td>\n",
              "    </tr>\n",
              "  </tbody>\n",
              "</table>\n",
              "</div>\n",
              "      <button class=\"colab-df-convert\" onclick=\"convertToInteractive('df-d84c03e7-d84b-4896-b108-6a11db5a5bb7')\"\n",
              "              title=\"Convert this dataframe to an interactive table.\"\n",
              "              style=\"display:none;\">\n",
              "        \n",
              "  <svg xmlns=\"http://www.w3.org/2000/svg\" height=\"24px\"viewBox=\"0 0 24 24\"\n",
              "       width=\"24px\">\n",
              "    <path d=\"M0 0h24v24H0V0z\" fill=\"none\"/>\n",
              "    <path d=\"M18.56 5.44l.94 2.06.94-2.06 2.06-.94-2.06-.94-.94-2.06-.94 2.06-2.06.94zm-11 1L8.5 8.5l.94-2.06 2.06-.94-2.06-.94L8.5 2.5l-.94 2.06-2.06.94zm10 10l.94 2.06.94-2.06 2.06-.94-2.06-.94-.94-2.06-.94 2.06-2.06.94z\"/><path d=\"M17.41 7.96l-1.37-1.37c-.4-.4-.92-.59-1.43-.59-.52 0-1.04.2-1.43.59L10.3 9.45l-7.72 7.72c-.78.78-.78 2.05 0 2.83L4 21.41c.39.39.9.59 1.41.59.51 0 1.02-.2 1.41-.59l7.78-7.78 2.81-2.81c.8-.78.8-2.07 0-2.86zM5.41 20L4 18.59l7.72-7.72 1.47 1.35L5.41 20z\"/>\n",
              "  </svg>\n",
              "      </button>\n",
              "      \n",
              "  <style>\n",
              "    .colab-df-container {\n",
              "      display:flex;\n",
              "      flex-wrap:wrap;\n",
              "      gap: 12px;\n",
              "    }\n",
              "\n",
              "    .colab-df-convert {\n",
              "      background-color: #E8F0FE;\n",
              "      border: none;\n",
              "      border-radius: 50%;\n",
              "      cursor: pointer;\n",
              "      display: none;\n",
              "      fill: #1967D2;\n",
              "      height: 32px;\n",
              "      padding: 0 0 0 0;\n",
              "      width: 32px;\n",
              "    }\n",
              "\n",
              "    .colab-df-convert:hover {\n",
              "      background-color: #E2EBFA;\n",
              "      box-shadow: 0px 1px 2px rgba(60, 64, 67, 0.3), 0px 1px 3px 1px rgba(60, 64, 67, 0.15);\n",
              "      fill: #174EA6;\n",
              "    }\n",
              "\n",
              "    [theme=dark] .colab-df-convert {\n",
              "      background-color: #3B4455;\n",
              "      fill: #D2E3FC;\n",
              "    }\n",
              "\n",
              "    [theme=dark] .colab-df-convert:hover {\n",
              "      background-color: #434B5C;\n",
              "      box-shadow: 0px 1px 3px 1px rgba(0, 0, 0, 0.15);\n",
              "      filter: drop-shadow(0px 1px 2px rgba(0, 0, 0, 0.3));\n",
              "      fill: #FFFFFF;\n",
              "    }\n",
              "  </style>\n",
              "\n",
              "      <script>\n",
              "        const buttonEl =\n",
              "          document.querySelector('#df-d84c03e7-d84b-4896-b108-6a11db5a5bb7 button.colab-df-convert');\n",
              "        buttonEl.style.display =\n",
              "          google.colab.kernel.accessAllowed ? 'block' : 'none';\n",
              "\n",
              "        async function convertToInteractive(key) {\n",
              "          const element = document.querySelector('#df-d84c03e7-d84b-4896-b108-6a11db5a5bb7');\n",
              "          const dataTable =\n",
              "            await google.colab.kernel.invokeFunction('convertToInteractive',\n",
              "                                                     [key], {});\n",
              "          if (!dataTable) return;\n",
              "\n",
              "          const docLinkHtml = 'Like what you see? Visit the ' +\n",
              "            '<a target=\"_blank\" href=https://colab.research.google.com/notebooks/data_table.ipynb>data table notebook</a>'\n",
              "            + ' to learn more about interactive tables.';\n",
              "          element.innerHTML = '';\n",
              "          dataTable['output_type'] = 'display_data';\n",
              "          await google.colab.output.renderOutput(dataTable, element);\n",
              "          const docLink = document.createElement('div');\n",
              "          docLink.innerHTML = docLinkHtml;\n",
              "          element.appendChild(docLink);\n",
              "        }\n",
              "      </script>\n",
              "    </div>\n",
              "  </div>\n",
              "  "
            ],
            "text/plain": [
              "                                            sentence\n",
              "0           HARRY POTTER Y LA PIEDRA FILOSOFAL J.K .\n",
              "1  ROWLING Harry Potter quedado huérfano vive cas...\n",
              "2  Harry triste solo , buen día recibe carta camb...\n",
              "3  En comunican sido aceptado alumno colegio inte...\n",
              "4  A partir momento , suerte Harry da vuelco espe..."
            ]
          },
          "execution_count": 9,
          "metadata": {},
          "output_type": "execute_result"
        }
      ],
      "source": [
        "df_no_stopwords.head()"
      ]
    },
    {
      "cell_type": "code",
      "execution_count": 10,
      "metadata": {
        "colab": {
          "base_uri": "https://localhost:8080/"
        },
        "id": "0VJTXrUH5Kgw",
        "outputId": "aa69c50e-e255-4268-b5aa-4dde1692a745"
      },
      "outputs": [
        {
          "name": "stdout",
          "output_type": "stream",
          "text": [
            "Cantidad de documentos: 5859\n",
            "Cantidad de documentos en el df sin stopwords: 5859\n"
          ]
        }
      ],
      "source": [
        "print(\"Cantidad de documentos:\", df.shape[0])\n",
        "print(\"Cantidad de documentos en el df sin stopwords:\", df_no_stopwords.shape[0])"
      ]
    },
    {
      "attachments": {},
      "cell_type": "markdown",
      "metadata": {
        "id": "ab94qaFlrA1G"
      },
      "source": [
        "### 1 - Preprocesamiento"
      ]
    },
    {
      "cell_type": "code",
      "execution_count": 11,
      "metadata": {
        "id": "rIsmMWmjrDHd"
      },
      "outputs": [],
      "source": [
        "from keras.preprocessing.text import text_to_word_sequence\n",
        "\n",
        "sentence_tokens = []\n",
        "sentence_tokens_no_stopwords = []\n",
        "# Recorrer todas las filas y transformar las oraciones\n",
        "# en una secuencia de palabras (esto podría realizarse con NLTK o spaCy también)\n",
        "for _, row in df[:None].iterrows():\n",
        "    sentence_tokens.append(text_to_word_sequence(row[0]))\n",
        "\n",
        "for _, row in df_no_stopwords[:None].iterrows():\n",
        "    sentence_tokens_no_stopwords.append(text_to_word_sequence(row[0]))"
      ]
    },
    {
      "cell_type": "code",
      "execution_count": 12,
      "metadata": {
        "colab": {
          "base_uri": "https://localhost:8080/"
        },
        "id": "CHepi_DGrbhq",
        "outputId": "9a6b7435-5b53-4a4b-cc76-d73f5f4a6828"
      },
      "outputs": [
        {
          "data": {
            "text/plain": [
              "[['harry',\n",
              "  'se',\n",
              "  'siente',\n",
              "  'muy',\n",
              "  'triste',\n",
              "  'y',\n",
              "  'solo',\n",
              "  'hasta',\n",
              "  'que',\n",
              "  'un',\n",
              "  'buen',\n",
              "  'día',\n",
              "  'recibe',\n",
              "  'una',\n",
              "  'carta',\n",
              "  'que',\n",
              "  'cambiará',\n",
              "  'su',\n",
              "  'vida',\n",
              "  'para',\n",
              "  'siempre'],\n",
              " ['en',\n",
              "  'ella',\n",
              "  'le',\n",
              "  'comunican',\n",
              "  'que',\n",
              "  'ha',\n",
              "  'sido',\n",
              "  'aceptado',\n",
              "  'como',\n",
              "  'alumno',\n",
              "  'en',\n",
              "  'el',\n",
              "  'colegio',\n",
              "  'interno',\n",
              "  'hogwarts',\n",
              "  'de',\n",
              "  'magia',\n",
              "  'y',\n",
              "  'hechicería']]"
            ]
          },
          "execution_count": 12,
          "metadata": {},
          "output_type": "execute_result"
        }
      ],
      "source": [
        "# Demos un vistazo\n",
        "sentence_tokens[2:4]"
      ]
    },
    {
      "cell_type": "code",
      "execution_count": 13,
      "metadata": {
        "colab": {
          "base_uri": "https://localhost:8080/"
        },
        "id": "F7Ev0JHtD35-",
        "outputId": "8989c804-5eba-465b-8523-34c87c19eb86"
      },
      "outputs": [
        {
          "data": {
            "text/plain": [
              "[['harry',\n",
              "  'triste',\n",
              "  'solo',\n",
              "  'buen',\n",
              "  'día',\n",
              "  'recibe',\n",
              "  'carta',\n",
              "  'cambiará',\n",
              "  'vida',\n",
              "  'siempre'],\n",
              " ['en',\n",
              "  'comunican',\n",
              "  'sido',\n",
              "  'aceptado',\n",
              "  'alumno',\n",
              "  'colegio',\n",
              "  'interno',\n",
              "  'hogwarts',\n",
              "  'magia',\n",
              "  'hechicería']]"
            ]
          },
          "execution_count": 13,
          "metadata": {},
          "output_type": "execute_result"
        }
      ],
      "source": [
        "sentence_tokens_no_stopwords[2:4]"
      ]
    },
    {
      "attachments": {},
      "cell_type": "markdown",
      "metadata": {
        "id": "BaXV6nlHr5Aa"
      },
      "source": [
        "### 2 - Crear los vectores (word2vec)"
      ]
    },
    {
      "cell_type": "code",
      "execution_count": 14,
      "metadata": {
        "id": "OSb0v7h8r7hK"
      },
      "outputs": [],
      "source": [
        "from gensim.models.callbacks import CallbackAny2Vec\n",
        "# Durante el entrenamiento gensim por defecto no informa el \"loss\" en cada época\n",
        "# Sobrecargamos el callback para poder tener esta información\n",
        "class callback(CallbackAny2Vec):\n",
        "    \"\"\"\n",
        "    Callback to print loss after each epoch\n",
        "    \"\"\"\n",
        "    def __init__(self):\n",
        "        self.epoch = 0\n",
        "\n",
        "    def on_epoch_end(self, model):\n",
        "        loss = model.get_latest_training_loss()\n",
        "        if self.epoch == 0:\n",
        "            print('Loss after epoch {}: {}'.format(self.epoch, loss))\n",
        "        else:\n",
        "            print('Loss after epoch {}: {}'.format(self.epoch, loss- self.loss_previous_step))\n",
        "        self.epoch += 1\n",
        "        self.loss_previous_step = loss"
      ]
    },
    {
      "cell_type": "code",
      "execution_count": 15,
      "metadata": {
        "id": "i0wnDdv9sJ47"
      },
      "outputs": [],
      "source": [
        "# Crearmos el modelo generador de vectores\n",
        "# En este caso utilizaremos la estructura modelo Skipgram\n",
        "w2v_model = Word2Vec(min_count=10,    # frecuencia mínima de palabra para incluirla en el vocabulario\n",
        "                     window=2,       # cant de palabras antes y desp de la predicha\n",
        "                     vector_size=50,       # dimensionalidad de los vectores \n",
        "                     negative=10,    # cantidad de negative samples... 0 es no se usa\n",
        "                     workers=1,      # si tienen más cores pueden cambiar este valor\n",
        "                     sg=1)           # modelo 0:CBOW  1:skipgram\n",
        "\n",
        "w2v_model_no_stopwords = Word2Vec(min_count=10,    # frecuencia mínima de palabra para incluirla en el vocabulario\n",
        "                     window=2,       # cant de palabras antes y desp de la predicha\n",
        "                     vector_size=50,       # dimensionalidad de los vectores \n",
        "                     negative=10,    # cantidad de negative samples... 0 es no se usa\n",
        "                     workers=1,      # si tienen más cores pueden cambiar este valor\n",
        "                     sg=1)           # modelo 0:CBOW  1:skipgram\n",
        "\n",
        "w2v_model_cbow = Word2Vec(min_count=10,    # frecuencia mínima de palabra para incluirla en el vocabulario\n",
        "                     window=2,       # cant de palabras antes y desp de la predicha\n",
        "                     vector_size=50,       # dimensionalidad de los vectores \n",
        "                     negative=10,    # cantidad de negative samples... 0 es no se usa\n",
        "                     workers=1,      # si tienen más cores pueden cambiar este valor\n",
        "                     sg=1)           # modelo 0:CBOW  1:skipgram\n",
        "\n",
        "w2v_model_no_stopwords_cbow = Word2Vec(min_count=10,    # frecuencia mínima de palabra para incluirla en el vocabulario\n",
        "                     window=2,       # cant de palabras antes y desp de la predicha\n",
        "                     vector_size=50,       # dimensionalidad de los vectores \n",
        "                     negative=10,    # cantidad de negative samples... 0 es no se usa\n",
        "                     workers=1,      # si tienen más cores pueden cambiar este valor\n",
        "                     sg=1)           # modelo 0:CBOW  1:skipgram\n",
        "\n"
      ]
    },
    {
      "cell_type": "code",
      "execution_count": 16,
      "metadata": {
        "id": "5lTt8wErsf17"
      },
      "outputs": [],
      "source": [
        "# Obtener el vocabulario con los tokens\n",
        "w2v_model.build_vocab(sentence_tokens)\n",
        "w2v_model_no_stopwords.build_vocab(sentence_tokens_no_stopwords)\n",
        "w2v_model_cbow.build_vocab(sentence_tokens)\n",
        "w2v_model_no_stopwords_cbow.build_vocab(sentence_tokens_no_stopwords)"
      ]
    },
    {
      "cell_type": "code",
      "execution_count": 17,
      "metadata": {
        "colab": {
          "base_uri": "https://localhost:8080/"
        },
        "id": "TNc9qt4os5AT",
        "outputId": "65e71032-5fb3-4f2d-da5a-45279156065e"
      },
      "outputs": [
        {
          "name": "stdout",
          "output_type": "stream",
          "text": [
            "Cantidad de docs en el corpus: 5859\n",
            "Cantidad de docs en el corpus: 5859\n"
          ]
        }
      ],
      "source": [
        "# Cantidad de filas/docs encontradas en el corpus\n",
        "print(\"Cantidad de docs en el corpus:\", w2v_model.corpus_count)\n",
        "print(\"Cantidad de docs en el corpus:\", w2v_model_no_stopwords.corpus_count)"
      ]
    },
    {
      "attachments": {},
      "cell_type": "markdown",
      "metadata": {
        "id": "fC9mZ8DPk-UC"
      },
      "source": [
        "### 3 - Entrenar el modelo generador"
      ]
    },
    {
      "cell_type": "code",
      "execution_count": 18,
      "metadata": {
        "colab": {
          "base_uri": "https://localhost:8080/"
        },
        "id": "QSp-x0PAsq56",
        "outputId": "a15235a3-20e0-49ae-977c-5b02f1e32db8"
      },
      "outputs": [
        {
          "name": "stdout",
          "output_type": "stream",
          "text": [
            "Loss after epoch 0: 408420.375\n",
            "Loss after epoch 1: 322676.6875\n",
            "Loss after epoch 2: 320022.1875\n",
            "Loss after epoch 3: 320710.125\n",
            "Loss after epoch 4: 315064.0\n",
            "Loss after epoch 5: 304166.875\n",
            "Loss after epoch 6: 273852.75\n",
            "Loss after epoch 7: 258974.0\n",
            "Loss after epoch 8: 256973.5\n",
            "Loss after epoch 9: 254017.25\n",
            "Loss after epoch 10: 252760.5\n",
            "Loss after epoch 11: 249214.75\n",
            "Loss after epoch 12: 249321.5\n",
            "Loss after epoch 13: 246110.5\n",
            "Loss after epoch 14: 236716.5\n",
            "Loss after epoch 15: 215066.0\n",
            "Loss after epoch 16: 214972.5\n",
            "Loss after epoch 17: 215640.5\n",
            "Loss after epoch 18: 214767.0\n",
            "Loss after epoch 19: 214058.0\n",
            "Loss after epoch 20: 214190.0\n",
            "Loss after epoch 21: 213115.5\n",
            "Loss after epoch 22: 212362.5\n",
            "Loss after epoch 23: 212757.5\n",
            "Loss after epoch 24: 212424.5\n",
            "Loss after epoch 25: 211708.0\n",
            "Loss after epoch 26: 212327.5\n",
            "Loss after epoch 27: 211880.0\n",
            "Loss after epoch 28: 210178.5\n",
            "Loss after epoch 29: 210935.5\n",
            "Loss after epoch 30: 210508.5\n",
            "Loss after epoch 31: 211275.5\n",
            "Loss after epoch 32: 209111.0\n",
            "Loss after epoch 33: 210421.0\n",
            "Loss after epoch 34: 197796.0\n",
            "Loss after epoch 35: 191403.0\n",
            "Loss after epoch 36: 190412.0\n",
            "Loss after epoch 37: 190877.0\n",
            "Loss after epoch 38: 189434.0\n",
            "Loss after epoch 39: 189169.0\n",
            "Loss after epoch 40: 188743.0\n",
            "Loss after epoch 41: 189105.0\n",
            "Loss after epoch 42: 188981.0\n",
            "Loss after epoch 43: 188635.0\n",
            "Loss after epoch 44: 189191.0\n",
            "Loss after epoch 45: 188583.0\n",
            "Loss after epoch 46: 188652.0\n",
            "Loss after epoch 47: 186458.0\n",
            "Loss after epoch 48: 186820.0\n",
            "Loss after epoch 49: 187529.0\n"
          ]
        },
        {
          "data": {
            "text/plain": [
              "(1982726, 3914200)"
            ]
          },
          "execution_count": 18,
          "metadata": {},
          "output_type": "execute_result"
        }
      ],
      "source": [
        "# Entrenamos el modelo generador de vectores\n",
        "# Utilizamos nuestro callback\n",
        "w2v_model.train(sentence_tokens,\n",
        "                 total_examples=w2v_model.corpus_count,\n",
        "                 epochs=50,\n",
        "                 compute_loss = True,\n",
        "                 callbacks=[callback()]\n",
        "                 )"
      ]
    },
    {
      "cell_type": "code",
      "execution_count": 19,
      "metadata": {
        "colab": {
          "base_uri": "https://localhost:8080/"
        },
        "id": "Sf5UIxHyEfPD",
        "outputId": "3b64e686-9398-462d-b56b-f0e8676928be"
      },
      "outputs": [
        {
          "name": "stdout",
          "output_type": "stream",
          "text": [
            "Loss after epoch 0: 304351.71875\n",
            "Loss after epoch 1: 182541.90625\n",
            "Loss after epoch 2: 181990.5625\n",
            "Loss after epoch 3: 181610.4375\n",
            "Loss after epoch 4: 180409.9375\n",
            "Loss after epoch 5: 185072.8125\n",
            "Loss after epoch 6: 183631.5\n",
            "Loss after epoch 7: 179515.5\n",
            "Loss after epoch 8: 173701.25\n",
            "Loss after epoch 9: 169761.5\n",
            "Loss after epoch 10: 164519.5\n",
            "Loss after epoch 11: 143274.875\n",
            "Loss after epoch 12: 140518.0\n",
            "Loss after epoch 13: 137989.5\n",
            "Loss after epoch 14: 136767.0\n",
            "Loss after epoch 15: 134819.0\n",
            "Loss after epoch 16: 132087.75\n",
            "Loss after epoch 17: 131313.75\n",
            "Loss after epoch 18: 129513.25\n",
            "Loss after epoch 19: 128272.5\n",
            "Loss after epoch 20: 127365.5\n",
            "Loss after epoch 21: 126242.25\n",
            "Loss after epoch 22: 125119.0\n",
            "Loss after epoch 23: 124776.75\n",
            "Loss after epoch 24: 124367.0\n",
            "Loss after epoch 25: 123938.75\n",
            "Loss after epoch 26: 122688.0\n",
            "Loss after epoch 27: 112886.5\n",
            "Loss after epoch 28: 109617.0\n",
            "Loss after epoch 29: 109929.5\n",
            "Loss after epoch 30: 108887.0\n",
            "Loss after epoch 31: 108667.0\n",
            "Loss after epoch 32: 109397.5\n",
            "Loss after epoch 33: 107631.5\n",
            "Loss after epoch 34: 108151.5\n",
            "Loss after epoch 35: 108276.5\n",
            "Loss after epoch 36: 107244.5\n",
            "Loss after epoch 37: 107389.0\n",
            "Loss after epoch 38: 106674.0\n",
            "Loss after epoch 39: 107155.0\n",
            "Loss after epoch 40: 106412.0\n",
            "Loss after epoch 41: 106149.5\n",
            "Loss after epoch 42: 106283.0\n",
            "Loss after epoch 43: 106376.0\n",
            "Loss after epoch 44: 105775.5\n",
            "Loss after epoch 45: 106151.5\n",
            "Loss after epoch 46: 104948.0\n",
            "Loss after epoch 47: 105480.0\n",
            "Loss after epoch 48: 105764.0\n",
            "Loss after epoch 49: 105505.0\n"
          ]
        },
        {
          "data": {
            "text/plain": [
              "(1267241, 2270750)"
            ]
          },
          "execution_count": 19,
          "metadata": {},
          "output_type": "execute_result"
        }
      ],
      "source": [
        "w2v_model_no_stopwords.train(sentence_tokens_no_stopwords,\n",
        "                 total_examples=w2v_model_no_stopwords.corpus_count,\n",
        "                 epochs=50,\n",
        "                 compute_loss = True,\n",
        "                 callbacks=[callback()]\n",
        "                 )"
      ]
    },
    {
      "cell_type": "code",
      "execution_count": 20,
      "metadata": {
        "colab": {
          "base_uri": "https://localhost:8080/"
        },
        "id": "Oc-reirLGV2f",
        "outputId": "cd2504a3-5a0c-4eef-e919-ad9f681bae63"
      },
      "outputs": [
        {
          "name": "stdout",
          "output_type": "stream",
          "text": [
            "Loss after epoch 0: 408420.375\n",
            "Loss after epoch 1: 322676.6875\n",
            "Loss after epoch 2: 320022.1875\n",
            "Loss after epoch 3: 320710.125\n",
            "Loss after epoch 4: 315064.0\n",
            "Loss after epoch 5: 304166.875\n",
            "Loss after epoch 6: 273852.75\n",
            "Loss after epoch 7: 258974.0\n",
            "Loss after epoch 8: 256973.5\n",
            "Loss after epoch 9: 254017.25\n",
            "Loss after epoch 10: 252760.5\n",
            "Loss after epoch 11: 249214.75\n",
            "Loss after epoch 12: 249321.5\n",
            "Loss after epoch 13: 246110.5\n",
            "Loss after epoch 14: 236716.5\n",
            "Loss after epoch 15: 215066.0\n",
            "Loss after epoch 16: 214972.5\n",
            "Loss after epoch 17: 215640.5\n",
            "Loss after epoch 18: 214767.0\n",
            "Loss after epoch 19: 214058.0\n",
            "Loss after epoch 20: 214190.0\n",
            "Loss after epoch 21: 213115.5\n",
            "Loss after epoch 22: 212362.5\n",
            "Loss after epoch 23: 212757.5\n",
            "Loss after epoch 24: 212424.5\n",
            "Loss after epoch 25: 211708.0\n",
            "Loss after epoch 26: 212327.5\n",
            "Loss after epoch 27: 211880.0\n",
            "Loss after epoch 28: 210178.5\n",
            "Loss after epoch 29: 210935.5\n",
            "Loss after epoch 30: 210508.5\n",
            "Loss after epoch 31: 211275.5\n",
            "Loss after epoch 32: 209111.0\n",
            "Loss after epoch 33: 210421.0\n",
            "Loss after epoch 34: 197796.0\n",
            "Loss after epoch 35: 191403.0\n",
            "Loss after epoch 36: 190412.0\n",
            "Loss after epoch 37: 190877.0\n",
            "Loss after epoch 38: 189434.0\n",
            "Loss after epoch 39: 189169.0\n",
            "Loss after epoch 40: 188743.0\n",
            "Loss after epoch 41: 189105.0\n",
            "Loss after epoch 42: 188981.0\n",
            "Loss after epoch 43: 188635.0\n",
            "Loss after epoch 44: 189191.0\n",
            "Loss after epoch 45: 188583.0\n",
            "Loss after epoch 46: 188652.0\n",
            "Loss after epoch 47: 186458.0\n",
            "Loss after epoch 48: 186820.0\n",
            "Loss after epoch 49: 187529.0\n"
          ]
        },
        {
          "data": {
            "text/plain": [
              "(1982726, 3914200)"
            ]
          },
          "execution_count": 20,
          "metadata": {},
          "output_type": "execute_result"
        }
      ],
      "source": [
        "w2v_model_cbow.train(sentence_tokens,\n",
        "                 total_examples=w2v_model.corpus_count,\n",
        "                 epochs=50,\n",
        "                 compute_loss = True,\n",
        "                 callbacks=[callback()]\n",
        "                 )"
      ]
    },
    {
      "cell_type": "code",
      "execution_count": 43,
      "metadata": {
        "colab": {
          "base_uri": "https://localhost:8080/"
        },
        "id": "pE2m-JjiGjWO",
        "outputId": "fcb2d330-fb22-40fd-d4e2-cc5b5888eff7"
      },
      "outputs": [
        {
          "name": "stderr",
          "output_type": "stream",
          "text": [
            "WARNING:gensim.models.word2vec:Effective 'alpha' higher than previous training cycles\n"
          ]
        },
        {
          "name": "stdout",
          "output_type": "stream",
          "text": [
            "Loss after epoch 0: 263278.40625\n",
            "Loss after epoch 1: 265707.71875\n",
            "Loss after epoch 2: 261685.75\n",
            "Loss after epoch 3: 262887.625\n",
            "Loss after epoch 4: 256181.375\n",
            "Loss after epoch 5: 255521.125\n",
            "Loss after epoch 6: 254791.375\n",
            "Loss after epoch 7: 254582.75\n",
            "Loss after epoch 8: 244262.375\n",
            "Loss after epoch 9: 242437.25\n",
            "Loss after epoch 10: 242695.0\n",
            "Loss after epoch 11: 242975.5\n",
            "Loss after epoch 12: 242736.25\n",
            "Loss after epoch 13: 242586.25\n",
            "Loss after epoch 14: 243151.25\n",
            "Loss after epoch 15: 242294.0\n",
            "Loss after epoch 16: 238276.0\n",
            "Loss after epoch 17: 226347.0\n",
            "Loss after epoch 18: 225538.0\n",
            "Loss after epoch 19: 224487.5\n",
            "Loss after epoch 20: 225217.0\n",
            "Loss after epoch 21: 225706.5\n",
            "Loss after epoch 22: 225912.5\n",
            "Loss after epoch 23: 224443.5\n",
            "Loss after epoch 24: 225148.5\n",
            "Loss after epoch 25: 224822.5\n",
            "Loss after epoch 26: 224143.0\n",
            "Loss after epoch 27: 223428.0\n",
            "Loss after epoch 28: 223895.5\n",
            "Loss after epoch 29: 223365.5\n",
            "Loss after epoch 30: 222943.0\n",
            "Loss after epoch 31: 222612.5\n",
            "Loss after epoch 32: 223587.5\n",
            "Loss after epoch 33: 223112.0\n",
            "Loss after epoch 34: 222136.5\n",
            "Loss after epoch 35: 209891.5\n",
            "Loss after epoch 36: 200983.0\n",
            "Loss after epoch 37: 200971.0\n",
            "Loss after epoch 38: 199959.0\n",
            "Loss after epoch 39: 199195.0\n",
            "Loss after epoch 40: 201134.0\n",
            "Loss after epoch 41: 199741.0\n",
            "Loss after epoch 42: 199798.0\n",
            "Loss after epoch 43: 199836.0\n",
            "Loss after epoch 44: 199599.0\n",
            "Loss after epoch 45: 199531.0\n",
            "Loss after epoch 46: 199509.0\n",
            "Loss after epoch 47: 197387.0\n",
            "Loss after epoch 48: 197891.0\n",
            "Loss after epoch 49: 197911.0\n"
          ]
        },
        {
          "data": {
            "text/plain": [
              "(2479003, 3914200)"
            ]
          },
          "execution_count": 43,
          "metadata": {},
          "output_type": "execute_result"
        }
      ],
      "source": [
        "w2v_model_no_stopwords_cbow.train(sentence_tokens,\n",
        "                 total_examples=w2v_model.corpus_count,\n",
        "                 epochs=50,\n",
        "                 compute_loss = True,\n",
        "                 callbacks=[callback()]\n",
        "                 )"
      ]
    },
    {
      "attachments": {},
      "cell_type": "markdown",
      "metadata": {
        "id": "ddT9NVuNlCAe"
      },
      "source": [
        "### 4 - Ensayar"
      ]
    },
    {
      "cell_type": "code",
      "execution_count": 22,
      "metadata": {
        "colab": {
          "base_uri": "https://localhost:8080/"
        },
        "id": "6cHN9xGLuPEm",
        "outputId": "d7fade73-f90e-4212-dd69-ccb02fe7c0ae"
      },
      "outputs": [
        {
          "data": {
            "text/plain": [
              "[('hagrid', 0.7141903638839722),\n",
              " ('ron', 0.6715407371520996),\n",
              " ('firenze', 0.6637693047523499),\n",
              " ('con', 0.6312284469604492),\n",
              " ('pero', 0.6172990202903748),\n",
              " ('y', 0.589058518409729),\n",
              " ('le', 0.5673465728759766),\n",
              " ('hermione', 0.563235878944397),\n",
              " ('lo', 0.5516765117645264),\n",
              " ('se', 0.5499004125595093),\n",
              " ('paraguas', 0.5367541313171387),\n",
              " ('su', 0.5364199280738831)]"
            ]
          },
          "execution_count": 22,
          "metadata": {},
          "output_type": "execute_result"
        }
      ],
      "source": [
        "# Palabras que MÁS se relacionan con...:\n",
        "w2v_model.wv.most_similar(positive=[\"harry\"], topn=12)"
      ]
    },
    {
      "cell_type": "code",
      "execution_count": 23,
      "metadata": {
        "colab": {
          "base_uri": "https://localhost:8080/"
        },
        "id": "8tq48dorE8hg",
        "outputId": "b85d0117-f9a2-4871-baae-9cde84edaa8f"
      },
      "outputs": [
        {
          "data": {
            "text/plain": [
              "[('ron', 0.7329361438751221),\n",
              " ('pie', 0.6225633025169373),\n",
              " ('hermione', 0.6189185380935669),\n",
              " ('firenze', 0.6048445701599121),\n",
              " ('salto', 0.5994933247566223),\n",
              " ('paraguas', 0.5888060927391052),\n",
              " ('hagrid', 0.570395827293396),\n",
              " ('razón', 0.5578779578208923),\n",
              " ('luego', 0.5564180612564087),\n",
              " ('serpiente', 0.5532912611961365),\n",
              " ('asiento', 0.5528450012207031),\n",
              " ('cuál', 0.5447615385055542)]"
            ]
          },
          "execution_count": 23,
          "metadata": {},
          "output_type": "execute_result"
        }
      ],
      "source": [
        "# Palabras que MÁS se relacionan con...:\n",
        "w2v_model_no_stopwords.wv.most_similar(positive=[\"harry\"], topn=12)"
      ]
    },
    {
      "cell_type": "code",
      "execution_count": 24,
      "metadata": {
        "colab": {
          "base_uri": "https://localhost:8080/"
        },
        "id": "TubUB1HFG3xg",
        "outputId": "813755a2-13df-459f-eb35-1fc83557746d"
      },
      "outputs": [
        {
          "data": {
            "text/plain": [
              "[('hagrid', 0.7141903638839722),\n",
              " ('ron', 0.6715407371520996),\n",
              " ('firenze', 0.6637693047523499),\n",
              " ('con', 0.6312284469604492),\n",
              " ('pero', 0.6172990202903748),\n",
              " ('y', 0.589058518409729),\n",
              " ('le', 0.5673465728759766),\n",
              " ('hermione', 0.563235878944397),\n",
              " ('lo', 0.5516765117645264),\n",
              " ('se', 0.5499004125595093),\n",
              " ('paraguas', 0.5367541313171387),\n",
              " ('su', 0.5364199280738831)]"
            ]
          },
          "execution_count": 24,
          "metadata": {},
          "output_type": "execute_result"
        }
      ],
      "source": [
        "w2v_model_cbow.wv.most_similar(positive=[\"harry\"], topn=12)"
      ]
    },
    {
      "cell_type": "code",
      "execution_count": 44,
      "metadata": {
        "colab": {
          "base_uri": "https://localhost:8080/"
        },
        "id": "dhqhJ9f2G8PU",
        "outputId": "580cbb0c-add5-4a94-b563-f44bcd782b7e"
      },
      "outputs": [
        {
          "data": {
            "text/plain": [
              "[('hermione', 0.803264856338501),\n",
              " ('ron', 0.7931991219520569),\n",
              " ('hagrid', 0.747541606426239),\n",
              " ('neville', 0.6497244834899902),\n",
              " ('pero', 0.6326873898506165),\n",
              " ('malfoy', 0.6138768196105957),\n",
              " ('dumbledore', 0.5999720692634583),\n",
              " ('dudley', 0.5966528654098511),\n",
              " ('decirle', 0.594443678855896),\n",
              " ('no', 0.5865117907524109),\n",
              " ('y', 0.5758406519889832),\n",
              " ('pared', 0.5426304340362549)]"
            ]
          },
          "execution_count": 44,
          "metadata": {},
          "output_type": "execute_result"
        }
      ],
      "source": [
        "w2v_model_no_stopwords_cbow.wv.most_similar(positive=[\"harry\"], topn=12)"
      ]
    },
    {
      "cell_type": "code",
      "execution_count": 26,
      "metadata": {
        "colab": {
          "base_uri": "https://localhost:8080/"
        },
        "id": "47HiU5gdkdMq",
        "outputId": "c7b23b91-637f-42f4-953a-fa35ddf2d73c"
      },
      "outputs": [
        {
          "data": {
            "text/plain": [
              "[('doce', -0.025840453803539276),\n",
              " ('hay', -0.03424093499779701),\n",
              " ('llena', -0.043861888349056244),\n",
              " ('tendría', -0.05412810668349266),\n",
              " ('será', -0.05529558286070824),\n",
              " ('tengo', -0.05611425265669823),\n",
              " ('común', -0.06137216091156006),\n",
              " ('mente', -0.06494079530239105),\n",
              " ('además', -0.0684211328625679),\n",
              " ('podría', -0.06884966045618057)]"
            ]
          },
          "execution_count": 26,
          "metadata": {},
          "output_type": "execute_result"
        }
      ],
      "source": [
        "# Palabras que MENOS se relacionan con...:\n",
        "w2v_model.wv.most_similar(negative=[\"harry\"], topn=10)"
      ]
    },
    {
      "cell_type": "code",
      "execution_count": 27,
      "metadata": {
        "colab": {
          "base_uri": "https://localhost:8080/"
        },
        "id": "VeKJ9WxrFPyC",
        "outputId": "c3acd219-fd36-40ef-da0d-9a0bc10f321b"
      },
      "outputs": [
        {
          "data": {
            "text/plain": [
              "[('puede', -0.08925294131040573),\n",
              " ('dentro', -0.11353717744350433),\n",
              " ('gringotts', -0.11999274790287018),\n",
              " ('realmente', -0.14371567964553833),\n",
              " ('era', -0.15000689029693604),\n",
              " ('dice', -0.1596834808588028),\n",
              " ('alumnos', -0.15982182323932648),\n",
              " ('familia', -0.17325185239315033),\n",
              " ('puertas', -0.17364320158958435),\n",
              " ('colegio', -0.1742624193429947)]"
            ]
          },
          "execution_count": 27,
          "metadata": {},
          "output_type": "execute_result"
        }
      ],
      "source": [
        "w2v_model_no_stopwords.wv.most_similar(negative=[\"harry\"], topn=10)"
      ]
    },
    {
      "cell_type": "code",
      "execution_count": 28,
      "metadata": {
        "colab": {
          "base_uri": "https://localhost:8080/"
        },
        "id": "VJxtltNWHEpu",
        "outputId": "ce3fa953-faa9-4150-966e-0c7b8bd61516"
      },
      "outputs": [
        {
          "data": {
            "text/plain": [
              "[('doce', -0.025840453803539276),\n",
              " ('hay', -0.03424093499779701),\n",
              " ('llena', -0.043861888349056244),\n",
              " ('tendría', -0.05412810668349266),\n",
              " ('será', -0.05529558286070824),\n",
              " ('tengo', -0.05611425265669823),\n",
              " ('común', -0.06137216091156006),\n",
              " ('mente', -0.06494079530239105),\n",
              " ('además', -0.0684211328625679),\n",
              " ('podría', -0.06884966045618057)]"
            ]
          },
          "execution_count": 28,
          "metadata": {},
          "output_type": "execute_result"
        }
      ],
      "source": [
        "w2v_model_cbow.wv.most_similar(negative=[\"harry\"], topn=10)"
      ]
    },
    {
      "cell_type": "code",
      "execution_count": 45,
      "metadata": {
        "colab": {
          "base_uri": "https://localhost:8080/"
        },
        "id": "p6w3Cob7HPn4",
        "outputId": "c25bd7ea-6d8b-44ce-8210-4357199a6c21"
      },
      "outputs": [
        {
          "data": {
            "text/plain": [
              "[('«', -0.021078286692500114),\n",
              " ('algún', -0.04624219238758087),\n",
              " ('quiso', -0.05066888779401779),\n",
              " ('puede', -0.06595911085605621),\n",
              " ('dice', -0.07718901336193085),\n",
              " ('parecía', -0.08614134043455124),\n",
              " ('habían', -0.08960120379924774),\n",
              " ('grande', -0.09509121626615524),\n",
              " ('lugar', -0.09595125913619995),\n",
              " ('caldero', -0.1069939136505127)]"
            ]
          },
          "execution_count": 45,
          "metadata": {},
          "output_type": "execute_result"
        }
      ],
      "source": [
        "w2v_model_no_stopwords_cbow.wv.most_similar(negative=[\"harry\"], topn=10)"
      ]
    },
    {
      "cell_type": "code",
      "execution_count": 30,
      "metadata": {
        "colab": {
          "base_uri": "https://localhost:8080/"
        },
        "id": "DT4Rvno2mD65",
        "outputId": "3af3157a-8142-40c2-fa6d-050c102bf17f"
      },
      "outputs": [
        {
          "data": {
            "text/plain": [
              "[('secreto', 0.591467022895813),\n",
              " ('muggle', 0.5848466753959656),\n",
              " ('mamá', 0.5581204295158386),\n",
              " ('famoso', 0.5344323515892029),\n",
              " ('buscador', 0.5247362852096558),\n",
              " ('hogwarts', 0.524257242679596),\n",
              " ('nombre', 0.5236150622367859),\n",
              " ('eres', 0.5107726454734802),\n",
              " ('regalo', 0.496717631816864),\n",
              " ('es', 0.490953654050827)]"
            ]
          },
          "execution_count": 30,
          "metadata": {},
          "output_type": "execute_result"
        }
      ],
      "source": [
        "# Palabras que MÁS se relacionan con...:\n",
        "w2v_model.wv.most_similar(positive=[\"mago\"], topn=10)"
      ]
    },
    {
      "cell_type": "code",
      "execution_count": 31,
      "metadata": {
        "colab": {
          "base_uri": "https://localhost:8080/"
        },
        "id": "ngvzqM4EFVrh",
        "outputId": "9db83684-8d4d-4e7f-e657-2619c2d69c62"
      },
      "outputs": [
        {
          "data": {
            "text/plain": [
              "[('muggle', 0.7022664546966553),\n",
              " ('eh', 0.6091876029968262),\n",
              " ('muerto', 0.599747359752655),\n",
              " ('sabe', 0.570197343826294),\n",
              " ('hace', 0.5546145439147949),\n",
              " ('quiso', 0.5446537137031555),\n",
              " ('tu', 0.5434936285018921),\n",
              " ('modos', 0.5424234867095947),\n",
              " ('famoso', 0.5420491099357605),\n",
              " ('mala', 0.5334197878837585)]"
            ]
          },
          "execution_count": 31,
          "metadata": {},
          "output_type": "execute_result"
        }
      ],
      "source": [
        "w2v_model_no_stopwords.wv.most_similar(positive=[\"mago\"], topn=10)"
      ]
    },
    {
      "cell_type": "code",
      "execution_count": 46,
      "metadata": {
        "colab": {
          "base_uri": "https://localhost:8080/"
        },
        "id": "WyJbeZKfHZyR",
        "outputId": "f8152535-835c-4990-9790-fa840b4a218f"
      },
      "outputs": [
        {
          "data": {
            "text/plain": [
              "[('muggle', 0.7223173975944519),\n",
              " ('secreto', 0.5571540594100952),\n",
              " ('tu', 0.5401334166526794),\n",
              " ('tampoco', 0.5370939373970032),\n",
              " ('dragón', 0.537052571773529),\n",
              " ('ésa', 0.5181748867034912),\n",
              " ('mamá', 0.5095603466033936),\n",
              " ('conseguido', 0.5077916383743286),\n",
              " ('buscador', 0.5040322542190552),\n",
              " ('falta', 0.5014690160751343)]"
            ]
          },
          "execution_count": 46,
          "metadata": {},
          "output_type": "execute_result"
        }
      ],
      "source": [
        "w2v_model_no_stopwords_cbow.wv.most_similar(positive=[\"mago\"], topn=10)"
      ]
    },
    {
      "cell_type": "code",
      "execution_count": 33,
      "metadata": {
        "colab": {
          "base_uri": "https://localhost:8080/"
        },
        "id": "XPLDPgzBmQXt",
        "outputId": "50a4bc72-4ed2-41ad-b3bd-9b62f64fb0c2"
      },
      "outputs": [
        {
          "data": {
            "text/plain": [
              "[('vuelta', 0.6331589818000793),\n",
              " ('nota', 0.6122095584869385),\n",
              " ('nimbus', 0.6034864187240601),\n",
              " ('patada', 0.5982929468154907),\n",
              " ('última', 0.5704758763313293)]"
            ]
          },
          "execution_count": 33,
          "metadata": {},
          "output_type": "execute_result"
        }
      ],
      "source": [
        "# Palabras que MÁS se relacionan con...:\n",
        "w2v_model.wv.most_similar(positive=[\"escoba\"], topn=5)"
      ]
    },
    {
      "cell_type": "code",
      "execution_count": 34,
      "metadata": {
        "colab": {
          "base_uri": "https://localhost:8080/"
        },
        "id": "ivzfmSP3Hj-K",
        "outputId": "2553446a-a31f-44d3-ac8d-e9bb2783d3f2"
      },
      "outputs": [
        {
          "data": {
            "text/plain": [
              "[('saltó', 0.6066993474960327),\n",
              " ('harry', 0.5269842743873596),\n",
              " ('luego', 0.5193966031074524),\n",
              " ('libro', 0.47617170214653015),\n",
              " ('hermione', 0.4749956429004669)]"
            ]
          },
          "execution_count": 34,
          "metadata": {},
          "output_type": "execute_result"
        }
      ],
      "source": [
        "w2v_model_no_stopwords.wv.most_similar(positive=[\"escoba\"], topn=5)"
      ]
    },
    {
      "cell_type": "code",
      "execution_count": 47,
      "metadata": {
        "colab": {
          "base_uri": "https://localhost:8080/"
        },
        "id": "Uo5_jAZ1HoPn",
        "outputId": "88412d1c-9b12-4e7a-eccc-4e3ff6096e6d"
      },
      "outputs": [
        {
          "data": {
            "text/plain": [
              "[('nimbus', 0.5997064709663391),\n",
              " ('hedwig', 0.556575357913971),\n",
              " ('2', 0.5508849024772644),\n",
              " ('vida', 0.5377461910247803),\n",
              " ('llave', 0.5369178652763367)]"
            ]
          },
          "execution_count": 47,
          "metadata": {},
          "output_type": "execute_result"
        }
      ],
      "source": [
        "w2v_model_no_stopwords_cbow.wv.most_similar(positive=[\"escoba\"], topn=5)"
      ]
    },
    {
      "cell_type": "code",
      "execution_count": 48,
      "metadata": {
        "colab": {
          "base_uri": "https://localhost:8080/"
        },
        "id": "dxS4iiBCHx77",
        "outputId": "6a85401b-9ad0-4f82-d6f0-8d27fb7368b0"
      },
      "outputs": [
        {
          "data": {
            "text/plain": [
              "[('hufflepuff', 0.6744503378868103),\n",
              " ('cincuenta', 0.6098018884658813),\n",
              " ('mañana', 0.5735531449317932),\n",
              " ('slytherin', 0.5522617101669312),\n",
              " ('ganado', 0.5411995649337769)]"
            ]
          },
          "execution_count": 48,
          "metadata": {},
          "output_type": "execute_result"
        }
      ],
      "source": [
        "w2v_model_no_stopwords_cbow.wv.most_similar(positive=[\"gryffindor\"], topn=5)"
      ]
    },
    {
      "attachments": {},
      "cell_type": "markdown",
      "metadata": {
        "id": "_g8UVWe6lFmh"
      },
      "source": [
        "### 5 - Visualizar agrupación de vectores"
      ]
    },
    {
      "cell_type": "code",
      "execution_count": 37,
      "metadata": {
        "id": "pDxEVXAivjr9"
      },
      "outputs": [],
      "source": [
        "from sklearn.decomposition import IncrementalPCA    \n",
        "from sklearn.manifold import TSNE                   \n",
        "import numpy as np                                  \n",
        "\n",
        "def reduce_dimensions(model):\n",
        "    num_dimensions = 2  \n",
        "\n",
        "    vectors = np.asarray(model.wv.vectors)\n",
        "    labels = np.asarray(model.wv.index_to_key)  \n",
        "\n",
        "    tsne = TSNE(n_components=num_dimensions, random_state=0)\n",
        "    vectors = tsne.fit_transform(vectors)\n",
        "\n",
        "    x_vals = [v[0] for v in vectors]\n",
        "    y_vals = [v[1] for v in vectors]\n",
        "    return x_vals, y_vals, labels"
      ]
    },
    {
      "cell_type": "code",
      "execution_count": 38,
      "metadata": {
        "colab": {
          "base_uri": "https://localhost:8080/",
          "height": 542
        },
        "id": "NCCXtDpcugmd",
        "outputId": "47038aed-0e3b-40f3-e249-2acfebff43f1"
      },
      "outputs": [
        {
          "data": {
            "text/html": [
              "<html>\n",
              "<head><meta charset=\"utf-8\" /></head>\n",
              "<body>\n",
              "    <div>            <script src=\"https://cdnjs.cloudflare.com/ajax/libs/mathjax/2.7.5/MathJax.js?config=TeX-AMS-MML_SVG\"></script><script type=\"text/javascript\">if (window.MathJax && window.MathJax.Hub && window.MathJax.Hub.Config) {window.MathJax.Hub.Config({SVG: {font: \"STIX-Web\"}});}</script>                <script type=\"text/javascript\">window.PlotlyConfig = {MathJaxConfig: 'local'};</script>\n",
              "        <script src=\"https://cdn.plot.ly/plotly-2.18.2.min.js\"></script>                <div id=\"067af845-ddcd-40c8-a7c7-31f29ae062dd\" class=\"plotly-graph-div\" style=\"height:525px; width:100%;\"></div>            <script type=\"text/javascript\">                                    window.PLOTLYENV=window.PLOTLYENV || {};                                    if (document.getElementById(\"067af845-ddcd-40c8-a7c7-31f29ae062dd\")) {                    Plotly.newPlot(                        \"067af845-ddcd-40c8-a7c7-31f29ae062dd\",                        [{\"hovertemplate\":\"x=%{x}<br>y=%{y}<br>text=%{text}<extra></extra>\",\"legendgroup\":\"\",\"marker\":{\"color\":\"#636efa\",\"symbol\":\"circle\"},\"mode\":\"markers+text\",\"name\":\"\",\"orientation\":\"v\",\"showlegend\":false,\"text\":[\"de\",\"que\",\"la\",\"y\",\"a\",\"el\",\"en\",\"no\",\"harry\",\"se\",\"un\",\"los\",\"con\",\"lo\",\"una\",\"dijo\",\"por\",\"su\",\"las\",\"para\",\"pero\",\"hab\\u00eda\",\"del\",\"ron\",\"es\",\"al\",\"le\",\"hagrid\",\"estaba\",\"era\",\"m\\u00e1s\",\"si\",\"como\",\"qu\\u00e9\",\"hermione\",\"cuando\",\"muy\",\"me\",\"algo\",\"vez\",\"te\",\"\\u00e9l\",\"sus\",\"ya\",\"todos\",\"todo\",\"mientras\",\"snape\",\"sobre\",\"dumbledore\",\"ten\\u00eda\",\"tan\",\"eso\",\"hacia\",\"est\\u00e1\",\"yo\",\"dudley\",\"sin\",\"hasta\",\"bien\",\"malfoy\",\"nunca\",\"pod\\u00eda\",\"nada\",\"parec\\u00eda\",\"porque\",\"ver\",\"puerta\",\"vernon\",\"profesora\",\"fue\",\"neville\",\"t\\u00edo\",\"quirrell\",\"otra\",\"ellos\",\"dursley\",\"all\\u00ed\",\"potter\",\"hacer\",\"cabeza\",\"s\\u00ed\",\"c\\u00f3mo\",\"pregunt\\u00f3\",\"dos\",\"tu\",\"entonces\",\"gran\",\"mcgonagall\",\"estaban\",\"o\",\"gryffindor\",\"aqu\\u00ed\",\"casi\",\"se\\u00f1or\",\"bueno\",\"ojos\",\"as\\u00ed\",\"nos\",\"profesor\",\"les\",\"mucho\",\"ha\",\"mi\",\"mir\\u00f3\",\"antes\",\"fuera\",\"casa\",\"s\\u00f3lo\",\"mejor\",\"d\\u00eda\",\"uno\",\"lado\",\"ser\",\"ni\",\"voz\",\"dio\",\"piedra\",\"tres\",\"decir\",\"hab\\u00edan\",\"hogwarts\",\"tiempo\",\"momento\",\"hay\",\"noche\",\"tambi\\u00e9n\",\"se\\u00f1ora\",\"vamos\",\"aire\",\"ahora\",\"oh\",\"hizo\",\"entre\",\"otro\",\"cosas\",\"luego\",\"cada\",\"colegio\",\"despu\\u00e9s\",\"gente\",\"t\\u00fa\",\"verdad\",\"iba\",\"escoba\",\"eran\",\"son\",\"a\\u00f1o\",\"capa\",\"cuenta\",\"os\",\"volvi\\u00f3\",\"contra\",\"weasley\",\"t\\u00eda\",\"mano\",\"suelo\",\"estar\",\"dej\\u00f3\",\"nadie\",\"varita\",\"unos\",\"slytherin\",\"s\\u00e9\",\"petunia\",\"toda\",\"desde\",\"quidditch\",\"todav\\u00eda\",\"grit\\u00f3\",\"tener\",\"visto\",\"wood\",\"poco\",\"tarde\",\"donde\",\"tengo\",\"creo\",\"aquel\",\"lugar\",\"siempre\",\"durante\",\"ese\",\"filch\",\"mismo\",\"sab\\u00eda\",\"puedo\",\"he\",\"cara\",\"vio\",\"detr\\u00e1s\",\"ante\",\"clase\",\"esto\",\"ir\",\"haber\",\"puede\",\"r\\u00e1pidamente\",\"espejo\",\"pronto\"],\"x\":[-4.472017765045166,5.389272689819336,-2.8872134685516357,-4.3968024253845215,-0.5183557868003845,-6.449959754943848,-4.244478702545166,7.308131217956543,0.42692121863365173,-5.206958293914795,-5.942185401916504,-8.900911331176758,-3.309434652328491,6.36283016204834,-2.560918092727661,13.225730895996094,-1.0638399124145508,-3.33349609375,-5.982219219207764,0.3301137387752533,5.569746494293213,12.959342002868652,-6.874622821807861,1.5208109617233276,14.806615829467773,-6.327786445617676,0.938176155090332,0.05358843877911568,11.227072715759277,9.666158676147461,-1.1729105710983276,7.210933685302734,-4.414436340332031,8.33083438873291,1.5463505983352661,-1.3849942684173584,17.86018180847168,19.7642879486084,5.910165309906006,4.334285259246826,14.798089981079102,4.798769474029541,-11.890018463134766,7.403048515319824,-7.257918357849121,8.41342830657959,-14.742231369018555,7.097862243652344,-3.9145052433013916,0.04907871410250664,9.549422264099121,18.59781837463379,9.8093900680542,-22.769712448120117,16.845399856567383,20.14838409423828,7.985597133636475,8.463282585144043,-4.472337245941162,15.361920356750488,1.5519695281982422,17.81228256225586,7.7126593589782715,10.886080741882324,11.825310707092285,8.826616287231445,2.876723051071167,-20.856714248657227,8.168407440185547,-4.4502272605896,0.024470379576086998,0.6435432434082031,8.17051887512207,-0.4384564161300659,-1.83906888961792,4.875329494476318,-1.207956075668335,7.196831703186035,10.461311340332031,9.825994491577148,-8.446853637695312,11.421977043151855,8.498022079467773,14.768660545349121,-7.887704849243164,12.543292999267578,-0.7029830813407898,-6.04431676864624,-4.4543256759643555,11.184896469116211,16.502613067626953,4.229847431182861,21.341983795166016,1.480372667312622,-1.2155777215957642,13.619634628295898,-13.880537986755371,6.312880039215088,20.48097038269043,-6.879591464996338,0.7221137881278992,9.728740692138672,15.776585578918457,5.577219486236572,-19.186561584472656,-0.3347010314464569,6.4912872314453125,1.0765740871429443,0.7064480781555176,11.176620483398438,-9.300131797790527,15.019878387451172,-10.991148948669434,5.959290504455566,12.773728370666504,-5.026121616363525,-17.419851303100586,24.168663024902344,-9.709329605102539,3.7247884273529053,13.251450538635254,7.051066875457764,4.0624542236328125,-9.264254570007324,15.739338874816895,-4.605188369750977,6.3739213943481445,1.0174630880355835,18.538503646850586,-13.202519416809082,18.82485008239746,12.728570938110352,-21.617341995239258,-7.072622776031494,0.9716511368751526,-3.76857590675354,-14.709990501403809,-1.6962783336639404,-2.269392251968384,-12.036620140075684,-6.9601311683654785,18.69791603088379,7.086523532867432,0.9324741363525391,-1.1833219528198242,-6.903839588165283,-6.896265506744385,0.21366257965564728,0.4753105938434601,3.5743114948272705,17.608293533325195,-19.436899185180664,-3.512911319732666,9.816580772399902,9.911134719848633,-9.75616455078125,-12.976966857910156,6.690613746643066,-19.033668518066406,7.535128116607666,-1.0894397497177124,-11.019204139709473,3.493882179260254,19.293228149414062,9.901983261108398,-2.3260045051574707,-4.80731201171875,10.244647026062012,9.733695983886719,14.106860160827637,15.499119758605957,7.439406394958496,0.03368367627263069,2.921271800994873,2.1613314151763916,3.5033504962921143,9.62305736541748,19.15918731689453,-7.884520530700684,5.649766445159912,4.453083038330078,2.5653514862060547,19.601118087768555,2.678426742553711,9.452033042907715,12.402767181396484,15.794618606567383,14.965354919433594,-3.578799247741699,-6.455567359924316,-10.428421974182129,-2.97802996635437,-8.530134201049805,9.731160163879395,19.393007278442383,13.312593460083008,14.873991012573242,-15.706208229064941,-0.8206212520599365,0.28743305802345276],\"xaxis\":\"x\",\"y\":[1.643850564956665,0.9534620642662048,0.17848297953605652,-1.4428327083587646,-0.13662073016166687,-0.9148274064064026,0.8078523278236389,-1.2710152864456177,-6.685780048370361,-2.9111030101776123,0.0345633327960968,12.248361587524414,-1.703874111175537,-0.5534473061561584,-0.03914707154035568,-3.680325746536255,0.9657384753227234,-0.2322215437889099,9.78799819946289,1.6911907196044922,-1.012536644935608,11.223188400268555,-0.6118772625923157,-7.5876898765563965,4.272460460662842,-0.9662656188011169,-2.794036865234375,-8.109232902526855,9.848367691040039,8.670575141906738,-1.4074609279632568,-0.8456047773361206,-2.8713011741638184,-0.7702160477638245,-7.4069929122924805,-1.1142655611038208,8.943090438842773,2.1679675579071045,0.1563032567501068,-2.8240880966186523,-0.745151937007904,-6.227494239807129,12.350422859191895,0.17789433896541595,13.367524147033691,-5.136628150939941,-17.39992332458496,3.321159601211548,-2.0666563510894775,-7.805244445800781,9.957307815551758,9.114656448364258,0.0560365654528141,-3.1696834564208984,-3.0029377937316895,2.400433301925659,-18.259273529052734,-12.062807083129883,-0.43130502104759216,-7.144603729248047,-9.300631523132324,6.8045830726623535,8.596861839294434,-11.422369003295898,9.784483909606934,-10.064631462097168,-2.242220401763916,-1.967697262763977,-20.07205581665039,-18.904115676879883,1.376402497291565,-10.234732627868652,-20.084274291992188,-8.227752685546875,0.3191928267478943,-6.7817888259887695,17.791915893554688,-7.925693035125732,-1.7805777788162231,-8.957630157470703,-7.770606517791748,-5.691898822784424,0.36318331956863403,-4.581526279449463,11.078216552734375,-15.76078987121582,-2.9543135166168213,0.9931071996688843,-18.926528930664062,10.00128173828125,-10.9347505569458,18.558454513549805,-1.3991374969482422,-6.331677436828613,-19.057870864868164,2.5391180515289307,13.114460945129395,0.6323776245117188,1.641585111618042,-14.92213249206543,-2.9755396842956543,-6.027533054351807,12.09712028503418,-3.184858560562134,-5.537419319152832,-1.6564573049545288,22.18593406677246,5.6522417068481445,-1.4785362482070923,-2.7569632530212402,-1.9288159608840942,16.091379165649414,1.9955739974975586,2.1438560485839844,18.7259521484375,-13.81387996673584,-5.464862823486328,5.014827251434326,12.99013900756836,-1.086148977279663,11.226713180541992,-6.198665618896484,1.2235119342803955,-2.0212771892547607,7.953436851501465,-9.157332420349121,-1.7227860689163208,-17.29286766052246,-5.0757527351379395,-9.616632461547852,-3.3779296875,-6.803740978240967,4.235284328460693,-20.223957061767578,2.8684375286102295,11.514235496520996,-3.295494794845581,3.9264285564422607,5.833804607391357,3.13413667678833,3.1615095138549805,4.552645683288574,-2.0080313682556152,0.9336690902709961,-14.153632164001465,15.005736351013184,15.175989151000977,21.884050369262695,-10.77165412902832,13.356626510620117,1.622754454612732,-6.64908504486084,1.5817224979400635,-12.912012100219727,-19.772836685180664,-9.68175983428955,-9.734567642211914,5.662046909332275,-11.760477066040039,-3.3858680725097656,-13.952548027038574,18.34292221069336,18.973176956176758,3.422990560531616,-19.789011001586914,1.1632450819015503,-16.376264572143555,2.7084317207336426,-7.4489850997924805,-4.036591529846191,-9.652993202209473,17.640674591064453,-6.8935956954956055,-4.035505771636963,-4.0085368156433105,22.951265335083008,10.571191787719727,3.4112164974212646,-1.465348243713379,-11.31149673461914,3.8889739513397217,15.282601356506348,-10.994514465332031,-14.729687690734863,-4.848915100097656,1.2994271516799927,-1.4395428895950317,11.016674041748047,-12.715786933898926,-1.9994239807128906,0.3791426420211792,-2.476161479949951,8.623936653137207,-0.11608073115348816,-6.557112216949463,10.005609512329102,5.729114532470703,-16.29492950439453,-3.4507200717926025,-5.8230414390563965],\"yaxis\":\"y\",\"type\":\"scatter\"}],                        {\"template\":{\"data\":{\"histogram2dcontour\":[{\"type\":\"histogram2dcontour\",\"colorbar\":{\"outlinewidth\":0,\"ticks\":\"\"},\"colorscale\":[[0.0,\"#0d0887\"],[0.1111111111111111,\"#46039f\"],[0.2222222222222222,\"#7201a8\"],[0.3333333333333333,\"#9c179e\"],[0.4444444444444444,\"#bd3786\"],[0.5555555555555556,\"#d8576b\"],[0.6666666666666666,\"#ed7953\"],[0.7777777777777778,\"#fb9f3a\"],[0.8888888888888888,\"#fdca26\"],[1.0,\"#f0f921\"]]}],\"choropleth\":[{\"type\":\"choropleth\",\"colorbar\":{\"outlinewidth\":0,\"ticks\":\"\"}}],\"histogram2d\":[{\"type\":\"histogram2d\",\"colorbar\":{\"outlinewidth\":0,\"ticks\":\"\"},\"colorscale\":[[0.0,\"#0d0887\"],[0.1111111111111111,\"#46039f\"],[0.2222222222222222,\"#7201a8\"],[0.3333333333333333,\"#9c179e\"],[0.4444444444444444,\"#bd3786\"],[0.5555555555555556,\"#d8576b\"],[0.6666666666666666,\"#ed7953\"],[0.7777777777777778,\"#fb9f3a\"],[0.8888888888888888,\"#fdca26\"],[1.0,\"#f0f921\"]]}],\"heatmap\":[{\"type\":\"heatmap\",\"colorbar\":{\"outlinewidth\":0,\"ticks\":\"\"},\"colorscale\":[[0.0,\"#0d0887\"],[0.1111111111111111,\"#46039f\"],[0.2222222222222222,\"#7201a8\"],[0.3333333333333333,\"#9c179e\"],[0.4444444444444444,\"#bd3786\"],[0.5555555555555556,\"#d8576b\"],[0.6666666666666666,\"#ed7953\"],[0.7777777777777778,\"#fb9f3a\"],[0.8888888888888888,\"#fdca26\"],[1.0,\"#f0f921\"]]}],\"heatmapgl\":[{\"type\":\"heatmapgl\",\"colorbar\":{\"outlinewidth\":0,\"ticks\":\"\"},\"colorscale\":[[0.0,\"#0d0887\"],[0.1111111111111111,\"#46039f\"],[0.2222222222222222,\"#7201a8\"],[0.3333333333333333,\"#9c179e\"],[0.4444444444444444,\"#bd3786\"],[0.5555555555555556,\"#d8576b\"],[0.6666666666666666,\"#ed7953\"],[0.7777777777777778,\"#fb9f3a\"],[0.8888888888888888,\"#fdca26\"],[1.0,\"#f0f921\"]]}],\"contourcarpet\":[{\"type\":\"contourcarpet\",\"colorbar\":{\"outlinewidth\":0,\"ticks\":\"\"}}],\"contour\":[{\"type\":\"contour\",\"colorbar\":{\"outlinewidth\":0,\"ticks\":\"\"},\"colorscale\":[[0.0,\"#0d0887\"],[0.1111111111111111,\"#46039f\"],[0.2222222222222222,\"#7201a8\"],[0.3333333333333333,\"#9c179e\"],[0.4444444444444444,\"#bd3786\"],[0.5555555555555556,\"#d8576b\"],[0.6666666666666666,\"#ed7953\"],[0.7777777777777778,\"#fb9f3a\"],[0.8888888888888888,\"#fdca26\"],[1.0,\"#f0f921\"]]}],\"surface\":[{\"type\":\"surface\",\"colorbar\":{\"outlinewidth\":0,\"ticks\":\"\"},\"colorscale\":[[0.0,\"#0d0887\"],[0.1111111111111111,\"#46039f\"],[0.2222222222222222,\"#7201a8\"],[0.3333333333333333,\"#9c179e\"],[0.4444444444444444,\"#bd3786\"],[0.5555555555555556,\"#d8576b\"],[0.6666666666666666,\"#ed7953\"],[0.7777777777777778,\"#fb9f3a\"],[0.8888888888888888,\"#fdca26\"],[1.0,\"#f0f921\"]]}],\"mesh3d\":[{\"type\":\"mesh3d\",\"colorbar\":{\"outlinewidth\":0,\"ticks\":\"\"}}],\"scatter\":[{\"fillpattern\":{\"fillmode\":\"overlay\",\"size\":10,\"solidity\":0.2},\"type\":\"scatter\"}],\"parcoords\":[{\"type\":\"parcoords\",\"line\":{\"colorbar\":{\"outlinewidth\":0,\"ticks\":\"\"}}}],\"scatterpolargl\":[{\"type\":\"scatterpolargl\",\"marker\":{\"colorbar\":{\"outlinewidth\":0,\"ticks\":\"\"}}}],\"bar\":[{\"error_x\":{\"color\":\"#2a3f5f\"},\"error_y\":{\"color\":\"#2a3f5f\"},\"marker\":{\"line\":{\"color\":\"#E5ECF6\",\"width\":0.5},\"pattern\":{\"fillmode\":\"overlay\",\"size\":10,\"solidity\":0.2}},\"type\":\"bar\"}],\"scattergeo\":[{\"type\":\"scattergeo\",\"marker\":{\"colorbar\":{\"outlinewidth\":0,\"ticks\":\"\"}}}],\"scatterpolar\":[{\"type\":\"scatterpolar\",\"marker\":{\"colorbar\":{\"outlinewidth\":0,\"ticks\":\"\"}}}],\"histogram\":[{\"marker\":{\"pattern\":{\"fillmode\":\"overlay\",\"size\":10,\"solidity\":0.2}},\"type\":\"histogram\"}],\"scattergl\":[{\"type\":\"scattergl\",\"marker\":{\"colorbar\":{\"outlinewidth\":0,\"ticks\":\"\"}}}],\"scatter3d\":[{\"type\":\"scatter3d\",\"line\":{\"colorbar\":{\"outlinewidth\":0,\"ticks\":\"\"}},\"marker\":{\"colorbar\":{\"outlinewidth\":0,\"ticks\":\"\"}}}],\"scattermapbox\":[{\"type\":\"scattermapbox\",\"marker\":{\"colorbar\":{\"outlinewidth\":0,\"ticks\":\"\"}}}],\"scatterternary\":[{\"type\":\"scatterternary\",\"marker\":{\"colorbar\":{\"outlinewidth\":0,\"ticks\":\"\"}}}],\"scattercarpet\":[{\"type\":\"scattercarpet\",\"marker\":{\"colorbar\":{\"outlinewidth\":0,\"ticks\":\"\"}}}],\"carpet\":[{\"aaxis\":{\"endlinecolor\":\"#2a3f5f\",\"gridcolor\":\"white\",\"linecolor\":\"white\",\"minorgridcolor\":\"white\",\"startlinecolor\":\"#2a3f5f\"},\"baxis\":{\"endlinecolor\":\"#2a3f5f\",\"gridcolor\":\"white\",\"linecolor\":\"white\",\"minorgridcolor\":\"white\",\"startlinecolor\":\"#2a3f5f\"},\"type\":\"carpet\"}],\"table\":[{\"cells\":{\"fill\":{\"color\":\"#EBF0F8\"},\"line\":{\"color\":\"white\"}},\"header\":{\"fill\":{\"color\":\"#C8D4E3\"},\"line\":{\"color\":\"white\"}},\"type\":\"table\"}],\"barpolar\":[{\"marker\":{\"line\":{\"color\":\"#E5ECF6\",\"width\":0.5},\"pattern\":{\"fillmode\":\"overlay\",\"size\":10,\"solidity\":0.2}},\"type\":\"barpolar\"}],\"pie\":[{\"automargin\":true,\"type\":\"pie\"}]},\"layout\":{\"autotypenumbers\":\"strict\",\"colorway\":[\"#636efa\",\"#EF553B\",\"#00cc96\",\"#ab63fa\",\"#FFA15A\",\"#19d3f3\",\"#FF6692\",\"#B6E880\",\"#FF97FF\",\"#FECB52\"],\"font\":{\"color\":\"#2a3f5f\"},\"hovermode\":\"closest\",\"hoverlabel\":{\"align\":\"left\"},\"paper_bgcolor\":\"white\",\"plot_bgcolor\":\"#E5ECF6\",\"polar\":{\"bgcolor\":\"#E5ECF6\",\"angularaxis\":{\"gridcolor\":\"white\",\"linecolor\":\"white\",\"ticks\":\"\"},\"radialaxis\":{\"gridcolor\":\"white\",\"linecolor\":\"white\",\"ticks\":\"\"}},\"ternary\":{\"bgcolor\":\"#E5ECF6\",\"aaxis\":{\"gridcolor\":\"white\",\"linecolor\":\"white\",\"ticks\":\"\"},\"baxis\":{\"gridcolor\":\"white\",\"linecolor\":\"white\",\"ticks\":\"\"},\"caxis\":{\"gridcolor\":\"white\",\"linecolor\":\"white\",\"ticks\":\"\"}},\"coloraxis\":{\"colorbar\":{\"outlinewidth\":0,\"ticks\":\"\"}},\"colorscale\":{\"sequential\":[[0.0,\"#0d0887\"],[0.1111111111111111,\"#46039f\"],[0.2222222222222222,\"#7201a8\"],[0.3333333333333333,\"#9c179e\"],[0.4444444444444444,\"#bd3786\"],[0.5555555555555556,\"#d8576b\"],[0.6666666666666666,\"#ed7953\"],[0.7777777777777778,\"#fb9f3a\"],[0.8888888888888888,\"#fdca26\"],[1.0,\"#f0f921\"]],\"sequentialminus\":[[0.0,\"#0d0887\"],[0.1111111111111111,\"#46039f\"],[0.2222222222222222,\"#7201a8\"],[0.3333333333333333,\"#9c179e\"],[0.4444444444444444,\"#bd3786\"],[0.5555555555555556,\"#d8576b\"],[0.6666666666666666,\"#ed7953\"],[0.7777777777777778,\"#fb9f3a\"],[0.8888888888888888,\"#fdca26\"],[1.0,\"#f0f921\"]],\"diverging\":[[0,\"#8e0152\"],[0.1,\"#c51b7d\"],[0.2,\"#de77ae\"],[0.3,\"#f1b6da\"],[0.4,\"#fde0ef\"],[0.5,\"#f7f7f7\"],[0.6,\"#e6f5d0\"],[0.7,\"#b8e186\"],[0.8,\"#7fbc41\"],[0.9,\"#4d9221\"],[1,\"#276419\"]]},\"xaxis\":{\"gridcolor\":\"white\",\"linecolor\":\"white\",\"ticks\":\"\",\"title\":{\"standoff\":15},\"zerolinecolor\":\"white\",\"automargin\":true,\"zerolinewidth\":2},\"yaxis\":{\"gridcolor\":\"white\",\"linecolor\":\"white\",\"ticks\":\"\",\"title\":{\"standoff\":15},\"zerolinecolor\":\"white\",\"automargin\":true,\"zerolinewidth\":2},\"scene\":{\"xaxis\":{\"backgroundcolor\":\"#E5ECF6\",\"gridcolor\":\"white\",\"linecolor\":\"white\",\"showbackground\":true,\"ticks\":\"\",\"zerolinecolor\":\"white\",\"gridwidth\":2},\"yaxis\":{\"backgroundcolor\":\"#E5ECF6\",\"gridcolor\":\"white\",\"linecolor\":\"white\",\"showbackground\":true,\"ticks\":\"\",\"zerolinecolor\":\"white\",\"gridwidth\":2},\"zaxis\":{\"backgroundcolor\":\"#E5ECF6\",\"gridcolor\":\"white\",\"linecolor\":\"white\",\"showbackground\":true,\"ticks\":\"\",\"zerolinecolor\":\"white\",\"gridwidth\":2}},\"shapedefaults\":{\"line\":{\"color\":\"#2a3f5f\"}},\"annotationdefaults\":{\"arrowcolor\":\"#2a3f5f\",\"arrowhead\":0,\"arrowwidth\":1},\"geo\":{\"bgcolor\":\"white\",\"landcolor\":\"#E5ECF6\",\"subunitcolor\":\"white\",\"showland\":true,\"showlakes\":true,\"lakecolor\":\"white\"},\"title\":{\"x\":0.05},\"mapbox\":{\"style\":\"light\"}}},\"xaxis\":{\"anchor\":\"y\",\"domain\":[0.0,1.0],\"title\":{\"text\":\"x\"}},\"yaxis\":{\"anchor\":\"x\",\"domain\":[0.0,1.0],\"title\":{\"text\":\"y\"}},\"legend\":{\"tracegroupgap\":0},\"margin\":{\"t\":60}},                        {\"responsive\": true}                    ).then(function(){\n",
              "                            \n",
              "var gd = document.getElementById('067af845-ddcd-40c8-a7c7-31f29ae062dd');\n",
              "var x = new MutationObserver(function (mutations, observer) {{\n",
              "        var display = window.getComputedStyle(gd).display;\n",
              "        if (!display || display === 'none') {{\n",
              "            console.log([gd, 'removed!']);\n",
              "            Plotly.purge(gd);\n",
              "            observer.disconnect();\n",
              "        }}\n",
              "}});\n",
              "\n",
              "// Listen for the removal of the full notebook cells\n",
              "var notebookContainer = gd.closest('#notebook-container');\n",
              "if (notebookContainer) {{\n",
              "    x.observe(notebookContainer, {childList: true});\n",
              "}}\n",
              "\n",
              "// Listen for the clearing of the current output cell\n",
              "var outputEl = gd.closest('.output');\n",
              "if (outputEl) {{\n",
              "    x.observe(outputEl, {childList: true});\n",
              "}}\n",
              "\n",
              "                        })                };                            </script>        </div>\n",
              "</body>\n",
              "</html>"
            ]
          },
          "metadata": {},
          "output_type": "display_data"
        }
      ],
      "source": [
        "# Graficar los embedddings en 2D\n",
        "import plotly.graph_objects as go\n",
        "import plotly.express as px\n",
        "\n",
        "x_vals, y_vals, labels = reduce_dimensions(w2v_model)\n",
        "\n",
        "MAX_WORDS=200\n",
        "fig = px.scatter(x=x_vals[:MAX_WORDS], y=y_vals[:MAX_WORDS], text=labels[:MAX_WORDS])\n",
        "fig.show(renderer=\"colab\") # esto para plotly en colab"
      ]
    },
    {
      "cell_type": "code",
      "execution_count": 39,
      "metadata": {
        "colab": {
          "base_uri": "https://localhost:8080/",
          "height": 542
        },
        "id": "cu_824P-IY1R",
        "outputId": "035c5295-e1c0-4952-fdf3-22891f7b161d"
      },
      "outputs": [
        {
          "data": {
            "text/html": [
              "<html>\n",
              "<head><meta charset=\"utf-8\" /></head>\n",
              "<body>\n",
              "    <div>            <script src=\"https://cdnjs.cloudflare.com/ajax/libs/mathjax/2.7.5/MathJax.js?config=TeX-AMS-MML_SVG\"></script><script type=\"text/javascript\">if (window.MathJax && window.MathJax.Hub && window.MathJax.Hub.Config) {window.MathJax.Hub.Config({SVG: {font: \"STIX-Web\"}});}</script>                <script type=\"text/javascript\">window.PlotlyConfig = {MathJaxConfig: 'local'};</script>\n",
              "        <script src=\"https://cdn.plot.ly/plotly-2.18.2.min.js\"></script>                <div id=\"7ae9d3e0-7bd0-4684-ad79-f8d52afa7ba0\" class=\"plotly-graph-div\" style=\"height:525px; width:100%;\"></div>            <script type=\"text/javascript\">                                    window.PLOTLYENV=window.PLOTLYENV || {};                                    if (document.getElementById(\"7ae9d3e0-7bd0-4684-ad79-f8d52afa7ba0\")) {                    Plotly.newPlot(                        \"7ae9d3e0-7bd0-4684-ad79-f8d52afa7ba0\",                        [{\"hovertemplate\":\"x=%{x}<br>y=%{y}<br>text=%{text}<extra></extra>\",\"legendgroup\":\"\",\"marker\":{\"color\":\"#636efa\",\"symbol\":\"circle\"},\"mode\":\"markers+text\",\"name\":\"\",\"orientation\":\"v\",\"showlegend\":false,\"text\":[\"harry\",\"dijo\",\"ron\",\"no\",\"hagrid\",\"si\",\"hermione\",\"el\",\"la\",\"y\",\"vez\",\"se\",\"mientras\",\"snape\",\"pero\",\"dumbledore\",\"hacia\",\"tan\",\"dudley\",\"bien\",\"malfoy\",\"nunca\",\"pod\\u00eda\",\"parec\\u00eda\",\"puerta\",\"ver\",\"vernon\",\"profesora\",\"t\\u00edo\",\"neville\",\"quirrell\",\"potter\",\"los\",\"qu\\u00e9\",\"all\\u00ed\",\"hacer\",\"dursley\",\"en\",\"cabeza\",\"c\\u00f3mo\",\"pregunt\\u00f3\",\"dos\",\"por\",\"lo\",\"entonces\",\"gran\",\"mcgonagall\",\"gryffindor\",\"se\\u00f1or\",\"casi\",\"aqu\\u00ed\",\"bueno\",\"\\u00bb\",\"ojos\",\"as\\u00ed\",\"profesor\",\"es\",\"mir\\u00f3\",\"casa\",\"s\\u00f3lo\",\"era\",\"d\\u00eda\",\"mejor\",\"piedra\",\"lado\",\"\\u00ab\",\"ser\",\"dio\",\"tres\",\"voz\",\"hogwarts\",\"momento\",\"tiempo\",\"decir\",\"noche\",\"de\",\"se\\u00f1ora\",\"vamos\",\"ahora\",\"oh\",\"aire\",\"un\",\"hizo\",\"cosas\",\"luego\",\"cada\",\"despu\\u00e9s\",\"colegio\",\"gente\",\"yo\",\"verdad\",\"iba\",\"escoba\",\"a\\u00f1o\",\"capa\",\"cuenta\",\"weasley\",\"volvi\\u00f3\",\"t\\u00eda\",\"nadie\",\"varita\",\"dej\\u00f3\",\"mano\",\"suelo\",\"slytherin\",\"s\\u00e9\",\"s\\u00ed\",\"quidditch\",\"petunia\",\"todav\\u00eda\",\"toda\",\"visto\",\"tener\",\"wood\",\"ya\",\"grit\\u00f3\",\"tarde\",\"cuando\",\"siempre\",\"creo\",\"lugar\",\"aquel\",\"mismo\",\"estaba\",\"filch\",\"puedo\",\"sab\\u00eda\",\"vio\",\"cara\",\"detr\\u00e1s\",\"a\",\"haber\",\"puede\",\"clase\",\"ir\",\"una\",\"r\\u00e1pidamente\",\"las\",\"pronto\",\"espejo\",\"aunque\",\"cerca\",\"magia\",\"te\",\"hecho\",\"quiero\",\"aquella\",\"habitaci\\u00f3n\",\"madre\",\"qui\\u00e9n\",\"alguien\",\"pudo\",\"me\",\"respondi\\u00f3\",\"puso\",\"primer\",\"voy\",\"puntos\",\"vida\",\"padre\",\"saber\",\"primera\",\"seguro\",\"rostro\",\"tal\",\"sombrero\",\"comenz\\u00f3\",\"siguiente\",\"tratando\",\"mesa\",\"libros\",\"abri\\u00f3\",\"carta\",\"parte\",\"muchacho\",\"encima\",\"nombre\",\"al\",\"nariz\",\"lechuza\",\"d\\u00f3nde\",\"todos\",\"cama\",\"levant\\u00f3\",\"menos\",\"percy\",\"supuesto\",\"chico\",\"trav\\u00e9s\",\"voldemort\",\"hablar\",\"frente\",\"ma\\u00f1ana\",\"magos\",\"unas\",\"aquello\",\"a\\u00f1os\",\"vuelta\",\"haciendo\",\"sido\"],\"x\":[-0.7017561197280884,1.2672706842422485,-1.0200774669647217,2.635411262512207,0.30788853764533997,-2.0237202644348145,-1.2547094821929932,9.852591514587402,6.415748119354248,-1.0022318363189697,-1.9021127223968506,-11.619146347045898,-1.1126595735549927,-2.7622804641723633,3.5370540618896484,0.7641614079475403,-4.228456020355225,-9.138053894042969,10.247779846191406,-4.22848653793335,-3.4867758750915527,-4.383358955383301,-6.278131008148193,-6.867879867553711,-5.568774700164795,-9.22976303100586,15.657398223876953,-18.08455467224121,15.669392585754395,-4.407442569732666,-2.9129791259765625,5.57936954498291,-9.699969291687012,1.4582358598709106,-2.518697500228882,2.8553268909454346,11.00325870513916,2.30442214012146,-6.853704929351807,-3.5666112899780273,8.889357566833496,-0.25543013215065,0.9011677503585815,2.7848927974700928,0.8952527642250061,6.280557155609131,-18.086240768432617,-7.821539402008057,8.150473594665527,-8.344250679016113,0.20111903548240662,1.4148279428482056,9.559734344482422,-9.449881553649902,-2.051588296890259,3.398991584777832,5.071383953094482,-8.169305801391602,0.5060585737228394,-1.8871618509292603,4.523569107055664,14.101301193237305,2.85589861869812,-10.938176155090332,-5.039526462554932,9.612625122070312,-9.55548095703125,-7.891960620880127,9.851338386535645,1.3879776000976562,1.6356748342514038,15.217395782470703,-6.299283504486084,0.2711871266365051,-7.708193302154541,1.6707615852355957,-14.314850807189941,0.32253023982048035,0.966517984867096,2.1958491802215576,7.614686965942383,6.725160121917725,8.079556465148926,7.05073356628418,-11.07745361328125,-7.559193134307861,12.71417236328125,7.5443620681762695,3.6177215576171875,-0.5219739675521851,-0.9653276205062866,-4.899227619171143,-9.151515007019043,11.914803504943848,1.6647590398788452,14.491297721862793,-0.9085497856140137,-4.149470329284668,15.80083179473877,-5.107203006744385,10.0053129196167,-6.845330238342285,0.20791450142860413,-5.90867805480957,-8.141417503356934,3.6622209548950195,-9.373364448547363,3.639537811279297,15.802374839782715,-15.93919849395752,1.222564697265625,-4.8901495933532715,6.590865135192871,-4.805385112762451,-2.294391632080078,11.400911331176758,14.263147354125977,9.011489868164062,3.4504916667938232,1.7065105438232422,-0.8852035403251648,13.713308334350586,-1.0885900259017944,13.304244995117188,-15.34438419342041,3.9586009979248047,-7.501142501831055,-15.031479835510254,-10.47553825378418,-2.8317697048187256,12.818768501281738,-11.563185691833496,2.300692558288574,4.967808246612549,-0.15518125891685486,6.449324607849121,-1.4439977407455444,8.687183380126953,9.834488868713379,-6.494357109069824,5.34081506729126,-1.6675136089324951,5.048393726348877,5.720721244812012,-1.2411733865737915,8.877118110656738,6.717787742614746,7.793595314025879,-7.623045444488525,5.651482105255127,10.223082542419434,-6.181201457977295,4.225205421447754,8.922098159790039,-1.9665852785110474,5.839529514312744,0.507064700126648,-7.344065189361572,-7.602385520935059,-8.792912483215332,1.8453696966171265,13.24169635772705,4.167998790740967,-1.326811671257019,-6.879170894622803,5.802881240844727,-6.502838611602783,4.724087238311768,-5.014988422393799,-3.754690647125244,10.346968650817871,-6.959035396575928,13.464319229125977,-9.558012962341309,13.348397254943848,-13.726787567138672,0.9360039234161377,15.676508903503418,1.059072494506836,11.584486961364746,-1.474941372871399,4.160289764404297,-4.6257524490356445,-4.51859188079834,-9.394461631774902,2.7477049827575684,-2.1852078437805176,-10.658199310302734,1.0084164142608643,6.255156993865967,-2.3676600456237793,1.530118465423584,11.55374526977539,6.069666385650635,15.308691024780273,-8.827581405639648,12.649832725524902,-14.480106353759766,1.6575733423233032,12.314599990844727],\"xaxis\":\"x\",\"y\":[-0.3254493772983551,3.8108596801757812,-0.16960805654525757,5.45405387878418,-0.5977278351783752,4.486504077911377,-0.18063314259052277,-10.802929878234863,-8.565592765808105,5.220923900604248,0.9680678248405457,-11.08486270904541,-3.1005160808563232,1.606260061264038,6.93875789642334,-0.21058741211891174,-7.760553359985352,9.788646697998047,4.073207378387451,4.823565483093262,13.147561073303223,5.733304500579834,11.941145896911621,-1.3474620580673218,-12.997274398803711,0.7961112260818481,5.873482704162598,-0.6589292883872986,5.868189811706543,12.519488334655762,1.545250415802002,3.1937568187713623,-1.186885952949524,1.3584911823272705,2.4143667221069336,5.497185230255127,3.763709545135498,-7.2458295822143555,-8.068550109863281,8.323587417602539,7.85596227645874,-5.785518169403076,2.4097135066986084,6.035787105560303,15.58094310760498,-6.990843296051025,-0.6606367230415344,4.215462684631348,2.328624725341797,-1.2196727991104126,4.1253767013549805,4.766463756561279,-3.4055824279785156,-4.6708478927612305,6.583993911743164,-2.4215219020843506,5.034514904022217,-10.609724044799805,-1.9611732959747314,1.5192656517028809,5.870535373687744,-0.11037493497133255,2.974804639816284,4.751317501068115,-6.826035022735596,-3.3510470390319824,5.379148006439209,-14.427736282348633,-8.275300979614258,-2.151710271835327,0.20444396138191223,-1.382046103477478,0.08294320106506348,10.384660720825195,6.990675449371338,-4.456478118896484,1.0090311765670776,6.893864154815674,6.24823522567749,4.444465160369873,-12.616857528686523,-5.398858547210693,-14.75639533996582,-1.246548056602478,-3.790447473526001,-0.36652326583862305,-2.577694892883301,7.390161037445068,-0.007255391217768192,5.777989387512207,3.0209579467773438,2.2371761798858643,-7.183697700500488,1.5464669466018677,-0.5436890721321106,3.863541841506958,17.579708099365234,-9.032102584838867,8.420760154724121,5.736333847045898,-6.422878265380859,-7.354549407958984,-16.09779930114746,-10.098515510559082,5.21256160736084,10.230034828186035,1.5002092123031616,15.035731315612793,8.414340019226074,3.752458095550537,-17.594877243041992,7.294335842132568,12.684162139892578,4.221661567687988,4.821130275726318,-8.51704216003418,-4.181109428405762,-10.615755081176758,5.915150165557861,11.387094497680664,0.9644201993942261,-2.2808949947357178,11.190906524658203,9.663070678710938,-0.8066409826278687,11.842992782592773,11.61237907409668,-4.957309246063232,-0.24989433586597443,-7.422857761383057,7.790648937225342,11.424391746520996,3.0707859992980957,-3.008345127105713,8.463496208190918,-8.701091766357422,-5.2835187911987305,-1.4216307401657104,-13.18898868560791,14.434041023254395,8.777609825134277,-7.659490585327148,-0.5157138705253601,6.595764636993408,7.987504482269287,4.747714519500732,8.180743217468262,-9.385520935058594,0.8607513308525085,13.140768051147461,10.79439926147461,12.21737289428711,13.870912551879883,6.716890335083008,-1.543645977973938,-15.472121238708496,6.048452377319336,4.170907020568848,9.139660835266113,10.622971534729004,10.277962684631348,1.1933444738388062,2.026869297027588,-15.225285530090332,8.932599067687988,-3.6714999675750732,-2.2620108127593994,-9.236586570739746,14.474260330200195,-6.184432506561279,2.088467836380005,-12.14526653289795,5.544748306274414,9.94355583190918,-9.445649147033691,4.037953853607178,0.6253634691238403,-5.6264214515686035,-14.369941711425781,5.291415691375732,4.674572467803955,-3.2461583614349365,-1.983371615409851,-10.126103401184082,3.453641176223755,16.6899356842041,6.723781585693359,8.147418975830078,-4.63712215423584,10.83238410949707,9.075894355773926,-7.157045841217041,-5.558581829071045,4.698342800140381,1.8984663486480713,12.495392799377441,-5.5323309898376465,-3.745861053466797,1.1529301404953003,0.22377844154834747],\"yaxis\":\"y\",\"type\":\"scatter\"}],                        {\"template\":{\"data\":{\"histogram2dcontour\":[{\"type\":\"histogram2dcontour\",\"colorbar\":{\"outlinewidth\":0,\"ticks\":\"\"},\"colorscale\":[[0.0,\"#0d0887\"],[0.1111111111111111,\"#46039f\"],[0.2222222222222222,\"#7201a8\"],[0.3333333333333333,\"#9c179e\"],[0.4444444444444444,\"#bd3786\"],[0.5555555555555556,\"#d8576b\"],[0.6666666666666666,\"#ed7953\"],[0.7777777777777778,\"#fb9f3a\"],[0.8888888888888888,\"#fdca26\"],[1.0,\"#f0f921\"]]}],\"choropleth\":[{\"type\":\"choropleth\",\"colorbar\":{\"outlinewidth\":0,\"ticks\":\"\"}}],\"histogram2d\":[{\"type\":\"histogram2d\",\"colorbar\":{\"outlinewidth\":0,\"ticks\":\"\"},\"colorscale\":[[0.0,\"#0d0887\"],[0.1111111111111111,\"#46039f\"],[0.2222222222222222,\"#7201a8\"],[0.3333333333333333,\"#9c179e\"],[0.4444444444444444,\"#bd3786\"],[0.5555555555555556,\"#d8576b\"],[0.6666666666666666,\"#ed7953\"],[0.7777777777777778,\"#fb9f3a\"],[0.8888888888888888,\"#fdca26\"],[1.0,\"#f0f921\"]]}],\"heatmap\":[{\"type\":\"heatmap\",\"colorbar\":{\"outlinewidth\":0,\"ticks\":\"\"},\"colorscale\":[[0.0,\"#0d0887\"],[0.1111111111111111,\"#46039f\"],[0.2222222222222222,\"#7201a8\"],[0.3333333333333333,\"#9c179e\"],[0.4444444444444444,\"#bd3786\"],[0.5555555555555556,\"#d8576b\"],[0.6666666666666666,\"#ed7953\"],[0.7777777777777778,\"#fb9f3a\"],[0.8888888888888888,\"#fdca26\"],[1.0,\"#f0f921\"]]}],\"heatmapgl\":[{\"type\":\"heatmapgl\",\"colorbar\":{\"outlinewidth\":0,\"ticks\":\"\"},\"colorscale\":[[0.0,\"#0d0887\"],[0.1111111111111111,\"#46039f\"],[0.2222222222222222,\"#7201a8\"],[0.3333333333333333,\"#9c179e\"],[0.4444444444444444,\"#bd3786\"],[0.5555555555555556,\"#d8576b\"],[0.6666666666666666,\"#ed7953\"],[0.7777777777777778,\"#fb9f3a\"],[0.8888888888888888,\"#fdca26\"],[1.0,\"#f0f921\"]]}],\"contourcarpet\":[{\"type\":\"contourcarpet\",\"colorbar\":{\"outlinewidth\":0,\"ticks\":\"\"}}],\"contour\":[{\"type\":\"contour\",\"colorbar\":{\"outlinewidth\":0,\"ticks\":\"\"},\"colorscale\":[[0.0,\"#0d0887\"],[0.1111111111111111,\"#46039f\"],[0.2222222222222222,\"#7201a8\"],[0.3333333333333333,\"#9c179e\"],[0.4444444444444444,\"#bd3786\"],[0.5555555555555556,\"#d8576b\"],[0.6666666666666666,\"#ed7953\"],[0.7777777777777778,\"#fb9f3a\"],[0.8888888888888888,\"#fdca26\"],[1.0,\"#f0f921\"]]}],\"surface\":[{\"type\":\"surface\",\"colorbar\":{\"outlinewidth\":0,\"ticks\":\"\"},\"colorscale\":[[0.0,\"#0d0887\"],[0.1111111111111111,\"#46039f\"],[0.2222222222222222,\"#7201a8\"],[0.3333333333333333,\"#9c179e\"],[0.4444444444444444,\"#bd3786\"],[0.5555555555555556,\"#d8576b\"],[0.6666666666666666,\"#ed7953\"],[0.7777777777777778,\"#fb9f3a\"],[0.8888888888888888,\"#fdca26\"],[1.0,\"#f0f921\"]]}],\"mesh3d\":[{\"type\":\"mesh3d\",\"colorbar\":{\"outlinewidth\":0,\"ticks\":\"\"}}],\"scatter\":[{\"fillpattern\":{\"fillmode\":\"overlay\",\"size\":10,\"solidity\":0.2},\"type\":\"scatter\"}],\"parcoords\":[{\"type\":\"parcoords\",\"line\":{\"colorbar\":{\"outlinewidth\":0,\"ticks\":\"\"}}}],\"scatterpolargl\":[{\"type\":\"scatterpolargl\",\"marker\":{\"colorbar\":{\"outlinewidth\":0,\"ticks\":\"\"}}}],\"bar\":[{\"error_x\":{\"color\":\"#2a3f5f\"},\"error_y\":{\"color\":\"#2a3f5f\"},\"marker\":{\"line\":{\"color\":\"#E5ECF6\",\"width\":0.5},\"pattern\":{\"fillmode\":\"overlay\",\"size\":10,\"solidity\":0.2}},\"type\":\"bar\"}],\"scattergeo\":[{\"type\":\"scattergeo\",\"marker\":{\"colorbar\":{\"outlinewidth\":0,\"ticks\":\"\"}}}],\"scatterpolar\":[{\"type\":\"scatterpolar\",\"marker\":{\"colorbar\":{\"outlinewidth\":0,\"ticks\":\"\"}}}],\"histogram\":[{\"marker\":{\"pattern\":{\"fillmode\":\"overlay\",\"size\":10,\"solidity\":0.2}},\"type\":\"histogram\"}],\"scattergl\":[{\"type\":\"scattergl\",\"marker\":{\"colorbar\":{\"outlinewidth\":0,\"ticks\":\"\"}}}],\"scatter3d\":[{\"type\":\"scatter3d\",\"line\":{\"colorbar\":{\"outlinewidth\":0,\"ticks\":\"\"}},\"marker\":{\"colorbar\":{\"outlinewidth\":0,\"ticks\":\"\"}}}],\"scattermapbox\":[{\"type\":\"scattermapbox\",\"marker\":{\"colorbar\":{\"outlinewidth\":0,\"ticks\":\"\"}}}],\"scatterternary\":[{\"type\":\"scatterternary\",\"marker\":{\"colorbar\":{\"outlinewidth\":0,\"ticks\":\"\"}}}],\"scattercarpet\":[{\"type\":\"scattercarpet\",\"marker\":{\"colorbar\":{\"outlinewidth\":0,\"ticks\":\"\"}}}],\"carpet\":[{\"aaxis\":{\"endlinecolor\":\"#2a3f5f\",\"gridcolor\":\"white\",\"linecolor\":\"white\",\"minorgridcolor\":\"white\",\"startlinecolor\":\"#2a3f5f\"},\"baxis\":{\"endlinecolor\":\"#2a3f5f\",\"gridcolor\":\"white\",\"linecolor\":\"white\",\"minorgridcolor\":\"white\",\"startlinecolor\":\"#2a3f5f\"},\"type\":\"carpet\"}],\"table\":[{\"cells\":{\"fill\":{\"color\":\"#EBF0F8\"},\"line\":{\"color\":\"white\"}},\"header\":{\"fill\":{\"color\":\"#C8D4E3\"},\"line\":{\"color\":\"white\"}},\"type\":\"table\"}],\"barpolar\":[{\"marker\":{\"line\":{\"color\":\"#E5ECF6\",\"width\":0.5},\"pattern\":{\"fillmode\":\"overlay\",\"size\":10,\"solidity\":0.2}},\"type\":\"barpolar\"}],\"pie\":[{\"automargin\":true,\"type\":\"pie\"}]},\"layout\":{\"autotypenumbers\":\"strict\",\"colorway\":[\"#636efa\",\"#EF553B\",\"#00cc96\",\"#ab63fa\",\"#FFA15A\",\"#19d3f3\",\"#FF6692\",\"#B6E880\",\"#FF97FF\",\"#FECB52\"],\"font\":{\"color\":\"#2a3f5f\"},\"hovermode\":\"closest\",\"hoverlabel\":{\"align\":\"left\"},\"paper_bgcolor\":\"white\",\"plot_bgcolor\":\"#E5ECF6\",\"polar\":{\"bgcolor\":\"#E5ECF6\",\"angularaxis\":{\"gridcolor\":\"white\",\"linecolor\":\"white\",\"ticks\":\"\"},\"radialaxis\":{\"gridcolor\":\"white\",\"linecolor\":\"white\",\"ticks\":\"\"}},\"ternary\":{\"bgcolor\":\"#E5ECF6\",\"aaxis\":{\"gridcolor\":\"white\",\"linecolor\":\"white\",\"ticks\":\"\"},\"baxis\":{\"gridcolor\":\"white\",\"linecolor\":\"white\",\"ticks\":\"\"},\"caxis\":{\"gridcolor\":\"white\",\"linecolor\":\"white\",\"ticks\":\"\"}},\"coloraxis\":{\"colorbar\":{\"outlinewidth\":0,\"ticks\":\"\"}},\"colorscale\":{\"sequential\":[[0.0,\"#0d0887\"],[0.1111111111111111,\"#46039f\"],[0.2222222222222222,\"#7201a8\"],[0.3333333333333333,\"#9c179e\"],[0.4444444444444444,\"#bd3786\"],[0.5555555555555556,\"#d8576b\"],[0.6666666666666666,\"#ed7953\"],[0.7777777777777778,\"#fb9f3a\"],[0.8888888888888888,\"#fdca26\"],[1.0,\"#f0f921\"]],\"sequentialminus\":[[0.0,\"#0d0887\"],[0.1111111111111111,\"#46039f\"],[0.2222222222222222,\"#7201a8\"],[0.3333333333333333,\"#9c179e\"],[0.4444444444444444,\"#bd3786\"],[0.5555555555555556,\"#d8576b\"],[0.6666666666666666,\"#ed7953\"],[0.7777777777777778,\"#fb9f3a\"],[0.8888888888888888,\"#fdca26\"],[1.0,\"#f0f921\"]],\"diverging\":[[0,\"#8e0152\"],[0.1,\"#c51b7d\"],[0.2,\"#de77ae\"],[0.3,\"#f1b6da\"],[0.4,\"#fde0ef\"],[0.5,\"#f7f7f7\"],[0.6,\"#e6f5d0\"],[0.7,\"#b8e186\"],[0.8,\"#7fbc41\"],[0.9,\"#4d9221\"],[1,\"#276419\"]]},\"xaxis\":{\"gridcolor\":\"white\",\"linecolor\":\"white\",\"ticks\":\"\",\"title\":{\"standoff\":15},\"zerolinecolor\":\"white\",\"automargin\":true,\"zerolinewidth\":2},\"yaxis\":{\"gridcolor\":\"white\",\"linecolor\":\"white\",\"ticks\":\"\",\"title\":{\"standoff\":15},\"zerolinecolor\":\"white\",\"automargin\":true,\"zerolinewidth\":2},\"scene\":{\"xaxis\":{\"backgroundcolor\":\"#E5ECF6\",\"gridcolor\":\"white\",\"linecolor\":\"white\",\"showbackground\":true,\"ticks\":\"\",\"zerolinecolor\":\"white\",\"gridwidth\":2},\"yaxis\":{\"backgroundcolor\":\"#E5ECF6\",\"gridcolor\":\"white\",\"linecolor\":\"white\",\"showbackground\":true,\"ticks\":\"\",\"zerolinecolor\":\"white\",\"gridwidth\":2},\"zaxis\":{\"backgroundcolor\":\"#E5ECF6\",\"gridcolor\":\"white\",\"linecolor\":\"white\",\"showbackground\":true,\"ticks\":\"\",\"zerolinecolor\":\"white\",\"gridwidth\":2}},\"shapedefaults\":{\"line\":{\"color\":\"#2a3f5f\"}},\"annotationdefaults\":{\"arrowcolor\":\"#2a3f5f\",\"arrowhead\":0,\"arrowwidth\":1},\"geo\":{\"bgcolor\":\"white\",\"landcolor\":\"#E5ECF6\",\"subunitcolor\":\"white\",\"showland\":true,\"showlakes\":true,\"lakecolor\":\"white\"},\"title\":{\"x\":0.05},\"mapbox\":{\"style\":\"light\"}}},\"xaxis\":{\"anchor\":\"y\",\"domain\":[0.0,1.0],\"title\":{\"text\":\"x\"}},\"yaxis\":{\"anchor\":\"x\",\"domain\":[0.0,1.0],\"title\":{\"text\":\"y\"}},\"legend\":{\"tracegroupgap\":0},\"margin\":{\"t\":60}},                        {\"responsive\": true}                    ).then(function(){\n",
              "                            \n",
              "var gd = document.getElementById('7ae9d3e0-7bd0-4684-ad79-f8d52afa7ba0');\n",
              "var x = new MutationObserver(function (mutations, observer) {{\n",
              "        var display = window.getComputedStyle(gd).display;\n",
              "        if (!display || display === 'none') {{\n",
              "            console.log([gd, 'removed!']);\n",
              "            Plotly.purge(gd);\n",
              "            observer.disconnect();\n",
              "        }}\n",
              "}});\n",
              "\n",
              "// Listen for the removal of the full notebook cells\n",
              "var notebookContainer = gd.closest('#notebook-container');\n",
              "if (notebookContainer) {{\n",
              "    x.observe(notebookContainer, {childList: true});\n",
              "}}\n",
              "\n",
              "// Listen for the clearing of the current output cell\n",
              "var outputEl = gd.closest('.output');\n",
              "if (outputEl) {{\n",
              "    x.observe(outputEl, {childList: true});\n",
              "}}\n",
              "\n",
              "                        })                };                            </script>        </div>\n",
              "</body>\n",
              "</html>"
            ]
          },
          "metadata": {},
          "output_type": "display_data"
        }
      ],
      "source": [
        "# Graficar los embedddings en 2D\n",
        "import plotly.graph_objects as go\n",
        "import plotly.express as px\n",
        "\n",
        "x_vals, y_vals, labels = reduce_dimensions(w2v_model_no_stopwords)\n",
        "\n",
        "MAX_WORDS=200\n",
        "fig = px.scatter(x=x_vals[:MAX_WORDS], y=y_vals[:MAX_WORDS], text=labels[:MAX_WORDS])\n",
        "fig.show(renderer=\"colab\") # esto para plotly en colab"
      ]
    },
    {
      "cell_type": "code",
      "execution_count": 41,
      "metadata": {
        "colab": {
          "base_uri": "https://localhost:8080/",
          "height": 542
        },
        "id": "jLVFpqCTIl5R",
        "outputId": "c886f8b2-6379-4498-9709-209b5e87f6e6"
      },
      "outputs": [
        {
          "data": {
            "text/html": [
              "<html>\n",
              "<head><meta charset=\"utf-8\" /></head>\n",
              "<body>\n",
              "    <div>            <script src=\"https://cdnjs.cloudflare.com/ajax/libs/mathjax/2.7.5/MathJax.js?config=TeX-AMS-MML_SVG\"></script><script type=\"text/javascript\">if (window.MathJax && window.MathJax.Hub && window.MathJax.Hub.Config) {window.MathJax.Hub.Config({SVG: {font: \"STIX-Web\"}});}</script>                <script type=\"text/javascript\">window.PlotlyConfig = {MathJaxConfig: 'local'};</script>\n",
              "        <script src=\"https://cdn.plot.ly/plotly-2.18.2.min.js\"></script>                <div id=\"e20ca703-252c-4f0e-877d-2c278b86bfbb\" class=\"plotly-graph-div\" style=\"height:525px; width:100%;\"></div>            <script type=\"text/javascript\">                                    window.PLOTLYENV=window.PLOTLYENV || {};                                    if (document.getElementById(\"e20ca703-252c-4f0e-877d-2c278b86bfbb\")) {                    Plotly.newPlot(                        \"e20ca703-252c-4f0e-877d-2c278b86bfbb\",                        [{\"hovertemplate\":\"x=%{x}<br>y=%{y}<br>text=%{text}<extra></extra>\",\"legendgroup\":\"\",\"marker\":{\"color\":\"#636efa\",\"symbol\":\"circle\"},\"mode\":\"markers+text\",\"name\":\"\",\"orientation\":\"v\",\"showlegend\":false,\"text\":[\"harry\",\"dijo\",\"ron\",\"no\",\"hagrid\",\"si\",\"hermione\",\"el\",\"la\",\"y\",\"vez\",\"se\",\"mientras\",\"snape\",\"pero\",\"dumbledore\",\"hacia\",\"tan\",\"dudley\",\"bien\",\"malfoy\",\"nunca\",\"pod\\u00eda\",\"parec\\u00eda\",\"puerta\",\"ver\",\"vernon\",\"profesora\",\"t\\u00edo\",\"neville\",\"quirrell\",\"potter\",\"los\",\"qu\\u00e9\",\"all\\u00ed\",\"hacer\",\"dursley\",\"en\",\"cabeza\",\"c\\u00f3mo\",\"pregunt\\u00f3\",\"dos\",\"por\",\"lo\",\"entonces\",\"gran\",\"mcgonagall\",\"gryffindor\",\"se\\u00f1or\",\"casi\",\"aqu\\u00ed\",\"bueno\",\"\\u00bb\",\"ojos\",\"as\\u00ed\",\"profesor\",\"es\",\"mir\\u00f3\",\"casa\",\"s\\u00f3lo\",\"era\",\"d\\u00eda\",\"mejor\",\"piedra\",\"lado\",\"\\u00ab\",\"ser\",\"dio\",\"tres\",\"voz\",\"hogwarts\",\"momento\",\"tiempo\",\"decir\",\"noche\",\"de\",\"se\\u00f1ora\",\"vamos\",\"ahora\",\"oh\",\"aire\",\"un\",\"hizo\",\"cosas\",\"luego\",\"cada\",\"despu\\u00e9s\",\"colegio\",\"gente\",\"yo\",\"verdad\",\"iba\",\"escoba\",\"a\\u00f1o\",\"capa\",\"cuenta\",\"weasley\",\"volvi\\u00f3\",\"t\\u00eda\",\"nadie\",\"varita\",\"dej\\u00f3\",\"mano\",\"suelo\",\"slytherin\",\"s\\u00e9\",\"s\\u00ed\",\"quidditch\",\"petunia\",\"todav\\u00eda\",\"toda\",\"visto\",\"tener\",\"wood\",\"ya\",\"grit\\u00f3\",\"tarde\",\"cuando\",\"siempre\",\"creo\",\"lugar\",\"aquel\",\"mismo\",\"estaba\",\"filch\",\"puedo\",\"sab\\u00eda\",\"vio\",\"cara\",\"detr\\u00e1s\",\"a\",\"haber\",\"puede\",\"clase\",\"ir\",\"una\",\"r\\u00e1pidamente\",\"las\",\"pronto\",\"espejo\",\"aunque\",\"cerca\",\"magia\",\"te\",\"hecho\",\"quiero\",\"aquella\",\"habitaci\\u00f3n\",\"madre\",\"qui\\u00e9n\",\"alguien\",\"pudo\",\"me\",\"respondi\\u00f3\",\"puso\",\"primer\",\"voy\",\"puntos\",\"vida\",\"padre\",\"saber\",\"primera\",\"seguro\",\"rostro\",\"tal\",\"sombrero\",\"comenz\\u00f3\",\"siguiente\",\"tratando\",\"mesa\",\"libros\",\"abri\\u00f3\",\"carta\",\"parte\",\"muchacho\",\"encima\",\"nombre\",\"al\",\"nariz\",\"lechuza\",\"d\\u00f3nde\",\"todos\",\"cama\",\"levant\\u00f3\",\"menos\",\"percy\",\"supuesto\",\"chico\",\"trav\\u00e9s\",\"voldemort\",\"hablar\",\"frente\",\"ma\\u00f1ana\",\"magos\",\"unas\",\"aquello\",\"a\\u00f1os\",\"vuelta\",\"haciendo\",\"sido\"],\"x\":[0.4085821509361267,-4.075587272644043,0.3906837999820709,-7.692272663116455,0.08995047211647034,-7.821140766143799,0.5208845138549805,3.6660196781158447,5.129688739776611,2.464931011199951,9.646553039550781,8.236255645751953,2.8903989791870117,-0.8719958662986755,-4.4321818351745605,-0.44677963852882385,13.680625915527344,-21.99566078186035,1.7672443389892578,-1.7875609397888184,1.3030396699905396,-10.167141914367676,-16.02640151977539,-17.489395141601562,7.081170558929443,-5.208347797393799,13.58224105834961,6.195639133453369,13.584856033325195,1.0877485275268555,-0.16064083576202393,-3.624807834625244,-2.6791443824768066,-12.236828804016113,-2.899524688720703,-5.854641914367676,7.6449408531188965,-1.7839020490646362,7.71754264831543,-9.05709457397461,-5.101047039031982,-2.934603452682495,5.868680953979492,-13.017318725585938,2.563323974609375,2.9366044998168945,6.203458786010742,-9.458565711975098,3.618349313735962,-1.7880748510360718,-10.00582504272461,-7.196929454803467,1.3090938329696655,-4.4175896644592285,-7.934370517730713,-0.05322085693478584,-8.309420585632324,13.762124061584473,4.903489589691162,-2.0637784004211426,-11.33450984954834,4.108637809753418,-17.506494522094727,5.906469821929932,6.493338108062744,1.5846538543701172,-7.781422138214111,14.815447807312012,-2.9962849617004395,9.182304382324219,-2.472895622253418,5.326656818389893,-6.562704086303711,-5.313930511474609,-2.0585923194885254,-0.28125476837158203,-9.88734245300293,-6.390020847320557,-7.400225639343262,-0.2393728792667389,11.561482429504395,4.8005828857421875,9.431020736694336,-3.7726423740386963,8.052571296691895,15.92898941040039,-11.327333450317383,6.597705364227295,0.750627338886261,-5.684253692626953,-11.439375877380371,-17.275150299072266,4.737668991088867,-11.609819412231445,1.7316724061965942,-15.813450813293457,5.788763999938965,17.957027435302734,5.2696919441223145,-8.935373306274414,15.437766075134277,15.906710624694824,6.151289463043213,13.525229454040527,-9.653131484985352,-10.174271583557129,-3.683133125305176,-13.239811897277832,5.2583794593811035,0.3227446973323822,1.913783311843872,-12.861859321594238,-6.263184547424316,0.290484756231308,-5.992861270904541,-1.961624264717102,-11.36290454864502,-16.212385177612305,-4.577991962432861,-8.436749458312988,6.03424596786499,-9.009659767150879,-13.63798999786377,0.9667578339576721,-1.12217116355896,-16.069477081298828,-15.07114315032959,9.580738067626953,2.9352469444274902,18.472639083862305,1.5807695388793945,-9.244115829467773,-9.842733383178711,4.680249214172363,-4.735203742980957,5.863412380218506,10.442556381225586,-5.694993495941162,9.56554889678955,-7.811759948730469,-4.3448991775512695,9.080648422241211,-2.9325075149536133,-8.971928596496582,-11.741406440734863,-15.839993476867676,-11.48596477508545,6.08967924118042,3.607970714569092,-12.349106788635254,-13.800119400024414,-16.208995819091797,-7.77798318862915,-4.31679630279541,17.004497528076172,-11.022344589233398,-9.870179176330566,-8.494149208068848,1.3676968812942505,-0.3087735176086426,-8.581992149353027,-17.177505493164062,-19.454376220703125,12.194269180297852,-2.143065929412842,12.207528114318848,3.9099981784820557,16.34568977355957,8.765759468078613,6.005285739898682,-6.436394691467285,15.921667098999023,5.725927352905273,3.9208149909973145,3.1669766902923584,18.201377868652344,-19.88733673095703,9.34056282043457,16.072284698486328,6.728470802307129,-10.948899269104004,-2.0986573696136475,5.596993923187256,16.67995262145996,-10.32790470123291,1.288808822631836,-11.07995319366455,4.813093662261963,3.2055251598358154,-3.7212631702423096,-5.529557704925537,12.000298500061035,-1.904710054397583,-4.199624061584473,10.872928619384766,-14.9948148727417,-8.841679573059082,4.976640224456787,-0.748202919960022,-12.605925559997559],\"xaxis\":\"x\",\"y\":[-6.346125602722168,-11.967815399169922,-6.41470193862915,-5.33536958694458,-7.221253395080566,-5.862036228179932,-6.437680244445801,-3.364907741546631,-1.7361725568771362,-3.47481369972229,1.6473273038864136,-3.6014997959136963,-3.96764874458313,-8.134980201721191,-4.521450996398926,-8.943090438842773,2.079026222229004,-4.3922834396362305,-4.672839641571045,-14.085304260253906,-7.592971324920654,-4.8184919357299805,-5.897089004516602,-3.9519495964050293,5.911766052246094,-4.027614116668701,-13.5377779006958,-13.73880672454834,-13.537979125976562,-7.289137840270996,-8.980127334594727,-14.658467292785645,3.4656193256378174,-11.544889450073242,-2.337223529815674,-4.597848415374756,-16.072242736816406,0.737522304058075,2.8634955883026123,-6.432130336761475,-12.110074996948242,6.066932678222656,-11.197124481201172,-8.790404319763184,-6.54487943649292,12.212207794189453,-13.770835876464844,5.172834873199463,-12.368598937988281,-5.819880485534668,-16.688289642333984,-15.450067520141602,-12.852392196655273,14.0874662399292,-2.819706678390503,-10.3489408493042,-15.475045204162598,-1.276110291481018,5.434216022491455,-3.3697242736816406,-0.43741869926452637,14.75027084350586,-0.018776629120111465,5.8370842933654785,9.60700511932373,-3.2500054836273193,-0.8226116895675659,3.3489084243774414,5.899447441101074,0.2748953402042389,-7.517199993133545,15.76907730102539,6.157795429229736,-3.5200257301330566,19.052539825439453,1.8606007099151611,18.67938995361328,-10.667797088623047,-10.684993743896484,-13.549864768981934,3.5101003646850586,-3.3304667472839355,-4.613483428955078,10.973026275634766,-6.260137557983398,2.32486891746521,13.191071510314941,11.833603858947754,4.89451265335083,-8.595821380615234,-10.958968162536621,-6.339761734008789,0.5170931816101074,3.1810812950134277,2.4196248054504395,-14.363626480102539,-5.374994277954102,-0.8526469469070435,-16.895801544189453,-5.435521602630615,13.577962875366211,-6.8353962898254395,2.0943024158477783,8.402360916137695,5.357437610626221,-14.946535110473633,-11.327829360961914,3.701749324798584,-16.90582847595215,-3.2981607913970947,5.318697929382324,-4.290332317352295,-2.6508049964904785,-5.871828079223633,-18.978761672973633,-15.712550163269043,13.27980899810791,3.0106077194213867,-5.280783653259277,-13.34242057800293,13.13104248046875,1.9740909337997437,-13.700298309326172,-3.973845958709717,-0.6950252056121826,-10.585929870605469,-7.3514909744262695,-3.962092161178589,0.3102678954601288,13.591277122497559,-1.9765360355377197,-3.6792545318603516,-8.551321983337402,7.763707160949707,-6.401573657989502,-1.6040772199630737,-2.4802629947662354,10.040324211120605,-9.838959693908691,-6.08565616607666,-2.9721908569335938,19.99042510986328,19.20054817199707,-12.061147689819336,-8.383001327514648,-10.357677459716797,6.906876564025879,4.544726848602295,-9.235124588012695,-12.228663444519043,-6.12202787399292,-5.857446193695068,-11.596009254455566,-12.583474159240723,-0.023983430117368698,8.747594833374023,-10.440902709960938,5.689342975616455,6.054965019226074,-17.313499450683594,-4.427019119262695,9.202603340148926,-10.453339576721191,9.861000061035156,0.559358537197113,7.836568832397461,-1.9017308950424194,11.362796783447266,-11.825665473937988,3.8392527103424072,13.506753921508789,-3.348381757736206,0.8381317257881165,6.998508453369141,-7.857820510864258,12.162914276123047,-7.235157489776611,20.199432373046875,-1.3958762884140015,0.26202070713043213,-6.860220909118652,-21.375959396362305,2.782109498977661,-2.3415231704711914,3.5654585361480713,-15.011368751525879,-15.986888885498047,-9.161438941955566,-1.5324143171310425,-6.553205966949463,-6.707259654998779,1.184439778327942,19.072845458984375,5.15117073059082,-17.80495262145996,-0.17902511358261108,7.248422622680664,1.957050085067749,-3.7375495433807373,-0.5509704947471619],\"yaxis\":\"y\",\"type\":\"scatter\"}],                        {\"template\":{\"data\":{\"histogram2dcontour\":[{\"type\":\"histogram2dcontour\",\"colorbar\":{\"outlinewidth\":0,\"ticks\":\"\"},\"colorscale\":[[0.0,\"#0d0887\"],[0.1111111111111111,\"#46039f\"],[0.2222222222222222,\"#7201a8\"],[0.3333333333333333,\"#9c179e\"],[0.4444444444444444,\"#bd3786\"],[0.5555555555555556,\"#d8576b\"],[0.6666666666666666,\"#ed7953\"],[0.7777777777777778,\"#fb9f3a\"],[0.8888888888888888,\"#fdca26\"],[1.0,\"#f0f921\"]]}],\"choropleth\":[{\"type\":\"choropleth\",\"colorbar\":{\"outlinewidth\":0,\"ticks\":\"\"}}],\"histogram2d\":[{\"type\":\"histogram2d\",\"colorbar\":{\"outlinewidth\":0,\"ticks\":\"\"},\"colorscale\":[[0.0,\"#0d0887\"],[0.1111111111111111,\"#46039f\"],[0.2222222222222222,\"#7201a8\"],[0.3333333333333333,\"#9c179e\"],[0.4444444444444444,\"#bd3786\"],[0.5555555555555556,\"#d8576b\"],[0.6666666666666666,\"#ed7953\"],[0.7777777777777778,\"#fb9f3a\"],[0.8888888888888888,\"#fdca26\"],[1.0,\"#f0f921\"]]}],\"heatmap\":[{\"type\":\"heatmap\",\"colorbar\":{\"outlinewidth\":0,\"ticks\":\"\"},\"colorscale\":[[0.0,\"#0d0887\"],[0.1111111111111111,\"#46039f\"],[0.2222222222222222,\"#7201a8\"],[0.3333333333333333,\"#9c179e\"],[0.4444444444444444,\"#bd3786\"],[0.5555555555555556,\"#d8576b\"],[0.6666666666666666,\"#ed7953\"],[0.7777777777777778,\"#fb9f3a\"],[0.8888888888888888,\"#fdca26\"],[1.0,\"#f0f921\"]]}],\"heatmapgl\":[{\"type\":\"heatmapgl\",\"colorbar\":{\"outlinewidth\":0,\"ticks\":\"\"},\"colorscale\":[[0.0,\"#0d0887\"],[0.1111111111111111,\"#46039f\"],[0.2222222222222222,\"#7201a8\"],[0.3333333333333333,\"#9c179e\"],[0.4444444444444444,\"#bd3786\"],[0.5555555555555556,\"#d8576b\"],[0.6666666666666666,\"#ed7953\"],[0.7777777777777778,\"#fb9f3a\"],[0.8888888888888888,\"#fdca26\"],[1.0,\"#f0f921\"]]}],\"contourcarpet\":[{\"type\":\"contourcarpet\",\"colorbar\":{\"outlinewidth\":0,\"ticks\":\"\"}}],\"contour\":[{\"type\":\"contour\",\"colorbar\":{\"outlinewidth\":0,\"ticks\":\"\"},\"colorscale\":[[0.0,\"#0d0887\"],[0.1111111111111111,\"#46039f\"],[0.2222222222222222,\"#7201a8\"],[0.3333333333333333,\"#9c179e\"],[0.4444444444444444,\"#bd3786\"],[0.5555555555555556,\"#d8576b\"],[0.6666666666666666,\"#ed7953\"],[0.7777777777777778,\"#fb9f3a\"],[0.8888888888888888,\"#fdca26\"],[1.0,\"#f0f921\"]]}],\"surface\":[{\"type\":\"surface\",\"colorbar\":{\"outlinewidth\":0,\"ticks\":\"\"},\"colorscale\":[[0.0,\"#0d0887\"],[0.1111111111111111,\"#46039f\"],[0.2222222222222222,\"#7201a8\"],[0.3333333333333333,\"#9c179e\"],[0.4444444444444444,\"#bd3786\"],[0.5555555555555556,\"#d8576b\"],[0.6666666666666666,\"#ed7953\"],[0.7777777777777778,\"#fb9f3a\"],[0.8888888888888888,\"#fdca26\"],[1.0,\"#f0f921\"]]}],\"mesh3d\":[{\"type\":\"mesh3d\",\"colorbar\":{\"outlinewidth\":0,\"ticks\":\"\"}}],\"scatter\":[{\"fillpattern\":{\"fillmode\":\"overlay\",\"size\":10,\"solidity\":0.2},\"type\":\"scatter\"}],\"parcoords\":[{\"type\":\"parcoords\",\"line\":{\"colorbar\":{\"outlinewidth\":0,\"ticks\":\"\"}}}],\"scatterpolargl\":[{\"type\":\"scatterpolargl\",\"marker\":{\"colorbar\":{\"outlinewidth\":0,\"ticks\":\"\"}}}],\"bar\":[{\"error_x\":{\"color\":\"#2a3f5f\"},\"error_y\":{\"color\":\"#2a3f5f\"},\"marker\":{\"line\":{\"color\":\"#E5ECF6\",\"width\":0.5},\"pattern\":{\"fillmode\":\"overlay\",\"size\":10,\"solidity\":0.2}},\"type\":\"bar\"}],\"scattergeo\":[{\"type\":\"scattergeo\",\"marker\":{\"colorbar\":{\"outlinewidth\":0,\"ticks\":\"\"}}}],\"scatterpolar\":[{\"type\":\"scatterpolar\",\"marker\":{\"colorbar\":{\"outlinewidth\":0,\"ticks\":\"\"}}}],\"histogram\":[{\"marker\":{\"pattern\":{\"fillmode\":\"overlay\",\"size\":10,\"solidity\":0.2}},\"type\":\"histogram\"}],\"scattergl\":[{\"type\":\"scattergl\",\"marker\":{\"colorbar\":{\"outlinewidth\":0,\"ticks\":\"\"}}}],\"scatter3d\":[{\"type\":\"scatter3d\",\"line\":{\"colorbar\":{\"outlinewidth\":0,\"ticks\":\"\"}},\"marker\":{\"colorbar\":{\"outlinewidth\":0,\"ticks\":\"\"}}}],\"scattermapbox\":[{\"type\":\"scattermapbox\",\"marker\":{\"colorbar\":{\"outlinewidth\":0,\"ticks\":\"\"}}}],\"scatterternary\":[{\"type\":\"scatterternary\",\"marker\":{\"colorbar\":{\"outlinewidth\":0,\"ticks\":\"\"}}}],\"scattercarpet\":[{\"type\":\"scattercarpet\",\"marker\":{\"colorbar\":{\"outlinewidth\":0,\"ticks\":\"\"}}}],\"carpet\":[{\"aaxis\":{\"endlinecolor\":\"#2a3f5f\",\"gridcolor\":\"white\",\"linecolor\":\"white\",\"minorgridcolor\":\"white\",\"startlinecolor\":\"#2a3f5f\"},\"baxis\":{\"endlinecolor\":\"#2a3f5f\",\"gridcolor\":\"white\",\"linecolor\":\"white\",\"minorgridcolor\":\"white\",\"startlinecolor\":\"#2a3f5f\"},\"type\":\"carpet\"}],\"table\":[{\"cells\":{\"fill\":{\"color\":\"#EBF0F8\"},\"line\":{\"color\":\"white\"}},\"header\":{\"fill\":{\"color\":\"#C8D4E3\"},\"line\":{\"color\":\"white\"}},\"type\":\"table\"}],\"barpolar\":[{\"marker\":{\"line\":{\"color\":\"#E5ECF6\",\"width\":0.5},\"pattern\":{\"fillmode\":\"overlay\",\"size\":10,\"solidity\":0.2}},\"type\":\"barpolar\"}],\"pie\":[{\"automargin\":true,\"type\":\"pie\"}]},\"layout\":{\"autotypenumbers\":\"strict\",\"colorway\":[\"#636efa\",\"#EF553B\",\"#00cc96\",\"#ab63fa\",\"#FFA15A\",\"#19d3f3\",\"#FF6692\",\"#B6E880\",\"#FF97FF\",\"#FECB52\"],\"font\":{\"color\":\"#2a3f5f\"},\"hovermode\":\"closest\",\"hoverlabel\":{\"align\":\"left\"},\"paper_bgcolor\":\"white\",\"plot_bgcolor\":\"#E5ECF6\",\"polar\":{\"bgcolor\":\"#E5ECF6\",\"angularaxis\":{\"gridcolor\":\"white\",\"linecolor\":\"white\",\"ticks\":\"\"},\"radialaxis\":{\"gridcolor\":\"white\",\"linecolor\":\"white\",\"ticks\":\"\"}},\"ternary\":{\"bgcolor\":\"#E5ECF6\",\"aaxis\":{\"gridcolor\":\"white\",\"linecolor\":\"white\",\"ticks\":\"\"},\"baxis\":{\"gridcolor\":\"white\",\"linecolor\":\"white\",\"ticks\":\"\"},\"caxis\":{\"gridcolor\":\"white\",\"linecolor\":\"white\",\"ticks\":\"\"}},\"coloraxis\":{\"colorbar\":{\"outlinewidth\":0,\"ticks\":\"\"}},\"colorscale\":{\"sequential\":[[0.0,\"#0d0887\"],[0.1111111111111111,\"#46039f\"],[0.2222222222222222,\"#7201a8\"],[0.3333333333333333,\"#9c179e\"],[0.4444444444444444,\"#bd3786\"],[0.5555555555555556,\"#d8576b\"],[0.6666666666666666,\"#ed7953\"],[0.7777777777777778,\"#fb9f3a\"],[0.8888888888888888,\"#fdca26\"],[1.0,\"#f0f921\"]],\"sequentialminus\":[[0.0,\"#0d0887\"],[0.1111111111111111,\"#46039f\"],[0.2222222222222222,\"#7201a8\"],[0.3333333333333333,\"#9c179e\"],[0.4444444444444444,\"#bd3786\"],[0.5555555555555556,\"#d8576b\"],[0.6666666666666666,\"#ed7953\"],[0.7777777777777778,\"#fb9f3a\"],[0.8888888888888888,\"#fdca26\"],[1.0,\"#f0f921\"]],\"diverging\":[[0,\"#8e0152\"],[0.1,\"#c51b7d\"],[0.2,\"#de77ae\"],[0.3,\"#f1b6da\"],[0.4,\"#fde0ef\"],[0.5,\"#f7f7f7\"],[0.6,\"#e6f5d0\"],[0.7,\"#b8e186\"],[0.8,\"#7fbc41\"],[0.9,\"#4d9221\"],[1,\"#276419\"]]},\"xaxis\":{\"gridcolor\":\"white\",\"linecolor\":\"white\",\"ticks\":\"\",\"title\":{\"standoff\":15},\"zerolinecolor\":\"white\",\"automargin\":true,\"zerolinewidth\":2},\"yaxis\":{\"gridcolor\":\"white\",\"linecolor\":\"white\",\"ticks\":\"\",\"title\":{\"standoff\":15},\"zerolinecolor\":\"white\",\"automargin\":true,\"zerolinewidth\":2},\"scene\":{\"xaxis\":{\"backgroundcolor\":\"#E5ECF6\",\"gridcolor\":\"white\",\"linecolor\":\"white\",\"showbackground\":true,\"ticks\":\"\",\"zerolinecolor\":\"white\",\"gridwidth\":2},\"yaxis\":{\"backgroundcolor\":\"#E5ECF6\",\"gridcolor\":\"white\",\"linecolor\":\"white\",\"showbackground\":true,\"ticks\":\"\",\"zerolinecolor\":\"white\",\"gridwidth\":2},\"zaxis\":{\"backgroundcolor\":\"#E5ECF6\",\"gridcolor\":\"white\",\"linecolor\":\"white\",\"showbackground\":true,\"ticks\":\"\",\"zerolinecolor\":\"white\",\"gridwidth\":2}},\"shapedefaults\":{\"line\":{\"color\":\"#2a3f5f\"}},\"annotationdefaults\":{\"arrowcolor\":\"#2a3f5f\",\"arrowhead\":0,\"arrowwidth\":1},\"geo\":{\"bgcolor\":\"white\",\"landcolor\":\"#E5ECF6\",\"subunitcolor\":\"white\",\"showland\":true,\"showlakes\":true,\"lakecolor\":\"white\"},\"title\":{\"x\":0.05},\"mapbox\":{\"style\":\"light\"}}},\"xaxis\":{\"anchor\":\"y\",\"domain\":[0.0,1.0],\"title\":{\"text\":\"x\"}},\"yaxis\":{\"anchor\":\"x\",\"domain\":[0.0,1.0],\"title\":{\"text\":\"y\"}},\"legend\":{\"tracegroupgap\":0},\"margin\":{\"t\":60}},                        {\"responsive\": true}                    ).then(function(){\n",
              "                            \n",
              "var gd = document.getElementById('e20ca703-252c-4f0e-877d-2c278b86bfbb');\n",
              "var x = new MutationObserver(function (mutations, observer) {{\n",
              "        var display = window.getComputedStyle(gd).display;\n",
              "        if (!display || display === 'none') {{\n",
              "            console.log([gd, 'removed!']);\n",
              "            Plotly.purge(gd);\n",
              "            observer.disconnect();\n",
              "        }}\n",
              "}});\n",
              "\n",
              "// Listen for the removal of the full notebook cells\n",
              "var notebookContainer = gd.closest('#notebook-container');\n",
              "if (notebookContainer) {{\n",
              "    x.observe(notebookContainer, {childList: true});\n",
              "}}\n",
              "\n",
              "// Listen for the clearing of the current output cell\n",
              "var outputEl = gd.closest('.output');\n",
              "if (outputEl) {{\n",
              "    x.observe(outputEl, {childList: true});\n",
              "}}\n",
              "\n",
              "                        })                };                            </script>        </div>\n",
              "</body>\n",
              "</html>"
            ]
          },
          "metadata": {},
          "output_type": "display_data"
        }
      ],
      "source": [
        "# Graficar los embedddings en 2D\n",
        "import plotly.graph_objects as go\n",
        "import plotly.express as px\n",
        "\n",
        "x_vals, y_vals, labels = reduce_dimensions(w2v_model_no_stopwords_cbow)\n",
        "\n",
        "MAX_WORDS=200\n",
        "fig = px.scatter(x=x_vals[:MAX_WORDS], y=y_vals[:MAX_WORDS], text=labels[:MAX_WORDS])\n",
        "fig.show(renderer=\"colab\") # esto para plotly en colab"
      ]
    },
    {
      "attachments": {},
      "cell_type": "markdown",
      "metadata": {
        "id": "yMM_SHSaZ9N-"
      },
      "source": [
        "### Alumno"
      ]
    },
    {
      "attachments": {},
      "cell_type": "markdown",
      "metadata": {
        "id": "WivQZ3ZCZ9N_"
      },
      "source": [
        "- Crear sus propios vectores con Gensim basado en lo visto en clase con otro dataset.\n",
        "- Probar términos de interés y explicar similitudes en el espacio de embeddings (sacar conclusiones entre palabras similitudes y diferencias).\n",
        "- Graficarlos.\n",
        "- Obtener conclusiones."
      ]
    },
    {
      "attachments": {},
      "cell_type": "markdown",
      "metadata": {
        "id": "p4fPW_y_FlsA"
      },
      "source": [
        "### Conclusiones\n",
        "\n",
        "Se han obtenido vectores para las palabras del primer libro de Harry potter usando diferentes enfoques al momento de entrenar los modelos, excluyendo o no stopwords y con CBOW o Skipgram.\n",
        "\n",
        "Tomando como referencia palabras clave que caracterizan el dataset y sus relacionadas, una primera impresión indicaría que, de los entrenados, el mejor modelo se obtuvo con una configuración CBOW excluyendo stopwords del dataset.\n",
        "Palabras como \"harry\" se relacionan o tienen mayor similaridad con otros nombres de personajes del libro, \"mago\" denota la relación más fuerte con \"muggle\" que es su antónimo en la ficción, y \"escoba\" está asociada directamente con \"nimbus\", modelo de la escoba usada por Harry.\n",
        "\n",
        "A su vez, en el espacio acotado de 2 dimensiones, se pueden apreciar clusters muy cerrados de palabras muy fuertemente asociadas entre ellas, como profesora y mcgonagall, tía y petunia, tío y vermont (que por contexto siempre figuran juntos), o slytheryn con gryffindor y puntos."
      ]
    },
    {
      "cell_type": "code",
      "execution_count": 40,
      "metadata": {
        "id": "-IP1NVR8FoUN"
      },
      "outputs": [],
      "source": []
    }
  ],
  "metadata": {
    "accelerator": "GPU",
    "colab": {
      "gpuType": "T4",
      "provenance": []
    },
    "gpuClass": "standard",
    "kernelspec": {
      "display_name": "Python 3 (ipykernel)",
      "language": "python",
      "name": "python3"
    },
    "language_info": {
      "codemirror_mode": {
        "name": "ipython",
        "version": 3
      },
      "file_extension": ".py",
      "mimetype": "text/x-python",
      "name": "python",
      "nbconvert_exporter": "python",
      "pygments_lexer": "ipython3",
      "version": "3.10.6"
    }
  },
  "nbformat": 4,
  "nbformat_minor": 0
}
